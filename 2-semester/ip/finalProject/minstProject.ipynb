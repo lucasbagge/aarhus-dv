{
 "metadata": {
  "language_info": {
   "codemirror_mode": {
    "name": "ipython",
    "version": 3
   },
   "file_extension": ".py",
   "mimetype": "text/x-python",
   "name": "python",
   "nbconvert_exporter": "python",
   "pygments_lexer": "ipython3",
   "version": "3.9.1"
  },
  "orig_nbformat": 2,
  "kernelspec": {
   "name": "python391jvsc74a57bd0aee8b7b246df8f9039afb4144a1f6fd8d2ca17a180786b69acc140d282b71a49",
   "display_name": "Python 3.9.1 64-bit"
  }
 },
 "nbformat": 4,
 "nbformat_minor": 2,
 "cells": [
  {
   "source": [
    "## a) Download the data"
   ],
   "cell_type": "markdown",
   "metadata": {}
  },
  {
   "cell_type": "code",
   "execution_count": 3,
   "metadata": {},
   "outputs": [],
   "source": [
    "import gzip\n",
    "import numpy as np\n",
    "import json\n",
    "import matplotlib.pyplot as plt\n",
    "from random import randint"
   ]
  },
  {
   "source": [
    "- Billede består af 28 times 28 pixles"
   ],
   "cell_type": "markdown",
   "metadata": {}
  },
  {
   "source": [
    "## b) \n",
    "\n",
    "Make a function read_labels(filename) to read a file containing labels (integers 0-9) in the format described under \"FILE FORMATS FOR THE MNIST DATABASE\". The function should return a list of integers. Test your method on the files t10k-labels.idx1-ubyte.gz and train-labels.idx1-ubyte.gz (the first five values of the 10.000 values in t10k-labels.idx1-ubyte.gz are [7, 2, 1, 0, 4]). The function should check if the magic number of the file is 2049.\n",
    "\n",
    "\n",
    "Hint: Open the files for reading in binary mode by providing open with the argument 'rb'. You can either uncompress the files using a program like 7zip, or work directly with the compressed files using the gzip module in Python. In particular gzip.open will be relevant. To convert 4 bytes to an integer int.from_bytes might become useful."
   ],
   "cell_type": "markdown",
   "metadata": {}
  },
  {
   "cell_type": "code",
   "execution_count": 55,
   "metadata": {},
   "outputs": [],
   "source": [
    "def _read32(bytestream):\n",
    "    dt = np.dtype(np.uint32).newbyteorder('>')\n",
    "    return np.frombuffer(bytestream.read(4), dtype=dt)[0]"
   ]
  },
  {
   "cell_type": "code",
   "execution_count": 56,
   "metadata": {},
   "outputs": [],
   "source": [
    "def read_labels(filename):\n",
    "    with gzip.open(filename, 'r') as f:\n",
    "        magic = _read32(f)\n",
    "        if magic != 2049:\n",
    "            raise ValueError('Invalid magic number %d in MNIST image file: %s' %\n",
    "                             (magic))\n",
    "        # second 4 bytes is the number of labels\n",
    "        label_count = int.from_bytes(f.read(4), 'big')\n",
    "        # rest is the label data, each label is stored as unsigned byte\n",
    "        # label values are 0 to 9\n",
    "        label_data = f.read()\n",
    "        labels = \n",
    "        return labels"
   ]
  },
  {
   "cell_type": "code",
   "execution_count": 57,
   "metadata": {},
   "outputs": [
    {
     "output_type": "stream",
     "name": "stdout",
     "text": [
      "The first five element: \n [7 2 1 0 4]\n"
     ]
    }
   ],
   "source": [
    "test =read_labels('t10k-labels-idx1-ubyte.gz')\n",
    "print(f'The first five element: \\n {test[:5]}')"
   ]
  },
  {
   "source": [
    "### c)\n",
    "\n",
    "Make a function read_images(filename) to read a file containing MNIST images in the format described under \"FILE FORMATS FOR THE MNIST DATABASE\". Test your method on the files t10k-images.idx3-ubyte.gz and train-images.idx3-ubyte.gz. The function should return a three dimensional list of integers, such that images[image][row][column] is a pixel value (an integer in the range 0..255), and 0 ≤ row, column < 28 and 0 ≤ image < 10000 for t10k-images.idx3-ubyte.gz. The function should check if the magic number of the file is 2051."
   ],
   "cell_type": "markdown",
   "metadata": {}
  },
  {
   "cell_type": "code",
   "execution_count": 58,
   "metadata": {},
   "outputs": [],
   "source": [
    "def read_images(filename):\n",
    "    with gzip.open(filename, 'r') as f:\n",
    "        magic = _read32(f)\n",
    "        if magic != 2051:\n",
    "            raise ValueError('Invalid magic number %d' %\n",
    "                             (magic))\n",
    "        # second 4 bytes is the number of images\n",
    "        image_count = int.from_bytes(f.read(4), 'big')\n",
    "        # third 4 bytes is the row count\n",
    "        row_count = int.from_bytes(f.read(4), 'big')\n",
    "        # fourth 4 bytes is the column count\n",
    "        column_count = int.from_bytes(f.read(4), 'big')\n",
    "        # rest is the image pixel data, each pixel is stored as an unsigned byte\n",
    "        # pixel values are 0 to 255\n",
    "        image_data = f.read()\n",
    "        images = np.frombuffer(image_data, dtype=np.uint8)\\\n",
    "            .reshape((image_count, row_count, column_count))\n",
    "        return images"
   ]
  },
  {
   "source": [
    "### c) \n",
    "\n",
    "Make a function plot_images(images, labels) to show a set of images and their corresponding labels as titles using imshow from matplotlib.pyplot. Show the first few images from t10k-images.idx3-ubyte.gz with their labels from t10k-labels.idx1-ubyte.gz as titles. Remember to select an appropriate colormap for imshow."
   ],
   "cell_type": "markdown",
   "metadata": {}
  },
  {
   "cell_type": "code",
   "execution_count": 59,
   "metadata": {},
   "outputs": [],
   "source": [
    "labels_t10k = read_labels('t10k-labels-idx1-ubyte.gz')\n",
    "images_t10k = read_images('t10k-images-idx3-ubyte.gz')"
   ]
  },
  {
   "cell_type": "code",
   "execution_count": 69,
   "metadata": {},
   "outputs": [
    {
     "output_type": "execute_result",
     "data": {
      "text/plain": [
       "array([[  0,   0,   0,   0,   0,   0,   0,   0,   0,   0,   0,   0,   0,\n",
       "          0,   0,   0,   0,   0,   0,   0,   0,   0,   0,   0,   0,   0,\n",
       "          0,   0],\n",
       "       [  0,   0,   0,   0,   0,   0,   0,   0,   0,   0,   0,   0,   0,\n",
       "          0,   0,   0,   0,   0,   0,   0,   0,   0,   0,   0,   0,   0,\n",
       "          0,   0],\n",
       "       [  0,   0,   0,   0,   0,   0,   0,   0,   0,   0,   0,   0,   0,\n",
       "          0,   0,   0,   0,   0,   0,   0,   0,   0,   0,   0,   0,   0,\n",
       "          0,   0],\n",
       "       [  0,   0,   0,   0,   0,   0,   0,   0,   0,   0, 116, 125, 171,\n",
       "        255, 255, 150,  93,   0,   0,   0,   0,   0,   0,   0,   0,   0,\n",
       "          0,   0],\n",
       "       [  0,   0,   0,   0,   0,   0,   0,   0,   0, 169, 253, 253, 253,\n",
       "        253, 253, 253, 218,  30,   0,   0,   0,   0,   0,   0,   0,   0,\n",
       "          0,   0],\n",
       "       [  0,   0,   0,   0,   0,   0,   0,   0, 169, 253, 253, 253, 213,\n",
       "        142, 176, 253, 253, 122,   0,   0,   0,   0,   0,   0,   0,   0,\n",
       "          0,   0],\n",
       "       [  0,   0,   0,   0,   0,   0,   0,  52, 250, 253, 210,  32,  12,\n",
       "          0,   6, 206, 253, 140,   0,   0,   0,   0,   0,   0,   0,   0,\n",
       "          0,   0],\n",
       "       [  0,   0,   0,   0,   0,   0,   0,  77, 251, 210,  25,   0,   0,\n",
       "          0, 122, 248, 253,  65,   0,   0,   0,   0,   0,   0,   0,   0,\n",
       "          0,   0],\n",
       "       [  0,   0,   0,   0,   0,   0,   0,   0,  31,  18,   0,   0,   0,\n",
       "          0, 209, 253, 253,  65,   0,   0,   0,   0,   0,   0,   0,   0,\n",
       "          0,   0],\n",
       "       [  0,   0,   0,   0,   0,   0,   0,   0,   0,   0,   0,   0,   0,\n",
       "        117, 247, 253, 198,  10,   0,   0,   0,   0,   0,   0,   0,   0,\n",
       "          0,   0],\n",
       "       [  0,   0,   0,   0,   0,   0,   0,   0,   0,   0,   0,   0,  76,\n",
       "        247, 253, 231,  63,   0,   0,   0,   0,   0,   0,   0,   0,   0,\n",
       "          0,   0],\n",
       "       [  0,   0,   0,   0,   0,   0,   0,   0,   0,   0,   0,   0, 128,\n",
       "        253, 253, 144,   0,   0,   0,   0,   0,   0,   0,   0,   0,   0,\n",
       "          0,   0],\n",
       "       [  0,   0,   0,   0,   0,   0,   0,   0,   0,   0,   0, 176, 246,\n",
       "        253, 159,  12,   0,   0,   0,   0,   0,   0,   0,   0,   0,   0,\n",
       "          0,   0],\n",
       "       [  0,   0,   0,   0,   0,   0,   0,   0,   0,   0,  25, 234, 253,\n",
       "        233,  35,   0,   0,   0,   0,   0,   0,   0,   0,   0,   0,   0,\n",
       "          0,   0],\n",
       "       [  0,   0,   0,   0,   0,   0,   0,   0,   0,   0, 198, 253, 253,\n",
       "        141,   0,   0,   0,   0,   0,   0,   0,   0,   0,   0,   0,   0,\n",
       "          0,   0],\n",
       "       [  0,   0,   0,   0,   0,   0,   0,   0,   0,  78, 248, 253, 189,\n",
       "         12,   0,   0,   0,   0,   0,   0,   0,   0,   0,   0,   0,   0,\n",
       "          0,   0],\n",
       "       [  0,   0,   0,   0,   0,   0,   0,   0,  19, 200, 253, 253, 141,\n",
       "          0,   0,   0,   0,   0,   0,   0,   0,   0,   0,   0,   0,   0,\n",
       "          0,   0],\n",
       "       [  0,   0,   0,   0,   0,   0,   0,   0, 134, 253, 253, 173,  12,\n",
       "          0,   0,   0,   0,   0,   0,   0,   0,   0,   0,   0,   0,   0,\n",
       "          0,   0],\n",
       "       [  0,   0,   0,   0,   0,   0,   0,   0, 248, 253, 253,  25,   0,\n",
       "          0,   0,   0,   0,   0,   0,   0,   0,   0,   0,   0,   0,   0,\n",
       "          0,   0],\n",
       "       [  0,   0,   0,   0,   0,   0,   0,   0, 248, 253, 253,  43,  20,\n",
       "         20,  20,  20,   5,   0,   5,  20,  20,  37, 150, 150, 150, 147,\n",
       "         10,   0],\n",
       "       [  0,   0,   0,   0,   0,   0,   0,   0, 248, 253, 253, 253, 253,\n",
       "        253, 253, 253, 168, 143, 166, 253, 253, 253, 253, 253, 253, 253,\n",
       "        123,   0],\n",
       "       [  0,   0,   0,   0,   0,   0,   0,   0, 174, 253, 253, 253, 253,\n",
       "        253, 253, 253, 253, 253, 253, 253, 249, 247, 247, 169, 117, 117,\n",
       "         57,   0],\n",
       "       [  0,   0,   0,   0,   0,   0,   0,   0,   0, 118, 123, 123, 123,\n",
       "        166, 253, 253, 253, 155, 123, 123,  41,   0,   0,   0,   0,   0,\n",
       "          0,   0],\n",
       "       [  0,   0,   0,   0,   0,   0,   0,   0,   0,   0,   0,   0,   0,\n",
       "          0,   0,   0,   0,   0,   0,   0,   0,   0,   0,   0,   0,   0,\n",
       "          0,   0],\n",
       "       [  0,   0,   0,   0,   0,   0,   0,   0,   0,   0,   0,   0,   0,\n",
       "          0,   0,   0,   0,   0,   0,   0,   0,   0,   0,   0,   0,   0,\n",
       "          0,   0],\n",
       "       [  0,   0,   0,   0,   0,   0,   0,   0,   0,   0,   0,   0,   0,\n",
       "          0,   0,   0,   0,   0,   0,   0,   0,   0,   0,   0,   0,   0,\n",
       "          0,   0],\n",
       "       [  0,   0,   0,   0,   0,   0,   0,   0,   0,   0,   0,   0,   0,\n",
       "          0,   0,   0,   0,   0,   0,   0,   0,   0,   0,   0,   0,   0,\n",
       "          0,   0],\n",
       "       [  0,   0,   0,   0,   0,   0,   0,   0,   0,   0,   0,   0,   0,\n",
       "          0,   0,   0,   0,   0,   0,   0,   0,   0,   0,   0,   0,   0,\n",
       "          0,   0]], dtype=uint8)"
      ]
     },
     "metadata": {},
     "execution_count": 69
    }
   ],
   "source": []
  },
  {
   "cell_type": "code",
   "execution_count": null,
   "metadata": {},
   "outputs": [],
   "source": []
  },
  {
   "cell_type": "code",
   "execution_count": 124,
   "metadata": {},
   "outputs": [],
   "source": [
    "def plot_images(images_t10k, labels_t10k):\n",
    "    num = 8\n",
    "    images = labels_t10k[:num]\n",
    "    labels = images_t10k[:num]\n",
    "    num_row = 2\n",
    "    num_col = 4\n",
    "    fig, axes = plt.subplots(num_row, num_col, figsize=(1.5*num_col,2*num_row))\n",
    "    for i in range(num):\n",
    "        ax = axes[i//num_col, i%num_col]\n",
    "        ax.imshow(images[i], cmap='gray')\n",
    "        ax.set_title('Label: {}'.format(labels[i]))\n",
    "    plt.tight_layout()\n",
    "    plt.show()"
   ]
  },
  {
   "cell_type": "code",
   "execution_count": 125,
   "metadata": {},
   "outputs": [
    {
     "output_type": "display_data",
     "data": {
      "text/plain": "<Figure size 432x288 with 8 Axes>",
      "image/svg+xml": "<?xml version=\"1.0\" encoding=\"utf-8\" standalone=\"no\"?>\n<!DOCTYPE svg PUBLIC \"-//W3C//DTD SVG 1.1//EN\"\n  \"http://www.w3.org/Graphics/SVG/1.1/DTD/svg11.dtd\">\n<!-- Created with matplotlib (https://matplotlib.org/) -->\n<svg height=\"259.67125pt\" version=\"1.1\" viewBox=\"0 0 424.9 259.67125\" width=\"424.9pt\" xmlns=\"http://www.w3.org/2000/svg\" xmlns:xlink=\"http://www.w3.org/1999/xlink\">\n <metadata>\n  <rdf:RDF xmlns:cc=\"http://creativecommons.org/ns#\" xmlns:dc=\"http://purl.org/dc/elements/1.1/\" xmlns:rdf=\"http://www.w3.org/1999/02/22-rdf-syntax-ns#\">\n   <cc:Work>\n    <dc:type rdf:resource=\"http://purl.org/dc/dcmitype/StillImage\"/>\n    <dc:date>2021-05-18T23:55:00.847444</dc:date>\n    <dc:format>image/svg+xml</dc:format>\n    <dc:creator>\n     <cc:Agent>\n      <dc:title>Matplotlib v3.3.4, https://matplotlib.org/</dc:title>\n     </cc:Agent>\n    </dc:creator>\n   </cc:Work>\n  </rdf:RDF>\n </metadata>\n <defs>\n  <style type=\"text/css\">*{stroke-linecap:butt;stroke-linejoin:round;}</style>\n </defs>\n <g id=\"figure_1\">\n  <g id=\"patch_1\">\n   <path d=\"M 0 259.67125 \nL 424.9 259.67125 \nL 424.9 0 \nL 0 0 \nz\n\" style=\"fill:none;\"/>\n  </g>\n  <g id=\"axes_1\">\n   <g id=\"patch_2\">\n    <path d=\"M 26.925 97.193125 \nL 101.8 97.193125 \nL 101.8 22.318125 \nL 26.925 22.318125 \nz\n\" style=\"fill:#ffffff;\"/>\n   </g>\n   <g clip-path=\"url(#pa237675b3d)\">\n    <image height=\"75\" id=\"image7b3a818882\" transform=\"scale(1 -1)translate(0 -75)\" width=\"75\" x=\"26.925\" xlink:href=\"data:image/png;base64,\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\" y=\"-22.193125\"/>\n   </g>\n   <g id=\"matplotlib.axis_1\">\n    <g id=\"xtick_1\">\n     <g id=\"line2d_1\">\n      <defs>\n       <path d=\"M 0 0 \nL 0 3.5 \n\" id=\"m9ebf85fe79\" style=\"stroke:#000000;stroke-width:0.8;\"/>\n      </defs>\n      <g>\n       <use style=\"stroke:#000000;stroke-width:0.8;\" x=\"28.262054\" xlink:href=\"#m9ebf85fe79\" y=\"97.193125\"/>\n      </g>\n     </g>\n     <g id=\"text_1\">\n      <!-- 0 -->\n      <g transform=\"translate(25.080804 111.791562)scale(0.1 -0.1)\">\n       <defs>\n        <path d=\"M 31.78125 66.40625 \nQ 24.171875 66.40625 20.328125 58.90625 \nQ 16.5 51.421875 16.5 36.375 \nQ 16.5 21.390625 20.328125 13.890625 \nQ 24.171875 6.390625 31.78125 6.390625 \nQ 39.453125 6.390625 43.28125 13.890625 \nQ 47.125 21.390625 47.125 36.375 \nQ 47.125 51.421875 43.28125 58.90625 \nQ 39.453125 66.40625 31.78125 66.40625 \nz\nM 31.78125 74.21875 \nQ 44.046875 74.21875 50.515625 64.515625 \nQ 56.984375 54.828125 56.984375 36.375 \nQ 56.984375 17.96875 50.515625 8.265625 \nQ 44.046875 -1.421875 31.78125 -1.421875 \nQ 19.53125 -1.421875 13.0625 8.265625 \nQ 6.59375 17.96875 6.59375 36.375 \nQ 6.59375 54.828125 13.0625 64.515625 \nQ 19.53125 74.21875 31.78125 74.21875 \nz\n\" id=\"DejaVuSans-48\"/>\n       </defs>\n       <use xlink:href=\"#DejaVuSans-48\"/>\n      </g>\n     </g>\n    </g>\n    <g id=\"xtick_2\">\n     <g id=\"line2d_2\">\n      <g>\n       <use style=\"stroke:#000000;stroke-width:0.8;\" x=\"81.744196\" xlink:href=\"#m9ebf85fe79\" y=\"97.193125\"/>\n      </g>\n     </g>\n     <g id=\"text_2\">\n      <!-- 20 -->\n      <g transform=\"translate(75.381696 111.791562)scale(0.1 -0.1)\">\n       <defs>\n        <path d=\"M 19.1875 8.296875 \nL 53.609375 8.296875 \nL 53.609375 0 \nL 7.328125 0 \nL 7.328125 8.296875 \nQ 12.9375 14.109375 22.625 23.890625 \nQ 32.328125 33.6875 34.8125 36.53125 \nQ 39.546875 41.84375 41.421875 45.53125 \nQ 43.3125 49.21875 43.3125 52.78125 \nQ 43.3125 58.59375 39.234375 62.25 \nQ 35.15625 65.921875 28.609375 65.921875 \nQ 23.96875 65.921875 18.8125 64.3125 \nQ 13.671875 62.703125 7.8125 59.421875 \nL 7.8125 69.390625 \nQ 13.765625 71.78125 18.9375 73 \nQ 24.125 74.21875 28.421875 74.21875 \nQ 39.75 74.21875 46.484375 68.546875 \nQ 53.21875 62.890625 53.21875 53.421875 \nQ 53.21875 48.921875 51.53125 44.890625 \nQ 49.859375 40.875 45.40625 35.40625 \nQ 44.1875 33.984375 37.640625 27.21875 \nQ 31.109375 20.453125 19.1875 8.296875 \nz\n\" id=\"DejaVuSans-50\"/>\n       </defs>\n       <use xlink:href=\"#DejaVuSans-50\"/>\n       <use x=\"63.623047\" xlink:href=\"#DejaVuSans-48\"/>\n      </g>\n     </g>\n    </g>\n   </g>\n   <g id=\"matplotlib.axis_2\">\n    <g id=\"ytick_1\">\n     <g id=\"line2d_3\">\n      <defs>\n       <path d=\"M 0 0 \nL -3.5 0 \n\" id=\"m4e5055aaef\" style=\"stroke:#000000;stroke-width:0.8;\"/>\n      </defs>\n      <g>\n       <use style=\"stroke:#000000;stroke-width:0.8;\" x=\"26.925\" xlink:href=\"#m4e5055aaef\" y=\"23.655179\"/>\n      </g>\n     </g>\n     <g id=\"text_3\">\n      <!-- 0 -->\n      <g transform=\"translate(13.5625 27.454397)scale(0.1 -0.1)\">\n       <use xlink:href=\"#DejaVuSans-48\"/>\n      </g>\n     </g>\n    </g>\n    <g id=\"ytick_2\">\n     <g id=\"line2d_4\">\n      <g>\n       <use style=\"stroke:#000000;stroke-width:0.8;\" x=\"26.925\" xlink:href=\"#m4e5055aaef\" y=\"50.39625\"/>\n      </g>\n     </g>\n     <g id=\"text_4\">\n      <!-- 10 -->\n      <g transform=\"translate(7.2 54.195469)scale(0.1 -0.1)\">\n       <defs>\n        <path d=\"M 12.40625 8.296875 \nL 28.515625 8.296875 \nL 28.515625 63.921875 \nL 10.984375 60.40625 \nL 10.984375 69.390625 \nL 28.421875 72.90625 \nL 38.28125 72.90625 \nL 38.28125 8.296875 \nL 54.390625 8.296875 \nL 54.390625 0 \nL 12.40625 0 \nz\n\" id=\"DejaVuSans-49\"/>\n       </defs>\n       <use xlink:href=\"#DejaVuSans-49\"/>\n       <use x=\"63.623047\" xlink:href=\"#DejaVuSans-48\"/>\n      </g>\n     </g>\n    </g>\n    <g id=\"ytick_3\">\n     <g id=\"line2d_5\">\n      <g>\n       <use style=\"stroke:#000000;stroke-width:0.8;\" x=\"26.925\" xlink:href=\"#m4e5055aaef\" y=\"77.137321\"/>\n      </g>\n     </g>\n     <g id=\"text_5\">\n      <!-- 20 -->\n      <g transform=\"translate(7.2 80.93654)scale(0.1 -0.1)\">\n       <use xlink:href=\"#DejaVuSans-50\"/>\n       <use x=\"63.623047\" xlink:href=\"#DejaVuSans-48\"/>\n      </g>\n     </g>\n    </g>\n   </g>\n   <g id=\"patch_3\">\n    <path d=\"M 26.925 97.193125 \nL 26.925 22.318125 \n\" style=\"fill:none;stroke:#000000;stroke-linecap:square;stroke-linejoin:miter;stroke-width:0.8;\"/>\n   </g>\n   <g id=\"patch_4\">\n    <path d=\"M 101.8 97.193125 \nL 101.8 22.318125 \n\" style=\"fill:none;stroke:#000000;stroke-linecap:square;stroke-linejoin:miter;stroke-width:0.8;\"/>\n   </g>\n   <g id=\"patch_5\">\n    <path d=\"M 26.925 97.193125 \nL 101.8 97.193125 \n\" style=\"fill:none;stroke:#000000;stroke-linecap:square;stroke-linejoin:miter;stroke-width:0.8;\"/>\n   </g>\n   <g id=\"patch_6\">\n    <path d=\"M 26.925 22.318125 \nL 101.8 22.318125 \n\" style=\"fill:none;stroke:#000000;stroke-linecap:square;stroke-linejoin:miter;stroke-width:0.8;\"/>\n   </g>\n   <g id=\"text_6\">\n    <!-- Label: 7 -->\n    <g transform=\"translate(40.429062 16.318125)scale(0.12 -0.12)\">\n     <defs>\n      <path d=\"M 9.8125 72.90625 \nL 19.671875 72.90625 \nL 19.671875 8.296875 \nL 55.171875 8.296875 \nL 55.171875 0 \nL 9.8125 0 \nz\n\" id=\"DejaVuSans-76\"/>\n      <path d=\"M 34.28125 27.484375 \nQ 23.390625 27.484375 19.1875 25 \nQ 14.984375 22.515625 14.984375 16.5 \nQ 14.984375 11.71875 18.140625 8.90625 \nQ 21.296875 6.109375 26.703125 6.109375 \nQ 34.1875 6.109375 38.703125 11.40625 \nQ 43.21875 16.703125 43.21875 25.484375 \nL 43.21875 27.484375 \nz\nM 52.203125 31.203125 \nL 52.203125 0 \nL 43.21875 0 \nL 43.21875 8.296875 \nQ 40.140625 3.328125 35.546875 0.953125 \nQ 30.953125 -1.421875 24.3125 -1.421875 \nQ 15.921875 -1.421875 10.953125 3.296875 \nQ 6 8.015625 6 15.921875 \nQ 6 25.140625 12.171875 29.828125 \nQ 18.359375 34.515625 30.609375 34.515625 \nL 43.21875 34.515625 \nL 43.21875 35.40625 \nQ 43.21875 41.609375 39.140625 45 \nQ 35.0625 48.390625 27.6875 48.390625 \nQ 23 48.390625 18.546875 47.265625 \nQ 14.109375 46.140625 10.015625 43.890625 \nL 10.015625 52.203125 \nQ 14.9375 54.109375 19.578125 55.046875 \nQ 24.21875 56 28.609375 56 \nQ 40.484375 56 46.34375 49.84375 \nQ 52.203125 43.703125 52.203125 31.203125 \nz\n\" id=\"DejaVuSans-97\"/>\n      <path d=\"M 48.6875 27.296875 \nQ 48.6875 37.203125 44.609375 42.84375 \nQ 40.53125 48.484375 33.40625 48.484375 \nQ 26.265625 48.484375 22.1875 42.84375 \nQ 18.109375 37.203125 18.109375 27.296875 \nQ 18.109375 17.390625 22.1875 11.75 \nQ 26.265625 6.109375 33.40625 6.109375 \nQ 40.53125 6.109375 44.609375 11.75 \nQ 48.6875 17.390625 48.6875 27.296875 \nz\nM 18.109375 46.390625 \nQ 20.953125 51.265625 25.265625 53.625 \nQ 29.59375 56 35.59375 56 \nQ 45.5625 56 51.78125 48.09375 \nQ 58.015625 40.1875 58.015625 27.296875 \nQ 58.015625 14.40625 51.78125 6.484375 \nQ 45.5625 -1.421875 35.59375 -1.421875 \nQ 29.59375 -1.421875 25.265625 0.953125 \nQ 20.953125 3.328125 18.109375 8.203125 \nL 18.109375 0 \nL 9.078125 0 \nL 9.078125 75.984375 \nL 18.109375 75.984375 \nz\n\" id=\"DejaVuSans-98\"/>\n      <path d=\"M 56.203125 29.59375 \nL 56.203125 25.203125 \nL 14.890625 25.203125 \nQ 15.484375 15.921875 20.484375 11.0625 \nQ 25.484375 6.203125 34.421875 6.203125 \nQ 39.59375 6.203125 44.453125 7.46875 \nQ 49.3125 8.734375 54.109375 11.28125 \nL 54.109375 2.78125 \nQ 49.265625 0.734375 44.1875 -0.34375 \nQ 39.109375 -1.421875 33.890625 -1.421875 \nQ 20.796875 -1.421875 13.15625 6.1875 \nQ 5.515625 13.8125 5.515625 26.8125 \nQ 5.515625 40.234375 12.765625 48.109375 \nQ 20.015625 56 32.328125 56 \nQ 43.359375 56 49.78125 48.890625 \nQ 56.203125 41.796875 56.203125 29.59375 \nz\nM 47.21875 32.234375 \nQ 47.125 39.59375 43.09375 43.984375 \nQ 39.0625 48.390625 32.421875 48.390625 \nQ 24.90625 48.390625 20.390625 44.140625 \nQ 15.875 39.890625 15.1875 32.171875 \nz\n\" id=\"DejaVuSans-101\"/>\n      <path d=\"M 9.421875 75.984375 \nL 18.40625 75.984375 \nL 18.40625 0 \nL 9.421875 0 \nz\n\" id=\"DejaVuSans-108\"/>\n      <path d=\"M 11.71875 12.40625 \nL 22.015625 12.40625 \nL 22.015625 0 \nL 11.71875 0 \nz\nM 11.71875 51.703125 \nL 22.015625 51.703125 \nL 22.015625 39.3125 \nL 11.71875 39.3125 \nz\n\" id=\"DejaVuSans-58\"/>\n      <path id=\"DejaVuSans-32\"/>\n      <path d=\"M 8.203125 72.90625 \nL 55.078125 72.90625 \nL 55.078125 68.703125 \nL 28.609375 0 \nL 18.3125 0 \nL 43.21875 64.59375 \nL 8.203125 64.59375 \nz\n\" id=\"DejaVuSans-55\"/>\n     </defs>\n     <use xlink:href=\"#DejaVuSans-76\"/>\n     <use x=\"55.712891\" xlink:href=\"#DejaVuSans-97\"/>\n     <use x=\"116.992188\" xlink:href=\"#DejaVuSans-98\"/>\n     <use x=\"180.46875\" xlink:href=\"#DejaVuSans-101\"/>\n     <use x=\"241.992188\" xlink:href=\"#DejaVuSans-108\"/>\n     <use x=\"269.775391\" xlink:href=\"#DejaVuSans-58\"/>\n     <use x=\"303.466797\" xlink:href=\"#DejaVuSans-32\"/>\n     <use x=\"335.253906\" xlink:href=\"#DejaVuSans-55\"/>\n    </g>\n   </g>\n  </g>\n  <g id=\"axes_2\">\n   <g id=\"patch_7\">\n    <path d=\"M 132.225 97.193125 \nL 207.1 97.193125 \nL 207.1 22.318125 \nL 132.225 22.318125 \nz\n\" style=\"fill:#ffffff;\"/>\n   </g>\n   <g clip-path=\"url(#pcf18c9ffc6)\">\n    <image height=\"75\" id=\"imagea50506596a\" transform=\"scale(1 -1)translate(0 -75)\" width=\"75\" x=\"132.225\" xlink:href=\"data:image/png;base64,\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\" y=\"-22.193125\"/>\n   </g>\n   <g id=\"matplotlib.axis_3\">\n    <g id=\"xtick_3\">\n     <g id=\"line2d_6\">\n      <g>\n       <use style=\"stroke:#000000;stroke-width:0.8;\" x=\"133.562054\" xlink:href=\"#m9ebf85fe79\" y=\"97.193125\"/>\n      </g>\n     </g>\n     <g id=\"text_7\">\n      <!-- 0 -->\n      <g transform=\"translate(130.380804 111.791562)scale(0.1 -0.1)\">\n       <use xlink:href=\"#DejaVuSans-48\"/>\n      </g>\n     </g>\n    </g>\n    <g id=\"xtick_4\">\n     <g id=\"line2d_7\">\n      <g>\n       <use style=\"stroke:#000000;stroke-width:0.8;\" x=\"187.044196\" xlink:href=\"#m9ebf85fe79\" y=\"97.193125\"/>\n      </g>\n     </g>\n     <g id=\"text_8\">\n      <!-- 20 -->\n      <g transform=\"translate(180.681696 111.791562)scale(0.1 -0.1)\">\n       <use xlink:href=\"#DejaVuSans-50\"/>\n       <use x=\"63.623047\" xlink:href=\"#DejaVuSans-48\"/>\n      </g>\n     </g>\n    </g>\n   </g>\n   <g id=\"matplotlib.axis_4\">\n    <g id=\"ytick_4\">\n     <g id=\"line2d_8\">\n      <g>\n       <use style=\"stroke:#000000;stroke-width:0.8;\" x=\"132.225\" xlink:href=\"#m4e5055aaef\" y=\"23.655179\"/>\n      </g>\n     </g>\n     <g id=\"text_9\">\n      <!-- 0 -->\n      <g transform=\"translate(118.8625 27.454397)scale(0.1 -0.1)\">\n       <use xlink:href=\"#DejaVuSans-48\"/>\n      </g>\n     </g>\n    </g>\n    <g id=\"ytick_5\">\n     <g id=\"line2d_9\">\n      <g>\n       <use style=\"stroke:#000000;stroke-width:0.8;\" x=\"132.225\" xlink:href=\"#m4e5055aaef\" y=\"50.39625\"/>\n      </g>\n     </g>\n     <g id=\"text_10\">\n      <!-- 10 -->\n      <g transform=\"translate(112.5 54.195469)scale(0.1 -0.1)\">\n       <use xlink:href=\"#DejaVuSans-49\"/>\n       <use x=\"63.623047\" xlink:href=\"#DejaVuSans-48\"/>\n      </g>\n     </g>\n    </g>\n    <g id=\"ytick_6\">\n     <g id=\"line2d_10\">\n      <g>\n       <use style=\"stroke:#000000;stroke-width:0.8;\" x=\"132.225\" xlink:href=\"#m4e5055aaef\" y=\"77.137321\"/>\n      </g>\n     </g>\n     <g id=\"text_11\">\n      <!-- 20 -->\n      <g transform=\"translate(112.5 80.93654)scale(0.1 -0.1)\">\n       <use xlink:href=\"#DejaVuSans-50\"/>\n       <use x=\"63.623047\" xlink:href=\"#DejaVuSans-48\"/>\n      </g>\n     </g>\n    </g>\n   </g>\n   <g id=\"patch_8\">\n    <path d=\"M 132.225 97.193125 \nL 132.225 22.318125 \n\" style=\"fill:none;stroke:#000000;stroke-linecap:square;stroke-linejoin:miter;stroke-width:0.8;\"/>\n   </g>\n   <g id=\"patch_9\">\n    <path d=\"M 207.1 97.193125 \nL 207.1 22.318125 \n\" style=\"fill:none;stroke:#000000;stroke-linecap:square;stroke-linejoin:miter;stroke-width:0.8;\"/>\n   </g>\n   <g id=\"patch_10\">\n    <path d=\"M 132.225 97.193125 \nL 207.1 97.193125 \n\" style=\"fill:none;stroke:#000000;stroke-linecap:square;stroke-linejoin:miter;stroke-width:0.8;\"/>\n   </g>\n   <g id=\"patch_11\">\n    <path d=\"M 132.225 22.318125 \nL 207.1 22.318125 \n\" style=\"fill:none;stroke:#000000;stroke-linecap:square;stroke-linejoin:miter;stroke-width:0.8;\"/>\n   </g>\n   <g id=\"text_12\">\n    <!-- Label: 2 -->\n    <g transform=\"translate(145.729062 16.318125)scale(0.12 -0.12)\">\n     <use xlink:href=\"#DejaVuSans-76\"/>\n     <use x=\"55.712891\" xlink:href=\"#DejaVuSans-97\"/>\n     <use x=\"116.992188\" xlink:href=\"#DejaVuSans-98\"/>\n     <use x=\"180.46875\" xlink:href=\"#DejaVuSans-101\"/>\n     <use x=\"241.992188\" xlink:href=\"#DejaVuSans-108\"/>\n     <use x=\"269.775391\" xlink:href=\"#DejaVuSans-58\"/>\n     <use x=\"303.466797\" xlink:href=\"#DejaVuSans-32\"/>\n     <use x=\"335.253906\" xlink:href=\"#DejaVuSans-50\"/>\n    </g>\n   </g>\n  </g>\n  <g id=\"axes_3\">\n   <g id=\"patch_12\">\n    <path d=\"M 237.525 97.193125 \nL 312.4 97.193125 \nL 312.4 22.318125 \nL 237.525 22.318125 \nz\n\" style=\"fill:#ffffff;\"/>\n   </g>\n   <g clip-path=\"url(#p645d65799a)\">\n    <image height=\"75\" id=\"image1e1789e7d6\" transform=\"scale(1 -1)translate(0 -75)\" width=\"75\" x=\"237.525\" xlink:href=\"data:image/png;base64,\niVBORw0KGgoAAAANSUhEUgAAAEsAAABLCAYAAAA4TnrqAAAHLElEQVR4nO2cS0/bWhdA13HsxEmcB6EJUJVLIyhlkEqdVO2P6I/tD6kq1AFVpaqQllCTQEKM389v0Gtfeu83aAbYRs2SGLO1OGd7n73PQQAJa34LqegAHhJrWSuwlrUCa1krsJa1AmtZK7CWtQJrWSuwlrUCcp6/TAiBLMvs7++zt7eHEIIwDImiiNlsxtnZGY7jEMcxSVK+g0VusoQQSJKEqqq8efOGt2/fIkkSlmXh+z7Hx8e8e/eOMAyzn7KR+8qSJAlN0xgMBgghaLVa+L7P5uYmjUYDVVVxXffPlpWKkiQJRVFQVRVVVen3+8iyjG3bvHr1Cl3XOT095fT0lDiO8wrvt8hdVqVSoVqtUqvVaDab9Pt9ms0mlmXx4sUL+v0+tm0zHo//XFlJkpAkCXEc47ouhmEghKDX6yGEoFar0e128X2fer2OECKv0H6b3EqHOI4JggDXdfnx4wefP3/m69evmKYJQKfT4ejoiNFoxPb2NpVKpXTCck3wcRwTRRGWZXF9fY0sy/i+D4CqqvR6PWRZRtM0JElCCFGqEiJXWfBT2HK5ZDKZkCQJtm2TJAmyLNPtdqlUKvR6PQaDAZZlYRgGnuflHeb/pRBZuq5zcnKCbduYpkmSJKiqymAwoN1us7e3x3A4ZLlccnZ2VhpZuR93kiTB931M08SyLIIgII5jhBAoioKiKNRqNVRVpVqtIknlOZHlvrKSJGG5XBJFEbVajcVigWVZyLJMvV7PO5yVKEyWYRhomoZhGNi2nRWpZSZ3WSlJkhCGYZbE4zhG0zSEEFSrVTRNw/d9ZLmwEP9DoQnB8zzG4zEnJyecn5/j+z6SJDEYDDg6OuLg4ABN04oM8RcK/bOFYYhhGEynUzRNI4oihBDZMSgMw1JtzUJXVpIkeJ6Hbdt4npcVoJIkUa1WURSlyPD+Q6GyoijCNM3si5genO92JdY562/SleW6Lr7vE0XRz6D+buPIsvxn11l3cV2X8XiMbds0m02Wy2VWkO7s7BAEQalyVqGy0q/h5eUlW1tbGIZBq9VCVVW2t7dxXZdarVZkiL9QqKwkSQiCACEEruti2zaO45AkCbVajXq9jqZpaJpGGIa/fASKoFBZcRzjOA6e5zGbzfj27RtRFLGzs8P29ja+73NwcMBsNmOxWDAej3Fdt7B4C0/wQRBk5cN8PmexWBCGIc1mk3a7Tb/fZ2dnh42NjcK/jKX5LodhiGmaWf8q7XFtbm7y+PFjXNddy0pxHIfpdIoQguFwCECtVmNvbw/4uWU/fPhQZIjlGd9HUYTrujiOQxAEJEmCJEk0Gg3a7TbNZrPwmqs0K8u2bSaTCa7rcn19jeM4RFFEo9Gg1+vRbrepVqtUKpVsSpQ3pZNlWRZXV1c4joMQgkajAUC73c6q+qKm1aWRFUURjuOgKAq3t7cYhpEdd9Kaq9FoUK/X8TwPx3Fyj7E0sizLYjKZMJ/POTk5YXd3l06nw7Nnz3jy5Al//fUX+/v7VKtVdF3n4uIi961YmgQfBAHL5ZL5fI6u64zHY3RdRwhBp9Oh1+uxtbWVjfuLGMCWZmWlpJ0IwzBoNptZfmo0Guzu7iLLMovFAkmSsi5FXpRSlmmaTKdTZFnOZoaPHj3i9evXzOdzrq+vOT4+JgiCXGMrnSz4uSVt28Z13Wz1VKtVNjY2srZzEZRO1t3xfnpvC6BSqaCqKvV6HUVR1jkL/pkrnp+foyhK1mVIZQVBUFhvvjRfw7tEUYTneb+0nMMw/OX2YHrLJk9KubIcxyEMQ1qtFrquc35+Dvxz21mW5exeRBiGudVbpVxZaYK3LCurvSzLyg7XqbC8L7yVUlZKGIZMp1POzs64urqiUqlQr9ezxqCmabnmr9Jtw7vYts3Hjx+5vb1lNBpxeHhIp9Nha2uLJ0+ecHNzQxiGubWaSy0riiJubm6YTqcYhgH8rLdUVaXZbOZ+caTU2zCKoqw3bxgGQRAQRRHdbpeDgwOePn2aa4Fa+pWVXgFPe/NRFLGxscHR0RHdbpdPnz7lFk+pZf17+mOaJqZpIkkS7XYb27bXCT4lzVmWZXF6esr79++ZTCZ0Oh1GoxG9Xo9ut5tbPKWWFccxlmUBoOs6X758wTRNXr58ye7ubjbQyItSJ/i7pFcqTdMkCAIqlQqKotDpdOj3+7TbbSqVyr3G8GBkeZ7H5eUlFxcX2e1mTdMYDoeMRiOGw+G937gp9Ta8y925YhiG2bFH07TsgdR9zxUfjCzf91ksFtkTFiB7GdtqtTAMYy0rxXVdZrMZrutmL8nSs2Kr1aJer997znowsuI4xvd9XNfl5uYGXdexbTt7dOD7/r23agQP5P9nybKMqqooisLh4SHPnz8nCAK+f//OfD7HNE0uLy/v9VHUg5H1b9I+Vp43AR+srCJ4MHVWGVjLWoG1rBVYy1qBtawVWMtagbWsFVjLWoH/Aa6l0fQiNDXlAAAAAElFTkSuQmCC\" y=\"-22.193125\"/>\n   </g>\n   <g id=\"matplotlib.axis_5\">\n    <g id=\"xtick_5\">\n     <g id=\"line2d_11\">\n      <g>\n       <use style=\"stroke:#000000;stroke-width:0.8;\" x=\"238.862054\" xlink:href=\"#m9ebf85fe79\" y=\"97.193125\"/>\n      </g>\n     </g>\n     <g id=\"text_13\">\n      <!-- 0 -->\n      <g transform=\"translate(235.680804 111.791562)scale(0.1 -0.1)\">\n       <use xlink:href=\"#DejaVuSans-48\"/>\n      </g>\n     </g>\n    </g>\n    <g id=\"xtick_6\">\n     <g id=\"line2d_12\">\n      <g>\n       <use style=\"stroke:#000000;stroke-width:0.8;\" x=\"292.344196\" xlink:href=\"#m9ebf85fe79\" y=\"97.193125\"/>\n      </g>\n     </g>\n     <g id=\"text_14\">\n      <!-- 20 -->\n      <g transform=\"translate(285.981696 111.791562)scale(0.1 -0.1)\">\n       <use xlink:href=\"#DejaVuSans-50\"/>\n       <use x=\"63.623047\" xlink:href=\"#DejaVuSans-48\"/>\n      </g>\n     </g>\n    </g>\n   </g>\n   <g id=\"matplotlib.axis_6\">\n    <g id=\"ytick_7\">\n     <g id=\"line2d_13\">\n      <g>\n       <use style=\"stroke:#000000;stroke-width:0.8;\" x=\"237.525\" xlink:href=\"#m4e5055aaef\" y=\"23.655179\"/>\n      </g>\n     </g>\n     <g id=\"text_15\">\n      <!-- 0 -->\n      <g transform=\"translate(224.1625 27.454397)scale(0.1 -0.1)\">\n       <use xlink:href=\"#DejaVuSans-48\"/>\n      </g>\n     </g>\n    </g>\n    <g id=\"ytick_8\">\n     <g id=\"line2d_14\">\n      <g>\n       <use style=\"stroke:#000000;stroke-width:0.8;\" x=\"237.525\" xlink:href=\"#m4e5055aaef\" y=\"50.39625\"/>\n      </g>\n     </g>\n     <g id=\"text_16\">\n      <!-- 10 -->\n      <g transform=\"translate(217.8 54.195469)scale(0.1 -0.1)\">\n       <use xlink:href=\"#DejaVuSans-49\"/>\n       <use x=\"63.623047\" xlink:href=\"#DejaVuSans-48\"/>\n      </g>\n     </g>\n    </g>\n    <g id=\"ytick_9\">\n     <g id=\"line2d_15\">\n      <g>\n       <use style=\"stroke:#000000;stroke-width:0.8;\" x=\"237.525\" xlink:href=\"#m4e5055aaef\" y=\"77.137321\"/>\n      </g>\n     </g>\n     <g id=\"text_17\">\n      <!-- 20 -->\n      <g transform=\"translate(217.8 80.93654)scale(0.1 -0.1)\">\n       <use xlink:href=\"#DejaVuSans-50\"/>\n       <use x=\"63.623047\" xlink:href=\"#DejaVuSans-48\"/>\n      </g>\n     </g>\n    </g>\n   </g>\n   <g id=\"patch_13\">\n    <path d=\"M 237.525 97.193125 \nL 237.525 22.318125 \n\" style=\"fill:none;stroke:#000000;stroke-linecap:square;stroke-linejoin:miter;stroke-width:0.8;\"/>\n   </g>\n   <g id=\"patch_14\">\n    <path d=\"M 312.4 97.193125 \nL 312.4 22.318125 \n\" style=\"fill:none;stroke:#000000;stroke-linecap:square;stroke-linejoin:miter;stroke-width:0.8;\"/>\n   </g>\n   <g id=\"patch_15\">\n    <path d=\"M 237.525 97.193125 \nL 312.4 97.193125 \n\" style=\"fill:none;stroke:#000000;stroke-linecap:square;stroke-linejoin:miter;stroke-width:0.8;\"/>\n   </g>\n   <g id=\"patch_16\">\n    <path d=\"M 237.525 22.318125 \nL 312.4 22.318125 \n\" style=\"fill:none;stroke:#000000;stroke-linecap:square;stroke-linejoin:miter;stroke-width:0.8;\"/>\n   </g>\n   <g id=\"text_18\">\n    <!-- Label: 1 -->\n    <g transform=\"translate(251.029062 16.318125)scale(0.12 -0.12)\">\n     <use xlink:href=\"#DejaVuSans-76\"/>\n     <use x=\"55.712891\" xlink:href=\"#DejaVuSans-97\"/>\n     <use x=\"116.992188\" xlink:href=\"#DejaVuSans-98\"/>\n     <use x=\"180.46875\" xlink:href=\"#DejaVuSans-101\"/>\n     <use x=\"241.992188\" xlink:href=\"#DejaVuSans-108\"/>\n     <use x=\"269.775391\" xlink:href=\"#DejaVuSans-58\"/>\n     <use x=\"303.466797\" xlink:href=\"#DejaVuSans-32\"/>\n     <use x=\"335.253906\" xlink:href=\"#DejaVuSans-49\"/>\n    </g>\n   </g>\n  </g>\n  <g id=\"axes_4\">\n   <g id=\"patch_17\">\n    <path d=\"M 342.825 97.193125 \nL 417.7 97.193125 \nL 417.7 22.318125 \nL 342.825 22.318125 \nz\n\" style=\"fill:#ffffff;\"/>\n   </g>\n   <g clip-path=\"url(#p7891cce80a)\">\n    <image height=\"75\" id=\"imageb5308d7313\" transform=\"scale(1 -1)translate(0 -75)\" width=\"75\" x=\"342.825\" xlink:href=\"data:image/png;base64,\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\" y=\"-22.193125\"/>\n   </g>\n   <g id=\"matplotlib.axis_7\">\n    <g id=\"xtick_7\">\n     <g id=\"line2d_16\">\n      <g>\n       <use style=\"stroke:#000000;stroke-width:0.8;\" x=\"344.162054\" xlink:href=\"#m9ebf85fe79\" y=\"97.193125\"/>\n      </g>\n     </g>\n     <g id=\"text_19\">\n      <!-- 0 -->\n      <g transform=\"translate(340.980804 111.791562)scale(0.1 -0.1)\">\n       <use xlink:href=\"#DejaVuSans-48\"/>\n      </g>\n     </g>\n    </g>\n    <g id=\"xtick_8\">\n     <g id=\"line2d_17\">\n      <g>\n       <use style=\"stroke:#000000;stroke-width:0.8;\" x=\"397.644196\" xlink:href=\"#m9ebf85fe79\" y=\"97.193125\"/>\n      </g>\n     </g>\n     <g id=\"text_20\">\n      <!-- 20 -->\n      <g transform=\"translate(391.281696 111.791562)scale(0.1 -0.1)\">\n       <use xlink:href=\"#DejaVuSans-50\"/>\n       <use x=\"63.623047\" xlink:href=\"#DejaVuSans-48\"/>\n      </g>\n     </g>\n    </g>\n   </g>\n   <g id=\"matplotlib.axis_8\">\n    <g id=\"ytick_10\">\n     <g id=\"line2d_18\">\n      <g>\n       <use style=\"stroke:#000000;stroke-width:0.8;\" x=\"342.825\" xlink:href=\"#m4e5055aaef\" y=\"23.655179\"/>\n      </g>\n     </g>\n     <g id=\"text_21\">\n      <!-- 0 -->\n      <g transform=\"translate(329.4625 27.454397)scale(0.1 -0.1)\">\n       <use xlink:href=\"#DejaVuSans-48\"/>\n      </g>\n     </g>\n    </g>\n    <g id=\"ytick_11\">\n     <g id=\"line2d_19\">\n      <g>\n       <use style=\"stroke:#000000;stroke-width:0.8;\" x=\"342.825\" xlink:href=\"#m4e5055aaef\" y=\"50.39625\"/>\n      </g>\n     </g>\n     <g id=\"text_22\">\n      <!-- 10 -->\n      <g transform=\"translate(323.1 54.195469)scale(0.1 -0.1)\">\n       <use xlink:href=\"#DejaVuSans-49\"/>\n       <use x=\"63.623047\" xlink:href=\"#DejaVuSans-48\"/>\n      </g>\n     </g>\n    </g>\n    <g id=\"ytick_12\">\n     <g id=\"line2d_20\">\n      <g>\n       <use style=\"stroke:#000000;stroke-width:0.8;\" x=\"342.825\" xlink:href=\"#m4e5055aaef\" y=\"77.137321\"/>\n      </g>\n     </g>\n     <g id=\"text_23\">\n      <!-- 20 -->\n      <g transform=\"translate(323.1 80.93654)scale(0.1 -0.1)\">\n       <use xlink:href=\"#DejaVuSans-50\"/>\n       <use x=\"63.623047\" xlink:href=\"#DejaVuSans-48\"/>\n      </g>\n     </g>\n    </g>\n   </g>\n   <g id=\"patch_18\">\n    <path d=\"M 342.825 97.193125 \nL 342.825 22.318125 \n\" style=\"fill:none;stroke:#000000;stroke-linecap:square;stroke-linejoin:miter;stroke-width:0.8;\"/>\n   </g>\n   <g id=\"patch_19\">\n    <path d=\"M 417.7 97.193125 \nL 417.7 22.318125 \n\" style=\"fill:none;stroke:#000000;stroke-linecap:square;stroke-linejoin:miter;stroke-width:0.8;\"/>\n   </g>\n   <g id=\"patch_20\">\n    <path d=\"M 342.825 97.193125 \nL 417.7 97.193125 \n\" style=\"fill:none;stroke:#000000;stroke-linecap:square;stroke-linejoin:miter;stroke-width:0.8;\"/>\n   </g>\n   <g id=\"patch_21\">\n    <path d=\"M 342.825 22.318125 \nL 417.7 22.318125 \n\" style=\"fill:none;stroke:#000000;stroke-linecap:square;stroke-linejoin:miter;stroke-width:0.8;\"/>\n   </g>\n   <g id=\"text_24\">\n    <!-- Label: 0 -->\n    <g transform=\"translate(356.329063 16.318125)scale(0.12 -0.12)\">\n     <use xlink:href=\"#DejaVuSans-76\"/>\n     <use x=\"55.712891\" xlink:href=\"#DejaVuSans-97\"/>\n     <use x=\"116.992188\" xlink:href=\"#DejaVuSans-98\"/>\n     <use x=\"180.46875\" xlink:href=\"#DejaVuSans-101\"/>\n     <use x=\"241.992188\" xlink:href=\"#DejaVuSans-108\"/>\n     <use x=\"269.775391\" xlink:href=\"#DejaVuSans-58\"/>\n     <use x=\"303.466797\" xlink:href=\"#DejaVuSans-32\"/>\n     <use x=\"335.253906\" xlink:href=\"#DejaVuSans-48\"/>\n    </g>\n   </g>\n  </g>\n  <g id=\"axes_5\">\n   <g id=\"patch_22\">\n    <path d=\"M 26.925 235.793125 \nL 101.8 235.793125 \nL 101.8 160.918125 \nL 26.925 160.918125 \nz\n\" style=\"fill:#ffffff;\"/>\n   </g>\n   <g clip-path=\"url(#p868530120b)\">\n    <image height=\"75\" id=\"imagea688948104\" transform=\"scale(1 -1)translate(0 -75)\" width=\"75\" x=\"26.925\" xlink:href=\"data:image/png;base64,\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\" y=\"-160.793125\"/>\n   </g>\n   <g id=\"matplotlib.axis_9\">\n    <g id=\"xtick_9\">\n     <g id=\"line2d_21\">\n      <g>\n       <use style=\"stroke:#000000;stroke-width:0.8;\" x=\"28.262054\" xlink:href=\"#m9ebf85fe79\" y=\"235.793125\"/>\n      </g>\n     </g>\n     <g id=\"text_25\">\n      <!-- 0 -->\n      <g transform=\"translate(25.080804 250.391562)scale(0.1 -0.1)\">\n       <use xlink:href=\"#DejaVuSans-48\"/>\n      </g>\n     </g>\n    </g>\n    <g id=\"xtick_10\">\n     <g id=\"line2d_22\">\n      <g>\n       <use style=\"stroke:#000000;stroke-width:0.8;\" x=\"81.744196\" xlink:href=\"#m9ebf85fe79\" y=\"235.793125\"/>\n      </g>\n     </g>\n     <g id=\"text_26\">\n      <!-- 20 -->\n      <g transform=\"translate(75.381696 250.391562)scale(0.1 -0.1)\">\n       <use xlink:href=\"#DejaVuSans-50\"/>\n       <use x=\"63.623047\" xlink:href=\"#DejaVuSans-48\"/>\n      </g>\n     </g>\n    </g>\n   </g>\n   <g id=\"matplotlib.axis_10\">\n    <g id=\"ytick_13\">\n     <g id=\"line2d_23\">\n      <g>\n       <use style=\"stroke:#000000;stroke-width:0.8;\" x=\"26.925\" xlink:href=\"#m4e5055aaef\" y=\"162.255179\"/>\n      </g>\n     </g>\n     <g id=\"text_27\">\n      <!-- 0 -->\n      <g transform=\"translate(13.5625 166.054397)scale(0.1 -0.1)\">\n       <use xlink:href=\"#DejaVuSans-48\"/>\n      </g>\n     </g>\n    </g>\n    <g id=\"ytick_14\">\n     <g id=\"line2d_24\">\n      <g>\n       <use style=\"stroke:#000000;stroke-width:0.8;\" x=\"26.925\" xlink:href=\"#m4e5055aaef\" y=\"188.99625\"/>\n      </g>\n     </g>\n     <g id=\"text_28\">\n      <!-- 10 -->\n      <g transform=\"translate(7.2 192.795469)scale(0.1 -0.1)\">\n       <use xlink:href=\"#DejaVuSans-49\"/>\n       <use x=\"63.623047\" xlink:href=\"#DejaVuSans-48\"/>\n      </g>\n     </g>\n    </g>\n    <g id=\"ytick_15\">\n     <g id=\"line2d_25\">\n      <g>\n       <use style=\"stroke:#000000;stroke-width:0.8;\" x=\"26.925\" xlink:href=\"#m4e5055aaef\" y=\"215.737321\"/>\n      </g>\n     </g>\n     <g id=\"text_29\">\n      <!-- 20 -->\n      <g transform=\"translate(7.2 219.53654)scale(0.1 -0.1)\">\n       <use xlink:href=\"#DejaVuSans-50\"/>\n       <use x=\"63.623047\" xlink:href=\"#DejaVuSans-48\"/>\n      </g>\n     </g>\n    </g>\n   </g>\n   <g id=\"patch_23\">\n    <path d=\"M 26.925 235.793125 \nL 26.925 160.918125 \n\" style=\"fill:none;stroke:#000000;stroke-linecap:square;stroke-linejoin:miter;stroke-width:0.8;\"/>\n   </g>\n   <g id=\"patch_24\">\n    <path d=\"M 101.8 235.793125 \nL 101.8 160.918125 \n\" style=\"fill:none;stroke:#000000;stroke-linecap:square;stroke-linejoin:miter;stroke-width:0.8;\"/>\n   </g>\n   <g id=\"patch_25\">\n    <path d=\"M 26.925 235.793125 \nL 101.8 235.793125 \n\" style=\"fill:none;stroke:#000000;stroke-linecap:square;stroke-linejoin:miter;stroke-width:0.8;\"/>\n   </g>\n   <g id=\"patch_26\">\n    <path d=\"M 26.925 160.918125 \nL 101.8 160.918125 \n\" style=\"fill:none;stroke:#000000;stroke-linecap:square;stroke-linejoin:miter;stroke-width:0.8;\"/>\n   </g>\n   <g id=\"text_30\">\n    <!-- Label: 4 -->\n    <g transform=\"translate(40.429062 154.918125)scale(0.12 -0.12)\">\n     <defs>\n      <path d=\"M 37.796875 64.3125 \nL 12.890625 25.390625 \nL 37.796875 25.390625 \nz\nM 35.203125 72.90625 \nL 47.609375 72.90625 \nL 47.609375 25.390625 \nL 58.015625 25.390625 \nL 58.015625 17.1875 \nL 47.609375 17.1875 \nL 47.609375 0 \nL 37.796875 0 \nL 37.796875 17.1875 \nL 4.890625 17.1875 \nL 4.890625 26.703125 \nz\n\" id=\"DejaVuSans-52\"/>\n     </defs>\n     <use xlink:href=\"#DejaVuSans-76\"/>\n     <use x=\"55.712891\" xlink:href=\"#DejaVuSans-97\"/>\n     <use x=\"116.992188\" xlink:href=\"#DejaVuSans-98\"/>\n     <use x=\"180.46875\" xlink:href=\"#DejaVuSans-101\"/>\n     <use x=\"241.992188\" xlink:href=\"#DejaVuSans-108\"/>\n     <use x=\"269.775391\" xlink:href=\"#DejaVuSans-58\"/>\n     <use x=\"303.466797\" xlink:href=\"#DejaVuSans-32\"/>\n     <use x=\"335.253906\" xlink:href=\"#DejaVuSans-52\"/>\n    </g>\n   </g>\n  </g>\n  <g id=\"axes_6\">\n   <g id=\"patch_27\">\n    <path d=\"M 132.225 235.793125 \nL 207.1 235.793125 \nL 207.1 160.918125 \nL 132.225 160.918125 \nz\n\" style=\"fill:#ffffff;\"/>\n   </g>\n   <g clip-path=\"url(#p0820d89506)\">\n    <image height=\"75\" id=\"image1ce2ace4c9\" transform=\"scale(1 -1)translate(0 -75)\" width=\"75\" x=\"132.225\" xlink:href=\"data:image/png;base64,\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\" y=\"-160.793125\"/>\n   </g>\n   <g id=\"matplotlib.axis_11\">\n    <g id=\"xtick_11\">\n     <g id=\"line2d_26\">\n      <g>\n       <use style=\"stroke:#000000;stroke-width:0.8;\" x=\"133.562054\" xlink:href=\"#m9ebf85fe79\" y=\"235.793125\"/>\n      </g>\n     </g>\n     <g id=\"text_31\">\n      <!-- 0 -->\n      <g transform=\"translate(130.380804 250.391562)scale(0.1 -0.1)\">\n       <use xlink:href=\"#DejaVuSans-48\"/>\n      </g>\n     </g>\n    </g>\n    <g id=\"xtick_12\">\n     <g id=\"line2d_27\">\n      <g>\n       <use style=\"stroke:#000000;stroke-width:0.8;\" x=\"187.044196\" xlink:href=\"#m9ebf85fe79\" y=\"235.793125\"/>\n      </g>\n     </g>\n     <g id=\"text_32\">\n      <!-- 20 -->\n      <g transform=\"translate(180.681696 250.391562)scale(0.1 -0.1)\">\n       <use xlink:href=\"#DejaVuSans-50\"/>\n       <use x=\"63.623047\" xlink:href=\"#DejaVuSans-48\"/>\n      </g>\n     </g>\n    </g>\n   </g>\n   <g id=\"matplotlib.axis_12\">\n    <g id=\"ytick_16\">\n     <g id=\"line2d_28\">\n      <g>\n       <use style=\"stroke:#000000;stroke-width:0.8;\" x=\"132.225\" xlink:href=\"#m4e5055aaef\" y=\"162.255179\"/>\n      </g>\n     </g>\n     <g id=\"text_33\">\n      <!-- 0 -->\n      <g transform=\"translate(118.8625 166.054397)scale(0.1 -0.1)\">\n       <use xlink:href=\"#DejaVuSans-48\"/>\n      </g>\n     </g>\n    </g>\n    <g id=\"ytick_17\">\n     <g id=\"line2d_29\">\n      <g>\n       <use style=\"stroke:#000000;stroke-width:0.8;\" x=\"132.225\" xlink:href=\"#m4e5055aaef\" y=\"188.99625\"/>\n      </g>\n     </g>\n     <g id=\"text_34\">\n      <!-- 10 -->\n      <g transform=\"translate(112.5 192.795469)scale(0.1 -0.1)\">\n       <use xlink:href=\"#DejaVuSans-49\"/>\n       <use x=\"63.623047\" xlink:href=\"#DejaVuSans-48\"/>\n      </g>\n     </g>\n    </g>\n    <g id=\"ytick_18\">\n     <g id=\"line2d_30\">\n      <g>\n       <use style=\"stroke:#000000;stroke-width:0.8;\" x=\"132.225\" xlink:href=\"#m4e5055aaef\" y=\"215.737321\"/>\n      </g>\n     </g>\n     <g id=\"text_35\">\n      <!-- 20 -->\n      <g transform=\"translate(112.5 219.53654)scale(0.1 -0.1)\">\n       <use xlink:href=\"#DejaVuSans-50\"/>\n       <use x=\"63.623047\" xlink:href=\"#DejaVuSans-48\"/>\n      </g>\n     </g>\n    </g>\n   </g>\n   <g id=\"patch_28\">\n    <path d=\"M 132.225 235.793125 \nL 132.225 160.918125 \n\" style=\"fill:none;stroke:#000000;stroke-linecap:square;stroke-linejoin:miter;stroke-width:0.8;\"/>\n   </g>\n   <g id=\"patch_29\">\n    <path d=\"M 207.1 235.793125 \nL 207.1 160.918125 \n\" style=\"fill:none;stroke:#000000;stroke-linecap:square;stroke-linejoin:miter;stroke-width:0.8;\"/>\n   </g>\n   <g id=\"patch_30\">\n    <path d=\"M 132.225 235.793125 \nL 207.1 235.793125 \n\" style=\"fill:none;stroke:#000000;stroke-linecap:square;stroke-linejoin:miter;stroke-width:0.8;\"/>\n   </g>\n   <g id=\"patch_31\">\n    <path d=\"M 132.225 160.918125 \nL 207.1 160.918125 \n\" style=\"fill:none;stroke:#000000;stroke-linecap:square;stroke-linejoin:miter;stroke-width:0.8;\"/>\n   </g>\n   <g id=\"text_36\">\n    <!-- Label: 1 -->\n    <g transform=\"translate(145.729062 154.918125)scale(0.12 -0.12)\">\n     <use xlink:href=\"#DejaVuSans-76\"/>\n     <use x=\"55.712891\" xlink:href=\"#DejaVuSans-97\"/>\n     <use x=\"116.992188\" xlink:href=\"#DejaVuSans-98\"/>\n     <use x=\"180.46875\" xlink:href=\"#DejaVuSans-101\"/>\n     <use x=\"241.992188\" xlink:href=\"#DejaVuSans-108\"/>\n     <use x=\"269.775391\" xlink:href=\"#DejaVuSans-58\"/>\n     <use x=\"303.466797\" xlink:href=\"#DejaVuSans-32\"/>\n     <use x=\"335.253906\" xlink:href=\"#DejaVuSans-49\"/>\n    </g>\n   </g>\n  </g>\n  <g id=\"axes_7\">\n   <g id=\"patch_32\">\n    <path d=\"M 237.525 235.793125 \nL 312.4 235.793125 \nL 312.4 160.918125 \nL 237.525 160.918125 \nz\n\" style=\"fill:#ffffff;\"/>\n   </g>\n   <g clip-path=\"url(#p608eb845af)\">\n    <image height=\"75\" id=\"imagea0dc174f69\" transform=\"scale(1 -1)translate(0 -75)\" width=\"75\" x=\"237.525\" xlink:href=\"data:image/png;base64,\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\" y=\"-160.793125\"/>\n   </g>\n   <g id=\"matplotlib.axis_13\">\n    <g id=\"xtick_13\">\n     <g id=\"line2d_31\">\n      <g>\n       <use style=\"stroke:#000000;stroke-width:0.8;\" x=\"238.862054\" xlink:href=\"#m9ebf85fe79\" y=\"235.793125\"/>\n      </g>\n     </g>\n     <g id=\"text_37\">\n      <!-- 0 -->\n      <g transform=\"translate(235.680804 250.391562)scale(0.1 -0.1)\">\n       <use xlink:href=\"#DejaVuSans-48\"/>\n      </g>\n     </g>\n    </g>\n    <g id=\"xtick_14\">\n     <g id=\"line2d_32\">\n      <g>\n       <use style=\"stroke:#000000;stroke-width:0.8;\" x=\"292.344196\" xlink:href=\"#m9ebf85fe79\" y=\"235.793125\"/>\n      </g>\n     </g>\n     <g id=\"text_38\">\n      <!-- 20 -->\n      <g transform=\"translate(285.981696 250.391562)scale(0.1 -0.1)\">\n       <use xlink:href=\"#DejaVuSans-50\"/>\n       <use x=\"63.623047\" xlink:href=\"#DejaVuSans-48\"/>\n      </g>\n     </g>\n    </g>\n   </g>\n   <g id=\"matplotlib.axis_14\">\n    <g id=\"ytick_19\">\n     <g id=\"line2d_33\">\n      <g>\n       <use style=\"stroke:#000000;stroke-width:0.8;\" x=\"237.525\" xlink:href=\"#m4e5055aaef\" y=\"162.255179\"/>\n      </g>\n     </g>\n     <g id=\"text_39\">\n      <!-- 0 -->\n      <g transform=\"translate(224.1625 166.054397)scale(0.1 -0.1)\">\n       <use xlink:href=\"#DejaVuSans-48\"/>\n      </g>\n     </g>\n    </g>\n    <g id=\"ytick_20\">\n     <g id=\"line2d_34\">\n      <g>\n       <use style=\"stroke:#000000;stroke-width:0.8;\" x=\"237.525\" xlink:href=\"#m4e5055aaef\" y=\"188.99625\"/>\n      </g>\n     </g>\n     <g id=\"text_40\">\n      <!-- 10 -->\n      <g transform=\"translate(217.8 192.795469)scale(0.1 -0.1)\">\n       <use xlink:href=\"#DejaVuSans-49\"/>\n       <use x=\"63.623047\" xlink:href=\"#DejaVuSans-48\"/>\n      </g>\n     </g>\n    </g>\n    <g id=\"ytick_21\">\n     <g id=\"line2d_35\">\n      <g>\n       <use style=\"stroke:#000000;stroke-width:0.8;\" x=\"237.525\" xlink:href=\"#m4e5055aaef\" y=\"215.737321\"/>\n      </g>\n     </g>\n     <g id=\"text_41\">\n      <!-- 20 -->\n      <g transform=\"translate(217.8 219.53654)scale(0.1 -0.1)\">\n       <use xlink:href=\"#DejaVuSans-50\"/>\n       <use x=\"63.623047\" xlink:href=\"#DejaVuSans-48\"/>\n      </g>\n     </g>\n    </g>\n   </g>\n   <g id=\"patch_33\">\n    <path d=\"M 237.525 235.793125 \nL 237.525 160.918125 \n\" style=\"fill:none;stroke:#000000;stroke-linecap:square;stroke-linejoin:miter;stroke-width:0.8;\"/>\n   </g>\n   <g id=\"patch_34\">\n    <path d=\"M 312.4 235.793125 \nL 312.4 160.918125 \n\" style=\"fill:none;stroke:#000000;stroke-linecap:square;stroke-linejoin:miter;stroke-width:0.8;\"/>\n   </g>\n   <g id=\"patch_35\">\n    <path d=\"M 237.525 235.793125 \nL 312.4 235.793125 \n\" style=\"fill:none;stroke:#000000;stroke-linecap:square;stroke-linejoin:miter;stroke-width:0.8;\"/>\n   </g>\n   <g id=\"patch_36\">\n    <path d=\"M 237.525 160.918125 \nL 312.4 160.918125 \n\" style=\"fill:none;stroke:#000000;stroke-linecap:square;stroke-linejoin:miter;stroke-width:0.8;\"/>\n   </g>\n   <g id=\"text_42\">\n    <!-- Label: 4 -->\n    <g transform=\"translate(251.029062 154.918125)scale(0.12 -0.12)\">\n     <use xlink:href=\"#DejaVuSans-76\"/>\n     <use x=\"55.712891\" xlink:href=\"#DejaVuSans-97\"/>\n     <use x=\"116.992188\" xlink:href=\"#DejaVuSans-98\"/>\n     <use x=\"180.46875\" xlink:href=\"#DejaVuSans-101\"/>\n     <use x=\"241.992188\" xlink:href=\"#DejaVuSans-108\"/>\n     <use x=\"269.775391\" xlink:href=\"#DejaVuSans-58\"/>\n     <use x=\"303.466797\" xlink:href=\"#DejaVuSans-32\"/>\n     <use x=\"335.253906\" xlink:href=\"#DejaVuSans-52\"/>\n    </g>\n   </g>\n  </g>\n  <g id=\"axes_8\">\n   <g id=\"patch_37\">\n    <path d=\"M 342.825 235.793125 \nL 417.7 235.793125 \nL 417.7 160.918125 \nL 342.825 160.918125 \nz\n\" style=\"fill:#ffffff;\"/>\n   </g>\n   <g clip-path=\"url(#pf270fac9b5)\">\n    <image height=\"75\" id=\"imageb1345b6cb6\" transform=\"scale(1 -1)translate(0 -75)\" width=\"75\" x=\"342.825\" xlink:href=\"data:image/png;base64,\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\" y=\"-160.793125\"/>\n   </g>\n   <g id=\"matplotlib.axis_15\">\n    <g id=\"xtick_15\">\n     <g id=\"line2d_36\">\n      <g>\n       <use style=\"stroke:#000000;stroke-width:0.8;\" x=\"344.162054\" xlink:href=\"#m9ebf85fe79\" y=\"235.793125\"/>\n      </g>\n     </g>\n     <g id=\"text_43\">\n      <!-- 0 -->\n      <g transform=\"translate(340.980804 250.391562)scale(0.1 -0.1)\">\n       <use xlink:href=\"#DejaVuSans-48\"/>\n      </g>\n     </g>\n    </g>\n    <g id=\"xtick_16\">\n     <g id=\"line2d_37\">\n      <g>\n       <use style=\"stroke:#000000;stroke-width:0.8;\" x=\"397.644196\" xlink:href=\"#m9ebf85fe79\" y=\"235.793125\"/>\n      </g>\n     </g>\n     <g id=\"text_44\">\n      <!-- 20 -->\n      <g transform=\"translate(391.281696 250.391562)scale(0.1 -0.1)\">\n       <use xlink:href=\"#DejaVuSans-50\"/>\n       <use x=\"63.623047\" xlink:href=\"#DejaVuSans-48\"/>\n      </g>\n     </g>\n    </g>\n   </g>\n   <g id=\"matplotlib.axis_16\">\n    <g id=\"ytick_22\">\n     <g id=\"line2d_38\">\n      <g>\n       <use style=\"stroke:#000000;stroke-width:0.8;\" x=\"342.825\" xlink:href=\"#m4e5055aaef\" y=\"162.255179\"/>\n      </g>\n     </g>\n     <g id=\"text_45\">\n      <!-- 0 -->\n      <g transform=\"translate(329.4625 166.054397)scale(0.1 -0.1)\">\n       <use xlink:href=\"#DejaVuSans-48\"/>\n      </g>\n     </g>\n    </g>\n    <g id=\"ytick_23\">\n     <g id=\"line2d_39\">\n      <g>\n       <use style=\"stroke:#000000;stroke-width:0.8;\" x=\"342.825\" xlink:href=\"#m4e5055aaef\" y=\"188.99625\"/>\n      </g>\n     </g>\n     <g id=\"text_46\">\n      <!-- 10 -->\n      <g transform=\"translate(323.1 192.795469)scale(0.1 -0.1)\">\n       <use xlink:href=\"#DejaVuSans-49\"/>\n       <use x=\"63.623047\" xlink:href=\"#DejaVuSans-48\"/>\n      </g>\n     </g>\n    </g>\n    <g id=\"ytick_24\">\n     <g id=\"line2d_40\">\n      <g>\n       <use style=\"stroke:#000000;stroke-width:0.8;\" x=\"342.825\" xlink:href=\"#m4e5055aaef\" y=\"215.737321\"/>\n      </g>\n     </g>\n     <g id=\"text_47\">\n      <!-- 20 -->\n      <g transform=\"translate(323.1 219.53654)scale(0.1 -0.1)\">\n       <use xlink:href=\"#DejaVuSans-50\"/>\n       <use x=\"63.623047\" xlink:href=\"#DejaVuSans-48\"/>\n      </g>\n     </g>\n    </g>\n   </g>\n   <g id=\"patch_38\">\n    <path d=\"M 342.825 235.793125 \nL 342.825 160.918125 \n\" style=\"fill:none;stroke:#000000;stroke-linecap:square;stroke-linejoin:miter;stroke-width:0.8;\"/>\n   </g>\n   <g id=\"patch_39\">\n    <path d=\"M 417.7 235.793125 \nL 417.7 160.918125 \n\" style=\"fill:none;stroke:#000000;stroke-linecap:square;stroke-linejoin:miter;stroke-width:0.8;\"/>\n   </g>\n   <g id=\"patch_40\">\n    <path d=\"M 342.825 235.793125 \nL 417.7 235.793125 \n\" style=\"fill:none;stroke:#000000;stroke-linecap:square;stroke-linejoin:miter;stroke-width:0.8;\"/>\n   </g>\n   <g id=\"patch_41\">\n    <path d=\"M 342.825 160.918125 \nL 417.7 160.918125 \n\" style=\"fill:none;stroke:#000000;stroke-linecap:square;stroke-linejoin:miter;stroke-width:0.8;\"/>\n   </g>\n   <g id=\"text_48\">\n    <!-- Label: 9 -->\n    <g transform=\"translate(356.329063 154.918125)scale(0.12 -0.12)\">\n     <defs>\n      <path d=\"M 10.984375 1.515625 \nL 10.984375 10.5 \nQ 14.703125 8.734375 18.5 7.8125 \nQ 22.3125 6.890625 25.984375 6.890625 \nQ 35.75 6.890625 40.890625 13.453125 \nQ 46.046875 20.015625 46.78125 33.40625 \nQ 43.953125 29.203125 39.59375 26.953125 \nQ 35.25 24.703125 29.984375 24.703125 \nQ 19.046875 24.703125 12.671875 31.3125 \nQ 6.296875 37.9375 6.296875 49.421875 \nQ 6.296875 60.640625 12.9375 67.421875 \nQ 19.578125 74.21875 30.609375 74.21875 \nQ 43.265625 74.21875 49.921875 64.515625 \nQ 56.59375 54.828125 56.59375 36.375 \nQ 56.59375 19.140625 48.40625 8.859375 \nQ 40.234375 -1.421875 26.421875 -1.421875 \nQ 22.703125 -1.421875 18.890625 -0.6875 \nQ 15.09375 0.046875 10.984375 1.515625 \nz\nM 30.609375 32.421875 \nQ 37.25 32.421875 41.125 36.953125 \nQ 45.015625 41.5 45.015625 49.421875 \nQ 45.015625 57.28125 41.125 61.84375 \nQ 37.25 66.40625 30.609375 66.40625 \nQ 23.96875 66.40625 20.09375 61.84375 \nQ 16.21875 57.28125 16.21875 49.421875 \nQ 16.21875 41.5 20.09375 36.953125 \nQ 23.96875 32.421875 30.609375 32.421875 \nz\n\" id=\"DejaVuSans-57\"/>\n     </defs>\n     <use xlink:href=\"#DejaVuSans-76\"/>\n     <use x=\"55.712891\" xlink:href=\"#DejaVuSans-97\"/>\n     <use x=\"116.992188\" xlink:href=\"#DejaVuSans-98\"/>\n     <use x=\"180.46875\" xlink:href=\"#DejaVuSans-101\"/>\n     <use x=\"241.992188\" xlink:href=\"#DejaVuSans-108\"/>\n     <use x=\"269.775391\" xlink:href=\"#DejaVuSans-58\"/>\n     <use x=\"303.466797\" xlink:href=\"#DejaVuSans-32\"/>\n     <use x=\"335.253906\" xlink:href=\"#DejaVuSans-57\"/>\n    </g>\n   </g>\n  </g>\n </g>\n <defs>\n  <clipPath id=\"pa237675b3d\">\n   <rect height=\"74.875\" width=\"74.875\" x=\"26.925\" y=\"22.318125\"/>\n  </clipPath>\n  <clipPath id=\"pcf18c9ffc6\">\n   <rect height=\"74.875\" width=\"74.875\" x=\"132.225\" y=\"22.318125\"/>\n  </clipPath>\n  <clipPath id=\"p645d65799a\">\n   <rect height=\"74.875\" width=\"74.875\" x=\"237.525\" y=\"22.318125\"/>\n  </clipPath>\n  <clipPath id=\"p7891cce80a\">\n   <rect height=\"74.875\" width=\"74.875\" x=\"342.825\" y=\"22.318125\"/>\n  </clipPath>\n  <clipPath id=\"p868530120b\">\n   <rect height=\"74.875\" width=\"74.875\" x=\"26.925\" y=\"160.918125\"/>\n  </clipPath>\n  <clipPath id=\"p0820d89506\">\n   <rect height=\"74.875\" width=\"74.875\" x=\"132.225\" y=\"160.918125\"/>\n  </clipPath>\n  <clipPath id=\"p608eb845af\">\n   <rect height=\"74.875\" width=\"74.875\" x=\"237.525\" y=\"160.918125\"/>\n  </clipPath>\n  <clipPath id=\"pf270fac9b5\">\n   <rect height=\"74.875\" width=\"74.875\" x=\"342.825\" y=\"160.918125\"/>\n  </clipPath>\n </defs>\n</svg>\n",
      "image/png": "[encoded data removed]"
     },
     "metadata": {
      "needs_background": "light"
     }
    }
   ],
   "source": [
    "plot_images(labels_t10k, images_t10k)\n"
   ]
  },
  {
   "source": [
    "The second group of tasks is to load and save existing linear classifier networks and to evaluate their performance, together with various helper functions. In the following we assume the vector b to be represented by a standard Python list of floats and the matrix A to be represented by a list-of-lists of floats."
   ],
   "cell_type": "markdown",
   "metadata": {}
  },
  {
   "source": [
    "### f)\n",
    "\n",
    "Write functions linear_load(file_name) and linear_save(file_name, network) to load and save a linear classifier network = (A, b) using JSON. Test your functions on mnist_linear.weights Click for more options.\n",
    "\n",
    "- https://www.kite.com/python/answers/how-to-create-a-filename-using-variables-in-python\n"
   ],
   "cell_type": "markdown",
   "metadata": {}
  },
  {
   "cell_type": "code",
   "execution_count": 76,
   "metadata": {},
   "outputs": [],
   "source": [
    "def linear_load(filename):\n",
    "    with open(filename) as json_file:\n",
    "        indata = json.load(json_file)\n",
    "    return indata\n"
   ]
  },
  {
   "cell_type": "code",
   "execution_count": 77,
   "metadata": {},
   "outputs": [],
   "source": [
    "data = linear_load('mnist_linear (4).weights')"
   ]
  },
  {
   "cell_type": "code",
   "execution_count": 44,
   "metadata": {},
   "outputs": [],
   "source": [
    "def linear_save(file_name, network):\n",
    "    file_name = file_name\n",
    "    with open('%s-A.json' % file_name, 'w') as json_file:\n",
    "        json.dump(network[0], json_file)\n",
    "    with open('%s-b.json' % file_name, 'w') as json_file:\n",
    "        json.dump(network[1], json_file)"
   ]
  },
  {
   "cell_type": "code",
   "execution_count": 50,
   "metadata": {},
   "outputs": [],
   "source": [
    "linear_save('newfiletest', data)"
   ]
  },
  {
   "source": [
    "### g)\n",
    "\n",
    "Write function image_to_vector(image) that converts an image (list-of-lists) with integer pixel values in the range [0, 255] to an image vector (list) with pixel values being floats in the range [0, 1]\n",
    "- https://necromuralist.github.io/neural_networks/posts/image-to-vector/\n"
   ],
   "cell_type": "markdown",
   "metadata": {}
  },
  {
   "cell_type": "code",
   "execution_count": 134,
   "metadata": {},
   "outputs": [],
   "source": [
    "def image_to_vector(image: np.ndarray): \n",
    "    \"\"\"\n",
    "    Args:\n",
    "    image: numpy array of shape (length, height, depth)\n",
    "\n",
    "    Returns:\n",
    "     v: a vector of shape (length x height x depth, 1)\n",
    "    \"\"\"\n",
    "    length, height, depth = image.shape\n",
    "    return image.reshape((length * height * depth, 1))"
   ]
  },
  {
   "cell_type": "code",
   "execution_count": 112,
   "metadata": {},
   "outputs": [
    {
     "output_type": "execute_result",
     "data": {
      "text/plain": [
       "3"
      ]
     },
     "metadata": {},
     "execution_count": 112
    }
   ],
   "source": [
    "images_t10k.nd"
   ]
  },
  {
   "cell_type": "code",
   "execution_count": 135,
   "metadata": {},
   "outputs": [
    {
     "output_type": "execute_result",
     "data": {
      "text/plain": [
       "array([[0],\n",
       "       [0],\n",
       "       [0],\n",
       "       ...,\n",
       "       [0],\n",
       "       [0],\n",
       "       [0]], dtype=uint8)"
      ]
     },
     "metadata": {},
     "execution_count": 135
    }
   ],
   "source": [
    "image_to_vector(images_t10k)"
   ]
  },
  {
   "source": [
    "### h) \n",
    "Write functions for basic linear algebra add(U, V), sub(U, V), scalar_multiplication(scalar, V) multiply(V, M), transpose(M) where V and U are vectors and M is a matrix. Include assertions to check if the dimensions of the arguments to add and multiply fit."
   ],
   "cell_type": "markdown",
   "metadata": {}
  },
  {
   "cell_type": "code",
   "execution_count": 151,
   "metadata": {},
   "outputs": [
    {
     "output_type": "stream",
     "name": "stdout",
     "text": [
      "Test if function works: \n [[2]\n [4]\n [6]]\n"
     ]
    }
   ],
   "source": [
    "def add(U, V): \n",
    "    assert U.ndim == V.ndim, 'Dimension is different'\n",
    "    return U + V\n",
    "\n",
    "U = np.array([1, 2, 3])[:, np.newaxis]\n",
    "V = np.array([1, 2, 3])[:, np.newaxis]\n",
    "\n",
    "print(f'Test if function works: \\n {add(U,V)}')"
   ]
  },
  {
   "cell_type": "code",
   "execution_count": 148,
   "metadata": {},
   "outputs": [
    {
     "output_type": "execute_result",
     "data": {
      "text/plain": [
       "2"
      ]
     },
     "metadata": {},
     "execution_count": 148
    }
   ],
   "source": []
  },
  {
   "cell_type": "code",
   "execution_count": 152,
   "metadata": {},
   "outputs": [
    {
     "output_type": "stream",
     "name": "stdout",
     "text": [
      "Test if function works: \n [[0]\n [0]\n [0]]\n"
     ]
    }
   ],
   "source": [
    "def sub(U, V):\n",
    "    return U - V\n",
    "\n",
    "U = np.array([1, 2, 3])[:, np.newaxis]\n",
    "V = np.array([1, 2, 3])[:, np.newaxis]\n",
    "\n",
    "print(f'Test if function works: \\n {sub(U,V)}')\n"
   ]
  },
  {
   "cell_type": "code",
   "execution_count": 182,
   "metadata": {},
   "outputs": [
    {
     "output_type": "stream",
     "name": "stdout",
     "text": [
      "Test if function works: \n [[2]\n [4]\n [6]]\nTest if function works nr 2: \n [2 4 6]\n"
     ]
    }
   ],
   "source": [
    "def scalar_multiplication(scalar, V):\n",
    "    return scalar * V\n",
    "\n",
    "scalar = 2\n",
    "V = np.array([1, 2, 3])[:, np.newaxis]\n",
    "V_1 = np.array([1, 2, 3])\n",
    "\n",
    "print(f'Test if function works: \\n {scalar_multiplication(scalar,V)}')\n",
    "print(f'Test if function works nr 2: \\n {scalar_multiplication(scalar,V_1)}')"
   ]
  },
  {
   "cell_type": "code",
   "execution_count": 171,
   "metadata": {},
   "outputs": [
    {
     "output_type": "execute_result",
     "data": {
      "text/plain": [
       "array([[14],\n",
       "       [16],\n",
       "       [19]])"
      ]
     },
     "metadata": {},
     "execution_count": 171
    }
   ],
   "source": [
    "# Tvivl om hvilken dimension der skal være?\n",
    "def multiply(V, M):\n",
    "    assert V.ndim == M.ndim, 'Dimension is different'\n",
    "    return V @ M\n",
    "\n",
    "V = np.array([1, 2, 3])[:, np.newaxis]\n",
    "M = np.array([\n",
    "    [1, 2, 3],\n",
    "    [5,4,1],\n",
    "    [5,4,2]])\n",
    "multiply(M, V)\n"
   ]
  },
  {
   "cell_type": "code",
   "execution_count": 173,
   "metadata": {},
   "outputs": [
    {
     "output_type": "stream",
     "name": "stdout",
     "text": [
      "[[1, 5, 5], [2, 4, 4], [3, 1, 2]]\n"
     ]
    }
   ],
   "source": [
    "def transpose(M):\n",
    "    result = [[M[j][i] for j in range(len(M))] for i in range(len(M[0]))]\n",
    "    return result\n",
    "\n",
    "print(transpose(M))"
   ]
  },
  {
   "cell_type": "code",
   "execution_count": 174,
   "metadata": {},
   "outputs": [
    {
     "output_type": "stream",
     "name": "stdout",
     "text": [
      "[1, 5, 5]\n[2, 4, 4]\n[3, 1, 2]\n"
     ]
    }
   ],
   "source": [
    "for r in transpose(M):\n",
    "    print(r)"
   ]
  },
  {
   "source": [
    "### i)\n",
    "Write a function mean_square_error(U, V) to compute the mean squared error between two vectors.\n",
    "Examples: mean_square_error([1,2,3,4], [3,1,3,2]) shoule return 2.25.\n",
    "\n",
    "- https://www.educative.io/edpresso/calculating-mean-squared-error-in-python"
   ],
   "cell_type": "markdown",
   "metadata": {}
  },
  {
   "cell_type": "code",
   "execution_count": 74,
   "metadata": {},
   "outputs": [],
   "source": [
    "def mean_square_error(U, V):\n",
    "    summation = 0  \n",
    "    n = len(U) \n",
    "    for i in range (0,n):  \n",
    "        difference = U[i] - V[i]  \n",
    "        squared_difference = difference**2  \n",
    "        summation = summation + squared_difference  \n",
    "    return (summation / n )"
   ]
  },
  {
   "cell_type": "code",
   "execution_count": 75,
   "metadata": {},
   "outputs": [
    {
     "output_type": "execute_result",
     "data": {
      "text/plain": [
       "2.25"
      ]
     },
     "metadata": {},
     "execution_count": 75
    }
   ],
   "source": [
    "mean_square_error([1,2,3,4], [3,1,3,2])"
   ]
  },
  {
   "source": [
    "### j)\n",
    "\n",
    "Write function a function argmax(V) that returns an index into the list V with maximal value (corresponding to numpy.argmax). E.g. argmax([6, 2, 7, 10, 5]) should return 3."
   ],
   "cell_type": "markdown",
   "metadata": {}
  },
  {
   "cell_type": "code",
   "execution_count": 49,
   "metadata": {},
   "outputs": [
    {
     "output_type": "execute_result",
     "data": {
      "text/plain": [
       "3"
      ]
     },
     "metadata": {},
     "execution_count": 49
    }
   ],
   "source": [
    "def argmax(a):\n",
    "    return max(range(len(a)), key = lambda x: a[x])\n",
    "a = [6, 2, 7, 10, 5]\n",
    "argmax(a)"
   ]
  },
  {
   "source": [
    "### k)\n",
    "\n",
    "Implement a function categorical(label, classes=10) that takes a label from [0, 9] and returns a vector of length classes, with all entries being zero, except entry label that equals one. For an image with this label, the categorical vector is the expected ideal output of a perfect network for the image.\n",
    "Example: categorical(3) should return [0,0,0,1,0,0,0,0,0,0]."
   ],
   "cell_type": "markdown",
   "metadata": {}
  },
  {
   "cell_type": "code",
   "execution_count": 109,
   "metadata": {},
   "outputs": [
    {
     "output_type": "stream",
     "name": "stdout",
     "text": [
      "[0, 0, 0, 1, 0, 0, 0, 0, 0, 0]\n"
     ]
    }
   ],
   "source": [
    "def categorical_1(label, classes = 10):\n",
    "    \"\"\"Convert an iterable of indices to one-hot encoded labels.\"\"\"\n",
    "    lst = [0] * classes\n",
    "    lst[label] = 1\n",
    "    return lst\n",
    "print(categorical_1(3))"
   ]
  },
  {
   "source": [
    "### l)\n",
    "\n",
    "Write a function predict(network, image) that returns xA + b, given a network (A, b) and an image vector."
   ],
   "cell_type": "markdown",
   "metadata": {}
  },
  {
   "cell_type": "code",
   "execution_count": 84,
   "metadata": {},
   "outputs": [],
   "source": [
    "def predict(network, image):\n",
    "    A, b = network\n",
    "    return add(multiply(A, image), b)\n"
   ]
  },
  {
   "cell_type": "code",
   "execution_count": 110,
   "metadata": {},
   "outputs": [],
   "source": [
    "A, b = data"
   ]
  },
  {
   "source": [
    "### m)\n",
    "\n",
    "Create a function evaluate(network, images, labels) that given a list of image vectors and corresponding labels, returns the tuple (predictions, cost, accuracy), where predictions is a list of the predicted labels for the images, cost is the average of mean square errors over all input-output pairs, and accuracy the fraction of inputs where the predicted labels are correct. Apply this to the loaded network and the 10.000 test images in t10k-images. The accuracy should be around 92%, whereas the cost should be 230 (the cost is very bad since the network was trained to optimze the cost measure softmax).\n",
    "Hint. Use your argmax function to convert network output into a label prediction."
   ],
   "cell_type": "markdown",
   "metadata": {}
  }
 ]
}