{
 "metadata": {
  "language_info": {
   "codemirror_mode": {
    "name": "ipython",
    "version": 3
   },
   "file_extension": ".py",
   "mimetype": "text/x-python",
   "name": "python",
   "nbconvert_exporter": "python",
   "pygments_lexer": "ipython3",
   "version": "3.9.1-final"
  },
  "orig_nbformat": 2,
  "kernelspec": {
   "name": "python3",
   "display_name": "Python 3",
   "language": "python"
  }
 },
 "nbformat": 4,
 "nbformat_minor": 2,
 "cells": [
  {
   "source": [
    "### bool\n",
    "\n",
    "- kan tage `True` eller `False`"
   ],
   "cell_type": "markdown",
   "metadata": {}
  },
  {
   "source": [
    "### operationer on int og flat\n",
    "\n",
    "- // integer division = [x/y]\n",
    "\n",
    "- man runder ned.\n",
    "\n",
    "- / division return float 6/3 = 2.0\n",
    "\n",
    "- % integer division remainder (modulo)\n",
    " "
   ],
   "cell_type": "markdown",
   "metadata": {}
  },
  {
   "cell_type": "code",
   "execution_count": 10,
   "metadata": {},
   "outputs": [
    {
     "output_type": "stream",
     "name": "stdout",
     "text": [
      "i = 0 x = 1 Result = 1 time(sec = 1.9073486328125e-06\n",
      "i = 1 x = 1 Result = 1 time(sec = 1.9073486328125e-06\n",
      "i = 2 x = 2 Result = 1 time(sec = 4.0531158447265625e-06\n",
      "i = 3 x = 3 Result = 1 time(sec = 1.1920928955078125e-06\n",
      "i = 4 x = 5 Result = 1 time(sec = 1.6689300537109375e-06\n",
      "i = 5 x = 7 Result = 1 time(sec = 1.9073486328125e-06\n",
      "i = 6 x = 11 Result = 1 time(sec = 1.1920928955078125e-06\n",
      "i = 7 x = 17 Result = 1 time(sec = 2.1457672119140625e-06\n",
      "i = 8 x = 25 Result = 1 time(sec = 2.6226043701171875e-06\n",
      "i = 9 x = 38 Result = 1 time(sec = 3.814697265625e-06\n",
      "i = 10 x = 57 Result = 1 time(sec = 4.0531158447265625e-06\n",
      "i = 11 x = 86 Result = 1 time(sec = 5.7220458984375e-06\n",
      "i = 12 x = 129 Result = 1 time(sec = 5.9604644775390625e-06\n",
      "i = 13 x = 194 Result = 1 time(sec = 9.059906005859375e-06\n",
      "i = 14 x = 291 Result = 1 time(sec = 7.867813110351562e-06\n",
      "i = 15 x = 437 Result = 1 time(sec = 6.198883056640625e-06\n",
      "i = 16 x = 656 Result = 1 time(sec = 4.76837158203125e-06\n",
      "i = 17 x = 985 Result = 1 time(sec = 6.9141387939453125e-06\n",
      "i = 18 x = 1477 Result = 1 time(sec = 8.821487426757812e-06\n",
      "i = 19 x = 2216 Result = 1 time(sec = 1.3113021850585938e-05\n",
      "i = 20 x = 3325 Result = 1 time(sec = 4.315376281738281e-05\n",
      "i = 21 x = 4987 Result = 1 time(sec = 7.224082946777344e-05\n",
      "i = 22 x = 7481 Result = 1 time(sec = 0.0001461505889892578\n",
      "i = 23 x = 11222 Result = 1 time(sec = 0.0002410411834716797\n",
      "i = 24 x = 16834 Result = 1 time(sec = 0.0004799365997314453\n",
      "i = 25 x = 25251 Result = 1 time(sec = 0.0008890628814697266\n",
      "i = 26 x = 37876 Result = 1 time(sec = 0.0010769367218017578\n",
      "i = 27 x = 56815 Result = 1 time(sec = 0.001940011978149414\n",
      "i = 28 x = 85222 Result = 1 time(sec = 0.0048313140869140625\n",
      "i = 29 x = 127834 Result = 1 time(sec = 0.007650136947631836\n",
      "i = 30 x = 191751 Result = 1 time(sec = 0.0173342227935791\n",
      "i = 31 x = 287626 Result = 1 time(sec = 0.031545162200927734\n",
      "i = 32 x = 431439 Result = 1 time(sec = 0.06298089027404785\n",
      "i = 33 x = 647159 Result = 1 time(sec = 0.11548304557800293\n",
      "i = 34 x = 970739 Result = 1 time(sec = 0.216843843460083\n",
      "i = 35 x = 1456109 Result = 1 time(sec = 0.46436595916748047\n",
      "i = 36 x = 2184164 Result = 1 time(sec = 0.9962990283966064\n",
      "i = 37 x = 3276246 Result = 1 time(sec = 1.7614071369171143\n",
      "i = 38 x = 4914369 Result = 1 time(sec = 3.2787160873413086\n",
      "i = 39 x = 7371554 Result = 1 time(sec = 5.799925088882446\n",
      "i = 40 x = 11057332 Result = 1 time(sec = 11.04708194732666\n",
      "i = 41 x = 16585998 Result = 1 time(sec = 19.19853973388672\n"
     ]
    }
   ],
   "source": [
    "# måler hastigheden\n",
    "# tager lidt tid at kører igennem\n",
    "from time import time\n",
    "import matplotlib.pyplot as plt\n",
    "\n",
    "bits, compute_time = [], []\n",
    "\n",
    "for i in range(42):\n",
    "    x = 3**i // 2**i\n",
    "    start = time()\n",
    "    result = 3**x // 3**x\n",
    "    end = time()\n",
    "    t = end - start\n",
    "    print('i =', i, 'x =', x, 'Result =', result, 'time(sec =', t)\n",
    "    bits.append(x)\n",
    "    compute_time.append(t)"
   ]
  },
  {
   "cell_type": "code",
   "execution_count": 11,
   "metadata": {},
   "outputs": [
    {
     "output_type": "display_data",
     "data": {
      "text/plain": "<Figure size 432x288 with 1 Axes>",
      "image/svg+xml": "<?xml version=\"1.0\" encoding=\"utf-8\" standalone=\"no\"?>\n<!DOCTYPE svg PUBLIC \"-//W3C//DTD SVG 1.1//EN\"\n  \"http://www.w3.org/Graphics/SVG/1.1/DTD/svg11.dtd\">\n<!-- Created with matplotlib (https://matplotlib.org/) -->\n<svg height=\"277.314375pt\" version=\"1.1\" viewBox=\"0 0 392.14375 277.314375\" width=\"392.14375pt\" xmlns=\"http://www.w3.org/2000/svg\" xmlns:xlink=\"http://www.w3.org/1999/xlink\">\n <metadata>\n  <rdf:RDF xmlns:cc=\"http://creativecommons.org/ns#\" xmlns:dc=\"http://purl.org/dc/elements/1.1/\" xmlns:rdf=\"http://www.w3.org/1999/02/22-rdf-syntax-ns#\">\n   <cc:Work>\n    <dc:type rdf:resource=\"http://purl.org/dc/dcmitype/StillImage\"/>\n    <dc:date>2021-02-10T21:17:03.691046</dc:date>\n    <dc:format>image/svg+xml</dc:format>\n    <dc:creator>\n     <cc:Agent>\n      <dc:title>Matplotlib v3.3.4, https://matplotlib.org/</dc:title>\n     </cc:Agent>\n    </dc:creator>\n   </cc:Work>\n  </rdf:RDF>\n </metadata>\n <defs>\n  <style type=\"text/css\">*{stroke-linecap:butt;stroke-linejoin:round;}</style>\n </defs>\n <g id=\"figure_1\">\n  <g id=\"patch_1\">\n   <path d=\"M 0 277.314375 \nL 392.14375 277.314375 \nL 392.14375 0 \nL 0 0 \nz\n\" style=\"fill:none;\"/>\n  </g>\n  <g id=\"axes_1\">\n   <g id=\"patch_2\">\n    <path d=\"M 50.14375 239.758125 \nL 384.94375 239.758125 \nL 384.94375 22.318125 \nL 50.14375 22.318125 \nz\n\" style=\"fill:#ffffff;\"/>\n   </g>\n   <g id=\"matplotlib.axis_1\">\n    <g id=\"xtick_1\">\n     <g id=\"line2d_1\">\n      <defs>\n       <path d=\"M 0 0 \nL 0 3.5 \n\" id=\"m57eb26bb42\" style=\"stroke:#000000;stroke-width:0.8;\"/>\n      </defs>\n      <g>\n       <use style=\"stroke:#000000;stroke-width:0.8;\" x=\"65.361913\" xlink:href=\"#m57eb26bb42\" y=\"239.758125\"/>\n      </g>\n     </g>\n     <g id=\"text_1\">\n      <!-- 0.00 -->\n      <g transform=\"translate(54.229101 254.356562)scale(0.1 -0.1)\">\n       <defs>\n        <path d=\"M 31.78125 66.40625 \nQ 24.171875 66.40625 20.328125 58.90625 \nQ 16.5 51.421875 16.5 36.375 \nQ 16.5 21.390625 20.328125 13.890625 \nQ 24.171875 6.390625 31.78125 6.390625 \nQ 39.453125 6.390625 43.28125 13.890625 \nQ 47.125 21.390625 47.125 36.375 \nQ 47.125 51.421875 43.28125 58.90625 \nQ 39.453125 66.40625 31.78125 66.40625 \nz\nM 31.78125 74.21875 \nQ 44.046875 74.21875 50.515625 64.515625 \nQ 56.984375 54.828125 56.984375 36.375 \nQ 56.984375 17.96875 50.515625 8.265625 \nQ 44.046875 -1.421875 31.78125 -1.421875 \nQ 19.53125 -1.421875 13.0625 8.265625 \nQ 6.59375 17.96875 6.59375 36.375 \nQ 6.59375 54.828125 13.0625 64.515625 \nQ 19.53125 74.21875 31.78125 74.21875 \nz\n\" id=\"DejaVuSans-48\"/>\n        <path d=\"M 10.6875 12.40625 \nL 21 12.40625 \nL 21 0 \nL 10.6875 0 \nz\n\" id=\"DejaVuSans-46\"/>\n       </defs>\n       <use xlink:href=\"#DejaVuSans-48\"/>\n       <use x=\"63.623047\" xlink:href=\"#DejaVuSans-46\"/>\n       <use x=\"95.410156\" xlink:href=\"#DejaVuSans-48\"/>\n       <use x=\"159.033203\" xlink:href=\"#DejaVuSans-48\"/>\n      </g>\n     </g>\n    </g>\n    <g id=\"xtick_2\">\n     <g id=\"line2d_2\">\n      <g>\n       <use style=\"stroke:#000000;stroke-width:0.8;\" x=\"111.23851\" xlink:href=\"#m57eb26bb42\" y=\"239.758125\"/>\n      </g>\n     </g>\n     <g id=\"text_2\">\n      <!-- 0.25 -->\n      <g transform=\"translate(100.105697 254.356562)scale(0.1 -0.1)\">\n       <defs>\n        <path d=\"M 19.1875 8.296875 \nL 53.609375 8.296875 \nL 53.609375 0 \nL 7.328125 0 \nL 7.328125 8.296875 \nQ 12.9375 14.109375 22.625 23.890625 \nQ 32.328125 33.6875 34.8125 36.53125 \nQ 39.546875 41.84375 41.421875 45.53125 \nQ 43.3125 49.21875 43.3125 52.78125 \nQ 43.3125 58.59375 39.234375 62.25 \nQ 35.15625 65.921875 28.609375 65.921875 \nQ 23.96875 65.921875 18.8125 64.3125 \nQ 13.671875 62.703125 7.8125 59.421875 \nL 7.8125 69.390625 \nQ 13.765625 71.78125 18.9375 73 \nQ 24.125 74.21875 28.421875 74.21875 \nQ 39.75 74.21875 46.484375 68.546875 \nQ 53.21875 62.890625 53.21875 53.421875 \nQ 53.21875 48.921875 51.53125 44.890625 \nQ 49.859375 40.875 45.40625 35.40625 \nQ 44.1875 33.984375 37.640625 27.21875 \nQ 31.109375 20.453125 19.1875 8.296875 \nz\n\" id=\"DejaVuSans-50\"/>\n        <path d=\"M 10.796875 72.90625 \nL 49.515625 72.90625 \nL 49.515625 64.59375 \nL 19.828125 64.59375 \nL 19.828125 46.734375 \nQ 21.96875 47.46875 24.109375 47.828125 \nQ 26.265625 48.1875 28.421875 48.1875 \nQ 40.625 48.1875 47.75 41.5 \nQ 54.890625 34.8125 54.890625 23.390625 \nQ 54.890625 11.625 47.5625 5.09375 \nQ 40.234375 -1.421875 26.90625 -1.421875 \nQ 22.3125 -1.421875 17.546875 -0.640625 \nQ 12.796875 0.140625 7.71875 1.703125 \nL 7.71875 11.625 \nQ 12.109375 9.234375 16.796875 8.0625 \nQ 21.484375 6.890625 26.703125 6.890625 \nQ 35.15625 6.890625 40.078125 11.328125 \nQ 45.015625 15.765625 45.015625 23.390625 \nQ 45.015625 31 40.078125 35.4375 \nQ 35.15625 39.890625 26.703125 39.890625 \nQ 22.75 39.890625 18.8125 39.015625 \nQ 14.890625 38.140625 10.796875 36.28125 \nz\n\" id=\"DejaVuSans-53\"/>\n       </defs>\n       <use xlink:href=\"#DejaVuSans-48\"/>\n       <use x=\"63.623047\" xlink:href=\"#DejaVuSans-46\"/>\n       <use x=\"95.410156\" xlink:href=\"#DejaVuSans-50\"/>\n       <use x=\"159.033203\" xlink:href=\"#DejaVuSans-53\"/>\n      </g>\n     </g>\n    </g>\n    <g id=\"xtick_3\">\n     <g id=\"line2d_3\">\n      <g>\n       <use style=\"stroke:#000000;stroke-width:0.8;\" x=\"157.115106\" xlink:href=\"#m57eb26bb42\" y=\"239.758125\"/>\n      </g>\n     </g>\n     <g id=\"text_3\">\n      <!-- 0.50 -->\n      <g transform=\"translate(145.982294 254.356562)scale(0.1 -0.1)\">\n       <use xlink:href=\"#DejaVuSans-48\"/>\n       <use x=\"63.623047\" xlink:href=\"#DejaVuSans-46\"/>\n       <use x=\"95.410156\" xlink:href=\"#DejaVuSans-53\"/>\n       <use x=\"159.033203\" xlink:href=\"#DejaVuSans-48\"/>\n      </g>\n     </g>\n    </g>\n    <g id=\"xtick_4\">\n     <g id=\"line2d_4\">\n      <g>\n       <use style=\"stroke:#000000;stroke-width:0.8;\" x=\"202.991703\" xlink:href=\"#m57eb26bb42\" y=\"239.758125\"/>\n      </g>\n     </g>\n     <g id=\"text_4\">\n      <!-- 0.75 -->\n      <g transform=\"translate(191.85889 254.356562)scale(0.1 -0.1)\">\n       <defs>\n        <path d=\"M 8.203125 72.90625 \nL 55.078125 72.90625 \nL 55.078125 68.703125 \nL 28.609375 0 \nL 18.3125 0 \nL 43.21875 64.59375 \nL 8.203125 64.59375 \nz\n\" id=\"DejaVuSans-55\"/>\n       </defs>\n       <use xlink:href=\"#DejaVuSans-48\"/>\n       <use x=\"63.623047\" xlink:href=\"#DejaVuSans-46\"/>\n       <use x=\"95.410156\" xlink:href=\"#DejaVuSans-55\"/>\n       <use x=\"159.033203\" xlink:href=\"#DejaVuSans-53\"/>\n      </g>\n     </g>\n    </g>\n    <g id=\"xtick_5\">\n     <g id=\"line2d_5\">\n      <g>\n       <use style=\"stroke:#000000;stroke-width:0.8;\" x=\"248.868299\" xlink:href=\"#m57eb26bb42\" y=\"239.758125\"/>\n      </g>\n     </g>\n     <g id=\"text_5\">\n      <!-- 1.00 -->\n      <g transform=\"translate(237.735487 254.356562)scale(0.1 -0.1)\">\n       <defs>\n        <path d=\"M 12.40625 8.296875 \nL 28.515625 8.296875 \nL 28.515625 63.921875 \nL 10.984375 60.40625 \nL 10.984375 69.390625 \nL 28.421875 72.90625 \nL 38.28125 72.90625 \nL 38.28125 8.296875 \nL 54.390625 8.296875 \nL 54.390625 0 \nL 12.40625 0 \nz\n\" id=\"DejaVuSans-49\"/>\n       </defs>\n       <use xlink:href=\"#DejaVuSans-49\"/>\n       <use x=\"63.623047\" xlink:href=\"#DejaVuSans-46\"/>\n       <use x=\"95.410156\" xlink:href=\"#DejaVuSans-48\"/>\n       <use x=\"159.033203\" xlink:href=\"#DejaVuSans-48\"/>\n      </g>\n     </g>\n    </g>\n    <g id=\"xtick_6\">\n     <g id=\"line2d_6\">\n      <g>\n       <use style=\"stroke:#000000;stroke-width:0.8;\" x=\"294.744896\" xlink:href=\"#m57eb26bb42\" y=\"239.758125\"/>\n      </g>\n     </g>\n     <g id=\"text_6\">\n      <!-- 1.25 -->\n      <g transform=\"translate(283.612083 254.356562)scale(0.1 -0.1)\">\n       <use xlink:href=\"#DejaVuSans-49\"/>\n       <use x=\"63.623047\" xlink:href=\"#DejaVuSans-46\"/>\n       <use x=\"95.410156\" xlink:href=\"#DejaVuSans-50\"/>\n       <use x=\"159.033203\" xlink:href=\"#DejaVuSans-53\"/>\n      </g>\n     </g>\n    </g>\n    <g id=\"xtick_7\">\n     <g id=\"line2d_7\">\n      <g>\n       <use style=\"stroke:#000000;stroke-width:0.8;\" x=\"340.621492\" xlink:href=\"#m57eb26bb42\" y=\"239.758125\"/>\n      </g>\n     </g>\n     <g id=\"text_7\">\n      <!-- 1.50 -->\n      <g transform=\"translate(329.48868 254.356562)scale(0.1 -0.1)\">\n       <use xlink:href=\"#DejaVuSans-49\"/>\n       <use x=\"63.623047\" xlink:href=\"#DejaVuSans-46\"/>\n       <use x=\"95.410156\" xlink:href=\"#DejaVuSans-53\"/>\n       <use x=\"159.033203\" xlink:href=\"#DejaVuSans-48\"/>\n      </g>\n     </g>\n    </g>\n    <g id=\"text_8\">\n     <!-- x -->\n     <g transform=\"translate(214.584375 268.034687)scale(0.1 -0.1)\">\n      <defs>\n       <path d=\"M 54.890625 54.6875 \nL 35.109375 28.078125 \nL 55.90625 0 \nL 45.3125 0 \nL 29.390625 21.484375 \nL 13.484375 0 \nL 2.875 0 \nL 24.125 28.609375 \nL 4.6875 54.6875 \nL 15.28125 54.6875 \nL 29.78125 35.203125 \nL 44.28125 54.6875 \nz\n\" id=\"DejaVuSans-120\"/>\n      </defs>\n      <use xlink:href=\"#DejaVuSans-120\"/>\n     </g>\n    </g>\n    <g id=\"text_9\">\n     <!-- 1e7 -->\n     <g transform=\"translate(366.065625 267.034687)scale(0.1 -0.1)\">\n      <defs>\n       <path d=\"M 56.203125 29.59375 \nL 56.203125 25.203125 \nL 14.890625 25.203125 \nQ 15.484375 15.921875 20.484375 11.0625 \nQ 25.484375 6.203125 34.421875 6.203125 \nQ 39.59375 6.203125 44.453125 7.46875 \nQ 49.3125 8.734375 54.109375 11.28125 \nL 54.109375 2.78125 \nQ 49.265625 0.734375 44.1875 -0.34375 \nQ 39.109375 -1.421875 33.890625 -1.421875 \nQ 20.796875 -1.421875 13.15625 6.1875 \nQ 5.515625 13.8125 5.515625 26.8125 \nQ 5.515625 40.234375 12.765625 48.109375 \nQ 20.015625 56 32.328125 56 \nQ 43.359375 56 49.78125 48.890625 \nQ 56.203125 41.796875 56.203125 29.59375 \nz\nM 47.21875 32.234375 \nQ 47.125 39.59375 43.09375 43.984375 \nQ 39.0625 48.390625 32.421875 48.390625 \nQ 24.90625 48.390625 20.390625 44.140625 \nQ 15.875 39.890625 15.1875 32.171875 \nz\n\" id=\"DejaVuSans-101\"/>\n      </defs>\n      <use xlink:href=\"#DejaVuSans-49\"/>\n      <use x=\"63.623047\" xlink:href=\"#DejaVuSans-101\"/>\n      <use x=\"125.146484\" xlink:href=\"#DejaVuSans-55\"/>\n     </g>\n    </g>\n   </g>\n   <g id=\"matplotlib.axis_2\">\n    <g id=\"ytick_1\">\n     <g id=\"line2d_8\">\n      <defs>\n       <path d=\"M 0 0 \nL -3.5 0 \n\" id=\"me15ef9f1a4\" style=\"stroke:#000000;stroke-width:0.8;\"/>\n      </defs>\n      <g>\n       <use style=\"stroke:#000000;stroke-width:0.8;\" x=\"50.14375\" xlink:href=\"#me15ef9f1a4\" y=\"229.874501\"/>\n      </g>\n     </g>\n     <g id=\"text_10\">\n      <!-- 0.0 -->\n      <g transform=\"translate(27.240625 233.67372)scale(0.1 -0.1)\">\n       <use xlink:href=\"#DejaVuSans-48\"/>\n       <use x=\"63.623047\" xlink:href=\"#DejaVuSans-46\"/>\n       <use x=\"95.410156\" xlink:href=\"#DejaVuSans-48\"/>\n      </g>\n     </g>\n    </g>\n    <g id=\"ytick_2\">\n     <g id=\"line2d_9\">\n      <g>\n       <use style=\"stroke:#000000;stroke-width:0.8;\" x=\"50.14375\" xlink:href=\"#me15ef9f1a4\" y=\"204.133905\"/>\n      </g>\n     </g>\n     <g id=\"text_11\">\n      <!-- 2.5 -->\n      <g transform=\"translate(27.240625 207.933124)scale(0.1 -0.1)\">\n       <use xlink:href=\"#DejaVuSans-50\"/>\n       <use x=\"63.623047\" xlink:href=\"#DejaVuSans-46\"/>\n       <use x=\"95.410156\" xlink:href=\"#DejaVuSans-53\"/>\n      </g>\n     </g>\n    </g>\n    <g id=\"ytick_3\">\n     <g id=\"line2d_10\">\n      <g>\n       <use style=\"stroke:#000000;stroke-width:0.8;\" x=\"50.14375\" xlink:href=\"#me15ef9f1a4\" y=\"178.39331\"/>\n      </g>\n     </g>\n     <g id=\"text_12\">\n      <!-- 5.0 -->\n      <g transform=\"translate(27.240625 182.192528)scale(0.1 -0.1)\">\n       <use xlink:href=\"#DejaVuSans-53\"/>\n       <use x=\"63.623047\" xlink:href=\"#DejaVuSans-46\"/>\n       <use x=\"95.410156\" xlink:href=\"#DejaVuSans-48\"/>\n      </g>\n     </g>\n    </g>\n    <g id=\"ytick_4\">\n     <g id=\"line2d_11\">\n      <g>\n       <use style=\"stroke:#000000;stroke-width:0.8;\" x=\"50.14375\" xlink:href=\"#me15ef9f1a4\" y=\"152.652714\"/>\n      </g>\n     </g>\n     <g id=\"text_13\">\n      <!-- 7.5 -->\n      <g transform=\"translate(27.240625 156.451933)scale(0.1 -0.1)\">\n       <use xlink:href=\"#DejaVuSans-55\"/>\n       <use x=\"63.623047\" xlink:href=\"#DejaVuSans-46\"/>\n       <use x=\"95.410156\" xlink:href=\"#DejaVuSans-53\"/>\n      </g>\n     </g>\n    </g>\n    <g id=\"ytick_5\">\n     <g id=\"line2d_12\">\n      <g>\n       <use style=\"stroke:#000000;stroke-width:0.8;\" x=\"50.14375\" xlink:href=\"#me15ef9f1a4\" y=\"126.912118\"/>\n      </g>\n     </g>\n     <g id=\"text_14\">\n      <!-- 10.0 -->\n      <g transform=\"translate(20.878125 130.711337)scale(0.1 -0.1)\">\n       <use xlink:href=\"#DejaVuSans-49\"/>\n       <use x=\"63.623047\" xlink:href=\"#DejaVuSans-48\"/>\n       <use x=\"127.246094\" xlink:href=\"#DejaVuSans-46\"/>\n       <use x=\"159.033203\" xlink:href=\"#DejaVuSans-48\"/>\n      </g>\n     </g>\n    </g>\n    <g id=\"ytick_6\">\n     <g id=\"line2d_13\">\n      <g>\n       <use style=\"stroke:#000000;stroke-width:0.8;\" x=\"50.14375\" xlink:href=\"#me15ef9f1a4\" y=\"101.171523\"/>\n      </g>\n     </g>\n     <g id=\"text_15\">\n      <!-- 12.5 -->\n      <g transform=\"translate(20.878125 104.970741)scale(0.1 -0.1)\">\n       <use xlink:href=\"#DejaVuSans-49\"/>\n       <use x=\"63.623047\" xlink:href=\"#DejaVuSans-50\"/>\n       <use x=\"127.246094\" xlink:href=\"#DejaVuSans-46\"/>\n       <use x=\"159.033203\" xlink:href=\"#DejaVuSans-53\"/>\n      </g>\n     </g>\n    </g>\n    <g id=\"ytick_7\">\n     <g id=\"line2d_14\">\n      <g>\n       <use style=\"stroke:#000000;stroke-width:0.8;\" x=\"50.14375\" xlink:href=\"#me15ef9f1a4\" y=\"75.430927\"/>\n      </g>\n     </g>\n     <g id=\"text_16\">\n      <!-- 15.0 -->\n      <g transform=\"translate(20.878125 79.230146)scale(0.1 -0.1)\">\n       <use xlink:href=\"#DejaVuSans-49\"/>\n       <use x=\"63.623047\" xlink:href=\"#DejaVuSans-53\"/>\n       <use x=\"127.246094\" xlink:href=\"#DejaVuSans-46\"/>\n       <use x=\"159.033203\" xlink:href=\"#DejaVuSans-48\"/>\n      </g>\n     </g>\n    </g>\n    <g id=\"ytick_8\">\n     <g id=\"line2d_15\">\n      <g>\n       <use style=\"stroke:#000000;stroke-width:0.8;\" x=\"50.14375\" xlink:href=\"#me15ef9f1a4\" y=\"49.690331\"/>\n      </g>\n     </g>\n     <g id=\"text_17\">\n      <!-- 17.5 -->\n      <g transform=\"translate(20.878125 53.48955)scale(0.1 -0.1)\">\n       <use xlink:href=\"#DejaVuSans-49\"/>\n       <use x=\"63.623047\" xlink:href=\"#DejaVuSans-55\"/>\n       <use x=\"127.246094\" xlink:href=\"#DejaVuSans-46\"/>\n       <use x=\"159.033203\" xlink:href=\"#DejaVuSans-53\"/>\n      </g>\n     </g>\n    </g>\n    <g id=\"ytick_9\">\n     <g id=\"line2d_16\">\n      <g>\n       <use style=\"stroke:#000000;stroke-width:0.8;\" x=\"50.14375\" xlink:href=\"#me15ef9f1a4\" y=\"23.949735\"/>\n      </g>\n     </g>\n     <g id=\"text_18\">\n      <!-- 20.0 -->\n      <g transform=\"translate(20.878125 27.748954)scale(0.1 -0.1)\">\n       <use xlink:href=\"#DejaVuSans-50\"/>\n       <use x=\"63.623047\" xlink:href=\"#DejaVuSans-48\"/>\n       <use x=\"127.246094\" xlink:href=\"#DejaVuSans-46\"/>\n       <use x=\"159.033203\" xlink:href=\"#DejaVuSans-48\"/>\n      </g>\n     </g>\n    </g>\n    <g id=\"text_19\">\n     <!-- computation time -->\n     <g transform=\"translate(14.798438 175.546719)rotate(-90)scale(0.1 -0.1)\">\n      <defs>\n       <path d=\"M 48.78125 52.59375 \nL 48.78125 44.1875 \nQ 44.96875 46.296875 41.140625 47.34375 \nQ 37.3125 48.390625 33.40625 48.390625 \nQ 24.65625 48.390625 19.8125 42.84375 \nQ 14.984375 37.3125 14.984375 27.296875 \nQ 14.984375 17.28125 19.8125 11.734375 \nQ 24.65625 6.203125 33.40625 6.203125 \nQ 37.3125 6.203125 41.140625 7.25 \nQ 44.96875 8.296875 48.78125 10.40625 \nL 48.78125 2.09375 \nQ 45.015625 0.34375 40.984375 -0.53125 \nQ 36.96875 -1.421875 32.421875 -1.421875 \nQ 20.0625 -1.421875 12.78125 6.34375 \nQ 5.515625 14.109375 5.515625 27.296875 \nQ 5.515625 40.671875 12.859375 48.328125 \nQ 20.21875 56 33.015625 56 \nQ 37.15625 56 41.109375 55.140625 \nQ 45.0625 54.296875 48.78125 52.59375 \nz\n\" id=\"DejaVuSans-99\"/>\n       <path d=\"M 30.609375 48.390625 \nQ 23.390625 48.390625 19.1875 42.75 \nQ 14.984375 37.109375 14.984375 27.296875 \nQ 14.984375 17.484375 19.15625 11.84375 \nQ 23.34375 6.203125 30.609375 6.203125 \nQ 37.796875 6.203125 41.984375 11.859375 \nQ 46.1875 17.53125 46.1875 27.296875 \nQ 46.1875 37.015625 41.984375 42.703125 \nQ 37.796875 48.390625 30.609375 48.390625 \nz\nM 30.609375 56 \nQ 42.328125 56 49.015625 48.375 \nQ 55.71875 40.765625 55.71875 27.296875 \nQ 55.71875 13.875 49.015625 6.21875 \nQ 42.328125 -1.421875 30.609375 -1.421875 \nQ 18.84375 -1.421875 12.171875 6.21875 \nQ 5.515625 13.875 5.515625 27.296875 \nQ 5.515625 40.765625 12.171875 48.375 \nQ 18.84375 56 30.609375 56 \nz\n\" id=\"DejaVuSans-111\"/>\n       <path d=\"M 52 44.1875 \nQ 55.375 50.25 60.0625 53.125 \nQ 64.75 56 71.09375 56 \nQ 79.640625 56 84.28125 50.015625 \nQ 88.921875 44.046875 88.921875 33.015625 \nL 88.921875 0 \nL 79.890625 0 \nL 79.890625 32.71875 \nQ 79.890625 40.578125 77.09375 44.375 \nQ 74.3125 48.1875 68.609375 48.1875 \nQ 61.625 48.1875 57.5625 43.546875 \nQ 53.515625 38.921875 53.515625 30.90625 \nL 53.515625 0 \nL 44.484375 0 \nL 44.484375 32.71875 \nQ 44.484375 40.625 41.703125 44.40625 \nQ 38.921875 48.1875 33.109375 48.1875 \nQ 26.21875 48.1875 22.15625 43.53125 \nQ 18.109375 38.875 18.109375 30.90625 \nL 18.109375 0 \nL 9.078125 0 \nL 9.078125 54.6875 \nL 18.109375 54.6875 \nL 18.109375 46.1875 \nQ 21.1875 51.21875 25.484375 53.609375 \nQ 29.78125 56 35.6875 56 \nQ 41.65625 56 45.828125 52.96875 \nQ 50 49.953125 52 44.1875 \nz\n\" id=\"DejaVuSans-109\"/>\n       <path d=\"M 18.109375 8.203125 \nL 18.109375 -20.796875 \nL 9.078125 -20.796875 \nL 9.078125 54.6875 \nL 18.109375 54.6875 \nL 18.109375 46.390625 \nQ 20.953125 51.265625 25.265625 53.625 \nQ 29.59375 56 35.59375 56 \nQ 45.5625 56 51.78125 48.09375 \nQ 58.015625 40.1875 58.015625 27.296875 \nQ 58.015625 14.40625 51.78125 6.484375 \nQ 45.5625 -1.421875 35.59375 -1.421875 \nQ 29.59375 -1.421875 25.265625 0.953125 \nQ 20.953125 3.328125 18.109375 8.203125 \nz\nM 48.6875 27.296875 \nQ 48.6875 37.203125 44.609375 42.84375 \nQ 40.53125 48.484375 33.40625 48.484375 \nQ 26.265625 48.484375 22.1875 42.84375 \nQ 18.109375 37.203125 18.109375 27.296875 \nQ 18.109375 17.390625 22.1875 11.75 \nQ 26.265625 6.109375 33.40625 6.109375 \nQ 40.53125 6.109375 44.609375 11.75 \nQ 48.6875 17.390625 48.6875 27.296875 \nz\n\" id=\"DejaVuSans-112\"/>\n       <path d=\"M 8.5 21.578125 \nL 8.5 54.6875 \nL 17.484375 54.6875 \nL 17.484375 21.921875 \nQ 17.484375 14.15625 20.5 10.265625 \nQ 23.53125 6.390625 29.59375 6.390625 \nQ 36.859375 6.390625 41.078125 11.03125 \nQ 45.3125 15.671875 45.3125 23.6875 \nL 45.3125 54.6875 \nL 54.296875 54.6875 \nL 54.296875 0 \nL 45.3125 0 \nL 45.3125 8.40625 \nQ 42.046875 3.421875 37.71875 1 \nQ 33.40625 -1.421875 27.6875 -1.421875 \nQ 18.265625 -1.421875 13.375 4.4375 \nQ 8.5 10.296875 8.5 21.578125 \nz\nM 31.109375 56 \nz\n\" id=\"DejaVuSans-117\"/>\n       <path d=\"M 18.3125 70.21875 \nL 18.3125 54.6875 \nL 36.8125 54.6875 \nL 36.8125 47.703125 \nL 18.3125 47.703125 \nL 18.3125 18.015625 \nQ 18.3125 11.328125 20.140625 9.421875 \nQ 21.96875 7.515625 27.59375 7.515625 \nL 36.8125 7.515625 \nL 36.8125 0 \nL 27.59375 0 \nQ 17.1875 0 13.234375 3.875 \nQ 9.28125 7.765625 9.28125 18.015625 \nL 9.28125 47.703125 \nL 2.6875 47.703125 \nL 2.6875 54.6875 \nL 9.28125 54.6875 \nL 9.28125 70.21875 \nz\n\" id=\"DejaVuSans-116\"/>\n       <path d=\"M 34.28125 27.484375 \nQ 23.390625 27.484375 19.1875 25 \nQ 14.984375 22.515625 14.984375 16.5 \nQ 14.984375 11.71875 18.140625 8.90625 \nQ 21.296875 6.109375 26.703125 6.109375 \nQ 34.1875 6.109375 38.703125 11.40625 \nQ 43.21875 16.703125 43.21875 25.484375 \nL 43.21875 27.484375 \nz\nM 52.203125 31.203125 \nL 52.203125 0 \nL 43.21875 0 \nL 43.21875 8.296875 \nQ 40.140625 3.328125 35.546875 0.953125 \nQ 30.953125 -1.421875 24.3125 -1.421875 \nQ 15.921875 -1.421875 10.953125 3.296875 \nQ 6 8.015625 6 15.921875 \nQ 6 25.140625 12.171875 29.828125 \nQ 18.359375 34.515625 30.609375 34.515625 \nL 43.21875 34.515625 \nL 43.21875 35.40625 \nQ 43.21875 41.609375 39.140625 45 \nQ 35.0625 48.390625 27.6875 48.390625 \nQ 23 48.390625 18.546875 47.265625 \nQ 14.109375 46.140625 10.015625 43.890625 \nL 10.015625 52.203125 \nQ 14.9375 54.109375 19.578125 55.046875 \nQ 24.21875 56 28.609375 56 \nQ 40.484375 56 46.34375 49.84375 \nQ 52.203125 43.703125 52.203125 31.203125 \nz\n\" id=\"DejaVuSans-97\"/>\n       <path d=\"M 9.421875 54.6875 \nL 18.40625 54.6875 \nL 18.40625 0 \nL 9.421875 0 \nz\nM 9.421875 75.984375 \nL 18.40625 75.984375 \nL 18.40625 64.59375 \nL 9.421875 64.59375 \nz\n\" id=\"DejaVuSans-105\"/>\n       <path d=\"M 54.890625 33.015625 \nL 54.890625 0 \nL 45.90625 0 \nL 45.90625 32.71875 \nQ 45.90625 40.484375 42.875 44.328125 \nQ 39.84375 48.1875 33.796875 48.1875 \nQ 26.515625 48.1875 22.3125 43.546875 \nQ 18.109375 38.921875 18.109375 30.90625 \nL 18.109375 0 \nL 9.078125 0 \nL 9.078125 54.6875 \nL 18.109375 54.6875 \nL 18.109375 46.1875 \nQ 21.34375 51.125 25.703125 53.5625 \nQ 30.078125 56 35.796875 56 \nQ 45.21875 56 50.046875 50.171875 \nQ 54.890625 44.34375 54.890625 33.015625 \nz\n\" id=\"DejaVuSans-110\"/>\n       <path id=\"DejaVuSans-32\"/>\n      </defs>\n      <use xlink:href=\"#DejaVuSans-99\"/>\n      <use x=\"54.980469\" xlink:href=\"#DejaVuSans-111\"/>\n      <use x=\"116.162109\" xlink:href=\"#DejaVuSans-109\"/>\n      <use x=\"213.574219\" xlink:href=\"#DejaVuSans-112\"/>\n      <use x=\"277.050781\" xlink:href=\"#DejaVuSans-117\"/>\n      <use x=\"340.429688\" xlink:href=\"#DejaVuSans-116\"/>\n      <use x=\"379.638672\" xlink:href=\"#DejaVuSans-97\"/>\n      <use x=\"440.917969\" xlink:href=\"#DejaVuSans-116\"/>\n      <use x=\"480.126953\" xlink:href=\"#DejaVuSans-105\"/>\n      <use x=\"507.910156\" xlink:href=\"#DejaVuSans-111\"/>\n      <use x=\"569.091797\" xlink:href=\"#DejaVuSans-110\"/>\n      <use x=\"632.470703\" xlink:href=\"#DejaVuSans-32\"/>\n      <use x=\"664.257812\" xlink:href=\"#DejaVuSans-116\"/>\n      <use x=\"703.466797\" xlink:href=\"#DejaVuSans-105\"/>\n      <use x=\"731.25\" xlink:href=\"#DejaVuSans-109\"/>\n      <use x=\"828.662109\" xlink:href=\"#DejaVuSans-101\"/>\n     </g>\n    </g>\n   </g>\n   <g id=\"line2d_17\">\n    <path clip-path=\"url(#pd62040224f)\" d=\"M 65.361932 229.874481 \nL 65.361932 229.874481 \nL 65.36195 229.874459 \nL 65.361969 229.874489 \nL 65.362005 229.874484 \nL 65.362042 229.874481 \nL 65.362115 229.874489 \nL 65.362225 229.874479 \nL 65.362372 229.874474 \nL 65.362611 229.874462 \nL 65.362959 229.874459 \nL 65.363492 229.874442 \nL 65.364281 229.87444 \nL 65.365473 229.874408 \nL 65.367254 229.87442 \nL 65.369933 229.874437 \nL 65.373951 229.874452 \nL 65.379989 229.87443 \nL 65.389017 229.87441 \nL 65.402578 229.874366 \nL 65.422929 229.874057 \nL 65.453428 229.873757 \nL 65.499195 229.872996 \nL 65.567844 229.872019 \nL 65.670828 229.869559 \nL 65.825285 229.865347 \nL 66.056962 229.863413 \nL 66.404505 229.854526 \nL 66.925792 229.824757 \nL 67.707749 229.795733 \nL 68.880667 229.696024 \nL 70.640034 229.549704 \nL 73.279095 229.226035 \nL 77.237694 228.68546 \nL 83.175594 227.641825 \nL 92.082443 225.093278 \nL 105.442718 219.616369 \nL 125.48312 211.738633 \nL 155.543723 196.116059 \nL 200.634637 170.15709 \nL 268.271017 116.131113 \nL 369.725568 32.201761 \n\" style=\"fill:none;stroke:#008000;stroke-dasharray:1.5,2.475;stroke-dashoffset:0;stroke-width:1.5;\"/>\n   </g>\n   <g id=\"line2d_18\">\n    <defs>\n     <path d=\"M 0 3 \nC 0.795609 3 1.55874 2.683901 2.12132 2.12132 \nC 2.683901 1.55874 3 0.795609 3 0 \nC 3 -0.795609 2.683901 -1.55874 2.12132 -2.12132 \nC 1.55874 -2.683901 0.795609 -3 0 -3 \nC -0.795609 -3 -1.55874 -2.683901 -2.12132 -2.12132 \nC -2.683901 -1.55874 -3 -0.795609 -3 0 \nC -3 0.795609 -2.683901 1.55874 -2.12132 2.12132 \nC -1.55874 2.683901 -0.795609 3 0 3 \nz\n\" id=\"mfc78021146\" style=\"stroke:#ff0000;\"/>\n    </defs>\n    <g clip-path=\"url(#pd62040224f)\">\n     <use style=\"fill:#ff0000;stroke:#ff0000;\" x=\"65.361932\" xlink:href=\"#mfc78021146\" y=\"229.874481\"/>\n     <use style=\"fill:#ff0000;stroke:#ff0000;\" x=\"65.361932\" xlink:href=\"#mfc78021146\" y=\"229.874481\"/>\n     <use style=\"fill:#ff0000;stroke:#ff0000;\" x=\"65.36195\" xlink:href=\"#mfc78021146\" y=\"229.874459\"/>\n     <use style=\"fill:#ff0000;stroke:#ff0000;\" x=\"65.361969\" xlink:href=\"#mfc78021146\" y=\"229.874489\"/>\n     <use style=\"fill:#ff0000;stroke:#ff0000;\" x=\"65.362005\" xlink:href=\"#mfc78021146\" y=\"229.874484\"/>\n     <use style=\"fill:#ff0000;stroke:#ff0000;\" x=\"65.362042\" xlink:href=\"#mfc78021146\" y=\"229.874481\"/>\n     <use style=\"fill:#ff0000;stroke:#ff0000;\" x=\"65.362115\" xlink:href=\"#mfc78021146\" y=\"229.874489\"/>\n     <use style=\"fill:#ff0000;stroke:#ff0000;\" x=\"65.362225\" xlink:href=\"#mfc78021146\" y=\"229.874479\"/>\n     <use style=\"fill:#ff0000;stroke:#ff0000;\" x=\"65.362372\" xlink:href=\"#mfc78021146\" y=\"229.874474\"/>\n     <use style=\"fill:#ff0000;stroke:#ff0000;\" x=\"65.362611\" xlink:href=\"#mfc78021146\" y=\"229.874462\"/>\n     <use style=\"fill:#ff0000;stroke:#ff0000;\" x=\"65.362959\" xlink:href=\"#mfc78021146\" y=\"229.874459\"/>\n     <use style=\"fill:#ff0000;stroke:#ff0000;\" x=\"65.363492\" xlink:href=\"#mfc78021146\" y=\"229.874442\"/>\n     <use style=\"fill:#ff0000;stroke:#ff0000;\" x=\"65.364281\" xlink:href=\"#mfc78021146\" y=\"229.87444\"/>\n     <use style=\"fill:#ff0000;stroke:#ff0000;\" x=\"65.365473\" xlink:href=\"#mfc78021146\" y=\"229.874408\"/>\n     <use style=\"fill:#ff0000;stroke:#ff0000;\" x=\"65.367254\" xlink:href=\"#mfc78021146\" y=\"229.87442\"/>\n     <use style=\"fill:#ff0000;stroke:#ff0000;\" x=\"65.369933\" xlink:href=\"#mfc78021146\" y=\"229.874437\"/>\n     <use style=\"fill:#ff0000;stroke:#ff0000;\" x=\"65.373951\" xlink:href=\"#mfc78021146\" y=\"229.874452\"/>\n     <use style=\"fill:#ff0000;stroke:#ff0000;\" x=\"65.379989\" xlink:href=\"#mfc78021146\" y=\"229.87443\"/>\n     <use style=\"fill:#ff0000;stroke:#ff0000;\" x=\"65.389017\" xlink:href=\"#mfc78021146\" y=\"229.87441\"/>\n     <use style=\"fill:#ff0000;stroke:#ff0000;\" x=\"65.402578\" xlink:href=\"#mfc78021146\" y=\"229.874366\"/>\n     <use style=\"fill:#ff0000;stroke:#ff0000;\" x=\"65.422929\" xlink:href=\"#mfc78021146\" y=\"229.874057\"/>\n     <use style=\"fill:#ff0000;stroke:#ff0000;\" x=\"65.453428\" xlink:href=\"#mfc78021146\" y=\"229.873757\"/>\n     <use style=\"fill:#ff0000;stroke:#ff0000;\" x=\"65.499195\" xlink:href=\"#mfc78021146\" y=\"229.872996\"/>\n     <use style=\"fill:#ff0000;stroke:#ff0000;\" x=\"65.567844\" xlink:href=\"#mfc78021146\" y=\"229.872019\"/>\n     <use style=\"fill:#ff0000;stroke:#ff0000;\" x=\"65.670828\" xlink:href=\"#mfc78021146\" y=\"229.869559\"/>\n     <use style=\"fill:#ff0000;stroke:#ff0000;\" x=\"65.825285\" xlink:href=\"#mfc78021146\" y=\"229.865347\"/>\n     <use style=\"fill:#ff0000;stroke:#ff0000;\" x=\"66.056962\" xlink:href=\"#mfc78021146\" y=\"229.863413\"/>\n     <use style=\"fill:#ff0000;stroke:#ff0000;\" x=\"66.404505\" xlink:href=\"#mfc78021146\" y=\"229.854526\"/>\n     <use style=\"fill:#ff0000;stroke:#ff0000;\" x=\"66.925792\" xlink:href=\"#mfc78021146\" y=\"229.824757\"/>\n     <use style=\"fill:#ff0000;stroke:#ff0000;\" x=\"67.707749\" xlink:href=\"#mfc78021146\" y=\"229.795733\"/>\n     <use style=\"fill:#ff0000;stroke:#ff0000;\" x=\"68.880667\" xlink:href=\"#mfc78021146\" y=\"229.696024\"/>\n     <use style=\"fill:#ff0000;stroke:#ff0000;\" x=\"70.640034\" xlink:href=\"#mfc78021146\" y=\"229.549704\"/>\n     <use style=\"fill:#ff0000;stroke:#ff0000;\" x=\"73.279095\" xlink:href=\"#mfc78021146\" y=\"229.226035\"/>\n     <use style=\"fill:#ff0000;stroke:#ff0000;\" x=\"77.237694\" xlink:href=\"#mfc78021146\" y=\"228.68546\"/>\n     <use style=\"fill:#ff0000;stroke:#ff0000;\" x=\"83.175594\" xlink:href=\"#mfc78021146\" y=\"227.641825\"/>\n     <use style=\"fill:#ff0000;stroke:#ff0000;\" x=\"92.082443\" xlink:href=\"#mfc78021146\" y=\"225.093278\"/>\n     <use style=\"fill:#ff0000;stroke:#ff0000;\" x=\"105.442718\" xlink:href=\"#mfc78021146\" y=\"219.616369\"/>\n     <use style=\"fill:#ff0000;stroke:#ff0000;\" x=\"125.48312\" xlink:href=\"#mfc78021146\" y=\"211.738633\"/>\n     <use style=\"fill:#ff0000;stroke:#ff0000;\" x=\"155.543723\" xlink:href=\"#mfc78021146\" y=\"196.116059\"/>\n     <use style=\"fill:#ff0000;stroke:#ff0000;\" x=\"200.634637\" xlink:href=\"#mfc78021146\" y=\"170.15709\"/>\n     <use style=\"fill:#ff0000;stroke:#ff0000;\" x=\"268.271017\" xlink:href=\"#mfc78021146\" y=\"116.131113\"/>\n     <use style=\"fill:#ff0000;stroke:#ff0000;\" x=\"369.725568\" xlink:href=\"#mfc78021146\" y=\"32.201761\"/>\n    </g>\n   </g>\n   <g id=\"patch_3\">\n    <path d=\"M 50.14375 239.758125 \nL 50.14375 22.318125 \n\" style=\"fill:none;stroke:#000000;stroke-linecap:square;stroke-linejoin:miter;stroke-width:0.8;\"/>\n   </g>\n   <g id=\"patch_4\">\n    <path d=\"M 384.94375 239.758125 \nL 384.94375 22.318125 \n\" style=\"fill:none;stroke:#000000;stroke-linecap:square;stroke-linejoin:miter;stroke-width:0.8;\"/>\n   </g>\n   <g id=\"patch_5\">\n    <path d=\"M 50.14375 239.758125 \nL 384.94375 239.758125 \n\" style=\"fill:none;stroke:#000000;stroke-linecap:square;stroke-linejoin:miter;stroke-width:0.8;\"/>\n   </g>\n   <g id=\"patch_6\">\n    <path d=\"M 50.14375 22.318125 \nL 384.94375 22.318125 \n\" style=\"fill:none;stroke:#000000;stroke-linecap:square;stroke-linejoin:miter;stroke-width:0.8;\"/>\n   </g>\n   <g id=\"text_20\">\n    <!-- Computing 3**x // 3**x -->\n    <g transform=\"translate(148.095625 16.318125)scale(0.12 -0.12)\">\n     <defs>\n      <path d=\"M 64.40625 67.28125 \nL 64.40625 56.890625 \nQ 59.421875 61.53125 53.78125 63.8125 \nQ 48.140625 66.109375 41.796875 66.109375 \nQ 29.296875 66.109375 22.65625 58.46875 \nQ 16.015625 50.828125 16.015625 36.375 \nQ 16.015625 21.96875 22.65625 14.328125 \nQ 29.296875 6.6875 41.796875 6.6875 \nQ 48.140625 6.6875 53.78125 8.984375 \nQ 59.421875 11.28125 64.40625 15.921875 \nL 64.40625 5.609375 \nQ 59.234375 2.09375 53.4375 0.328125 \nQ 47.65625 -1.421875 41.21875 -1.421875 \nQ 24.65625 -1.421875 15.125 8.703125 \nQ 5.609375 18.84375 5.609375 36.375 \nQ 5.609375 53.953125 15.125 64.078125 \nQ 24.65625 74.21875 41.21875 74.21875 \nQ 47.75 74.21875 53.53125 72.484375 \nQ 59.328125 70.75 64.40625 67.28125 \nz\n\" id=\"DejaVuSans-67\"/>\n      <path d=\"M 45.40625 27.984375 \nQ 45.40625 37.75 41.375 43.109375 \nQ 37.359375 48.484375 30.078125 48.484375 \nQ 22.859375 48.484375 18.828125 43.109375 \nQ 14.796875 37.75 14.796875 27.984375 \nQ 14.796875 18.265625 18.828125 12.890625 \nQ 22.859375 7.515625 30.078125 7.515625 \nQ 37.359375 7.515625 41.375 12.890625 \nQ 45.40625 18.265625 45.40625 27.984375 \nz\nM 54.390625 6.78125 \nQ 54.390625 -7.171875 48.1875 -13.984375 \nQ 42 -20.796875 29.203125 -20.796875 \nQ 24.46875 -20.796875 20.265625 -20.09375 \nQ 16.0625 -19.390625 12.109375 -17.921875 \nL 12.109375 -9.1875 \nQ 16.0625 -11.328125 19.921875 -12.34375 \nQ 23.78125 -13.375 27.78125 -13.375 \nQ 36.625 -13.375 41.015625 -8.765625 \nQ 45.40625 -4.15625 45.40625 5.171875 \nL 45.40625 9.625 \nQ 42.625 4.78125 38.28125 2.390625 \nQ 33.9375 0 27.875 0 \nQ 17.828125 0 11.671875 7.65625 \nQ 5.515625 15.328125 5.515625 27.984375 \nQ 5.515625 40.671875 11.671875 48.328125 \nQ 17.828125 56 27.875 56 \nQ 33.9375 56 38.28125 53.609375 \nQ 42.625 51.21875 45.40625 46.390625 \nL 45.40625 54.6875 \nL 54.390625 54.6875 \nz\n\" id=\"DejaVuSans-103\"/>\n      <path d=\"M 40.578125 39.3125 \nQ 47.65625 37.796875 51.625 33 \nQ 55.609375 28.21875 55.609375 21.1875 \nQ 55.609375 10.40625 48.1875 4.484375 \nQ 40.765625 -1.421875 27.09375 -1.421875 \nQ 22.515625 -1.421875 17.65625 -0.515625 \nQ 12.796875 0.390625 7.625 2.203125 \nL 7.625 11.71875 \nQ 11.71875 9.328125 16.59375 8.109375 \nQ 21.484375 6.890625 26.8125 6.890625 \nQ 36.078125 6.890625 40.9375 10.546875 \nQ 45.796875 14.203125 45.796875 21.1875 \nQ 45.796875 27.640625 41.28125 31.265625 \nQ 36.765625 34.90625 28.71875 34.90625 \nL 20.21875 34.90625 \nL 20.21875 43.015625 \nL 29.109375 43.015625 \nQ 36.375 43.015625 40.234375 45.921875 \nQ 44.09375 48.828125 44.09375 54.296875 \nQ 44.09375 59.90625 40.109375 62.90625 \nQ 36.140625 65.921875 28.71875 65.921875 \nQ 24.65625 65.921875 20.015625 65.03125 \nQ 15.375 64.15625 9.8125 62.3125 \nL 9.8125 71.09375 \nQ 15.4375 72.65625 20.34375 73.4375 \nQ 25.25 74.21875 29.59375 74.21875 \nQ 40.828125 74.21875 47.359375 69.109375 \nQ 53.90625 64.015625 53.90625 55.328125 \nQ 53.90625 49.265625 50.4375 45.09375 \nQ 46.96875 40.921875 40.578125 39.3125 \nz\n\" id=\"DejaVuSans-51\"/>\n      <path d=\"M 47.015625 60.890625 \nL 29.5 51.421875 \nL 47.015625 41.890625 \nL 44.1875 37.109375 \nL 27.78125 47.015625 \nL 27.78125 28.609375 \nL 22.21875 28.609375 \nL 22.21875 47.015625 \nL 5.8125 37.109375 \nL 2.984375 41.890625 \nL 20.515625 51.421875 \nL 2.984375 60.890625 \nL 5.8125 65.71875 \nL 22.21875 55.8125 \nL 22.21875 74.21875 \nL 27.78125 74.21875 \nL 27.78125 55.8125 \nL 44.1875 65.71875 \nz\n\" id=\"DejaVuSans-42\"/>\n      <path d=\"M 25.390625 72.90625 \nL 33.6875 72.90625 \nL 8.296875 -9.28125 \nL 0 -9.28125 \nz\n\" id=\"DejaVuSans-47\"/>\n     </defs>\n     <use xlink:href=\"#DejaVuSans-67\"/>\n     <use x=\"69.824219\" xlink:href=\"#DejaVuSans-111\"/>\n     <use x=\"131.005859\" xlink:href=\"#DejaVuSans-109\"/>\n     <use x=\"228.417969\" xlink:href=\"#DejaVuSans-112\"/>\n     <use x=\"291.894531\" xlink:href=\"#DejaVuSans-117\"/>\n     <use x=\"355.273438\" xlink:href=\"#DejaVuSans-116\"/>\n     <use x=\"394.482422\" xlink:href=\"#DejaVuSans-105\"/>\n     <use x=\"422.265625\" xlink:href=\"#DejaVuSans-110\"/>\n     <use x=\"485.644531\" xlink:href=\"#DejaVuSans-103\"/>\n     <use x=\"549.121094\" xlink:href=\"#DejaVuSans-32\"/>\n     <use x=\"580.908203\" xlink:href=\"#DejaVuSans-51\"/>\n     <use x=\"644.53125\" xlink:href=\"#DejaVuSans-42\"/>\n     <use x=\"694.53125\" xlink:href=\"#DejaVuSans-42\"/>\n     <use x=\"744.53125\" xlink:href=\"#DejaVuSans-120\"/>\n     <use x=\"803.710938\" xlink:href=\"#DejaVuSans-32\"/>\n     <use x=\"835.498047\" xlink:href=\"#DejaVuSans-47\"/>\n     <use x=\"869.189453\" xlink:href=\"#DejaVuSans-47\"/>\n     <use x=\"902.880859\" xlink:href=\"#DejaVuSans-32\"/>\n     <use x=\"934.667969\" xlink:href=\"#DejaVuSans-51\"/>\n     <use x=\"998.291016\" xlink:href=\"#DejaVuSans-42\"/>\n     <use x=\"1048.291016\" xlink:href=\"#DejaVuSans-42\"/>\n     <use x=\"1098.291016\" xlink:href=\"#DejaVuSans-120\"/>\n    </g>\n   </g>\n  </g>\n </g>\n <defs>\n  <clipPath id=\"pd62040224f\">\n   <rect height=\"217.44\" width=\"334.8\" x=\"50.14375\" y=\"22.318125\"/>\n  </clipPath>\n </defs>\n</svg>\n",
      "image/png": "[encoded data removed]"
     },
     "metadata": {
      "needs_background": "light"
     }
    }
   ],
   "source": [
    "plt.title('Computing 3**x // 3**x')\n",
    "plt.xlabel('x')\n",
    "plt.ylabel('computation time')\n",
    "plt.plot(bits, compute_time, 'g:') # grønne linjer. \n",
    "plt.plot(bits, compute_time, 'ro') # røde prikker. \n",
    "plt.show()"
   ]
  },
  {
   "source": [
    "### module math\n",
    "\n",
    "- god til matematiske funktioner. \n",
    "- sqrt er langsom i python. \n",
    "- vi kan bruge `timeit` til at beregne hastigheden af et program."
   ],
   "cell_type": "markdown",
   "metadata": {}
  },
  {
   "cell_type": "code",
   "execution_count": 12,
   "metadata": {},
   "outputs": [],
   "source": [
    "# hent moduler\n",
    "from math import sqrt, ceil\n",
    "import timeit"
   ]
  },
  {
   "source": [
    "### afrunding af tal\n",
    "\n",
    "- bruger ceil. "
   ],
   "cell_type": "markdown",
   "metadata": {}
  },
  {
   "source": [
    "### float\n",
    "\n",
    "- overflow er vi har for mange cifre.\n",
    "\n",
    "###  operations on bool\n",
    "\n",
    "- værdier False, non, 0, 0.0, \"\", [],... kan ses som false. \n",
    "\n",
    "### comparision operator\n",
    "\n",
    "- ==\n",
    "- !=\n",
    "- >\n",
    "- >=\n",
    "- <\n",
    "- <=\n",
    "\n",
    "### Chained comparisons\n",
    "\n",
    "- kender vi for `R` men findes ikke i `C`, `C++`.\n",
    "\n",
    "### Binary nambuer and operations\n",
    "\n",
    "- | bitwise or\n",
    "- & bitwise and\n",
    "- ~ bitwise not\n",
    "- ^ bitwise xor\n",
    "\n",
    "### operations on strings\n",
    "\n",
    "- strings er **immutable** som betyder de ikke kan ændres efter de er lavet.\n",
    "\n",
    "### operators precedence rules og associativity\n",
    "\n",
    "- om hvordan de binder. se slides for yderligere information.\n",
    "\n",
    "### := assigment expressions **Walrus operator**\n",
    "\n",
    "- name := expression\n",
    "- den er måske ikke så anvendelig."
   ],
   "cell_type": "markdown",
   "metadata": {}
  },
  {
   "cell_type": "code",
   "execution_count": 13,
   "metadata": {},
   "outputs": [
    {
     "output_type": "execute_result",
     "data": {
      "text/plain": [
       "6"
      ]
     },
     "metadata": {},
     "execution_count": 13
    }
   ],
   "source": [
    "(x := 2*3) # huser del resulat"
   ]
  },
  {
   "cell_type": "code",
   "execution_count": 14,
   "metadata": {},
   "outputs": [
    {
     "output_type": "execute_result",
     "data": {
      "text/plain": [
       "18"
      ]
     },
     "metadata": {},
     "execution_count": 14
    }
   ],
   "source": [
    "(x := 2*3) + 2*x"
   ]
  },
  {
   "source": [
    "# Øvelser"
   ],
   "cell_type": "markdown",
   "metadata": {}
  },
  {
   "source": [
    "## 3.1 text formatting\n",
    "\n",
    "- ser her [siden](https://pyformat.info/) for forklaring.\n",
    "- Consider the below code. Run the code and explain the output."
   ],
   "cell_type": "markdown",
   "metadata": {}
  },
  {
   "cell_type": "code",
   "execution_count": 15,
   "metadata": {},
   "outputs": [
    {
     "output_type": "stream",
     "name": "stdout",
     "text": [
      "A string: 'Hello World'\nAn integer: 27\nA float: 27.0\nA float: 3.141592653589793\nA float: 3.141592653589793 A float: 3.141592653589793 \nA float: 6.283185307179586 \nA float: 3.14 \nA float: [ 3.14] \nA float: [ +3.14] \nA float: [+3.14] \nA float: [00003.14] \nAn integer: [00000042] \n"
     ]
    }
   ],
   "source": [
    "from math import pi\n",
    "print(\"A string: '%s'\" % \"Hello World\")\n",
    "print(\"An integer: %s\" % 27)\n",
    "print(\"A float: %s\" % 27.0)\n",
    "print(\"A float: %s\" % pi)\n",
    "print(\"A float: %s \" % pi*2)\n",
    "print(\"A float: %s \" % (pi*2))\n",
    "print(\"A float: %.2f \" % pi)\n",
    "print(\"A float: [%5.2f] \" % pi)\n",
    "print(\"A float: [%+6.2f] \" % pi)\n",
    "print(\"A float: [%+.2f] \" % pi)\n",
    "print(\"A float: [%08.2f] \" % pi)\n",
    "print(\"An integer: [%08d] \" % 42)"
   ]
  },
  {
   "cell_type": "code",
   "execution_count": null,
   "metadata": {},
   "outputs": [],
   "source": []
  }
 ]
}