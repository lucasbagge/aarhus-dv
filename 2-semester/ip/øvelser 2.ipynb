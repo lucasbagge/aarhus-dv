{
 "metadata": {
  "language_info": {
   "codemirror_mode": {
    "name": "ipython",
    "version": 3
   },
   "file_extension": ".py",
   "mimetype": "text/x-python",
   "name": "python",
   "nbconvert_exporter": "python",
   "pygments_lexer": "ipython3",
   "version": "3.9.1-final"
  },
  "orig_nbformat": 2,
  "kernelspec": {
   "name": "python3",
   "display_name": "Python 3",
   "language": "python"
  }
 },
 "nbformat": 4,
 "nbformat_minor": 2,
 "cells": [
  {
   "source": [
    "## 2.1\n",
    "![alt text](21.png)"
   ],
   "cell_type": "markdown",
   "metadata": {}
  },
  {
   "cell_type": "code",
   "execution_count": null,
   "metadata": {},
   "outputs": [],
   "source": []
  },
  {
   "cell_type": "code",
   "execution_count": null,
   "metadata": {},
   "outputs": [],
   "source": [
    "nr1 = (input(\"number1\"))\n",
    "nr2 = (input(\"number2\"))\n",
    "sum = float(nr1) + float(nr2)\n",
    "print('The sum of {0} and {1} is {2}'.format(nr1, nr2, sum))"
   ]
  },
  {
   "source": [
    "### Exercise 2.2 (sum of k numbers)\n",
    "\n",
    "Create a program that adds a user specified number of numbers. The program should first ask the user for a number k, and then ask the user for the k numbers to add, and finally print the sum of the k numbers.\n",
    "\n",
    "Hint. Use a while-loop."
   ],
   "cell_type": "markdown",
   "metadata": {}
  },
  {
   "source": [
    "## Exercise 2.4 (integer square root)\n",
    "\n",
    "Consider the following program for finding the integer square root of an integer:\n"
   ],
   "cell_type": "markdown",
   "metadata": {}
  },
  {
   "cell_type": "code",
   "execution_count": null,
   "metadata": {},
   "outputs": [],
   "source": [
    "x = int(input(\"x: \")) \n",
    "\n",
    "low = 0 \n",
    "high = x + 1\n",
    "\n",
    "while True:  # low <= sqrt(x) < high \n",
    "    if low + 1 == high:\n",
    "        break\n",
    "        \n",
    "    mid = (high + low) // 2\n",
    "    \n",
    "    if mid * mid <= x:\n",
    "        low = mid\n",
    "        continue\n",
    "        \n",
    "    high = mid\n",
    "\n",
    "print(low) "
   ]
  },
  {
   "source": [
    "## handin 1\n",
    "\n",
    "![alt text](handin1.png)\n"
   ],
   "cell_type": "markdown",
   "metadata": {}
  },
  {
   "cell_type": "code",
   "execution_count": null,
   "metadata": {},
   "outputs": [],
   "source": [
    "\n",
    "loanAmount = input('Enter loan amount \\n')\n",
    "loanAmount = float(loanAmount)\n",
    "\n",
    "years = input('How many years will you have the loan? \\n')\n",
    "years = float(years) * 12\n",
    "\n",
    "interestRate = input('Enter Interest Rate \\n')\n",
    "interestRate = float(interestRate) / 100 / 12\n",
    "\n",
    "mortgagePayment = loanAmount * (interestRate * (1 + interestRate)\n",
    "                                ** years) / ((1 + interestRate) ** years - 1)\n",
    "\n",
    "# Prints monthly payment on next line and reformat the string to a float using 2 decimal places\n",
    "print(\"The monthly mortgage payment is\\n (%.2f) \" % mortgagePayment)"
   ]
  },
  {
   "cell_type": "code",
   "execution_count": 71,
   "metadata": {},
   "outputs": [
    {
     "output_type": "execute_result",
     "data": {
      "text/plain": [
       "    Month  Balance\n",
       "0       1    94.16\n",
       "1       2    88.08\n",
       "2       3    81.75\n",
       "3       4    75.15\n",
       "4       5    68.28\n",
       "5       6    61.12\n",
       "6       7    53.66\n",
       "7       8    45.89\n",
       "8       9    37.80\n",
       "9      10    29.37\n",
       "10     11    20.59\n",
       "11     12    11.44\n",
       "12     13     1.91"
      ],
      "text/html": "<div>\n<style scoped>\n    .dataframe tbody tr th:only-of-type {\n        vertical-align: middle;\n    }\n\n    .dataframe tbody tr th {\n        vertical-align: top;\n    }\n\n    .dataframe thead th {\n        text-align: right;\n    }\n</style>\n<table border=\"1\" class=\"dataframe\">\n  <thead>\n    <tr style=\"text-align: right;\">\n      <th></th>\n      <th>Month</th>\n      <th>Balance</th>\n    </tr>\n  </thead>\n  <tbody>\n    <tr>\n      <th>0</th>\n      <td>1</td>\n      <td>94.16</td>\n    </tr>\n    <tr>\n      <th>1</th>\n      <td>2</td>\n      <td>88.08</td>\n    </tr>\n    <tr>\n      <th>2</th>\n      <td>3</td>\n      <td>81.75</td>\n    </tr>\n    <tr>\n      <th>3</th>\n      <td>4</td>\n      <td>75.15</td>\n    </tr>\n    <tr>\n      <th>4</th>\n      <td>5</td>\n      <td>68.28</td>\n    </tr>\n    <tr>\n      <th>5</th>\n      <td>6</td>\n      <td>61.12</td>\n    </tr>\n    <tr>\n      <th>6</th>\n      <td>7</td>\n      <td>53.66</td>\n    </tr>\n    <tr>\n      <th>7</th>\n      <td>8</td>\n      <td>45.89</td>\n    </tr>\n    <tr>\n      <th>8</th>\n      <td>9</td>\n      <td>37.80</td>\n    </tr>\n    <tr>\n      <th>9</th>\n      <td>10</td>\n      <td>29.37</td>\n    </tr>\n    <tr>\n      <th>10</th>\n      <td>11</td>\n      <td>20.59</td>\n    </tr>\n    <tr>\n      <th>11</th>\n      <td>12</td>\n      <td>11.44</td>\n    </tr>\n    <tr>\n      <th>12</th>\n      <td>13</td>\n      <td>1.91</td>\n    </tr>\n  </tbody>\n</table>\n</div>"
     },
     "metadata": {},
     "execution_count": 71
    }
   ],
   "source": [
    "import numpy as np\n",
    "import pandas as pd\n",
    "\n",
    "term = 60\n",
    "P = float(input(\"Loan amount \\n\"))\n",
    "rent = float(input(\"Your interest rent \\n\"))\n",
    "mp = float(input('Your monthly payment \\n'))\n",
    "\n",
    "def calc_interest(P,mp,interest_rate = rent):\n",
    "    interest_paid = np.floor(((rent/12) * P) * 100) / 100\n",
    "    principal_paid = np.round(mp - interest_paid, 2)\n",
    "    new_balance = np.round(P - principal_paid, 2)\n",
    "    return(mp, interest_paid, principal_paid, new_balance)\n",
    "\n",
    "payment_list = []\n",
    "\n",
    "for n in range(1, term + 1):\n",
    "    mp,i_paid,p_paid,new_p = calc_interest(P, mp)\n",
    "    if (new_p <= 0): break\n",
    "    payment_list.append([n, new_p])\n",
    "    P = np.round(new_p, 2)\n",
    "column_names = ['Month', 'Balance']\n",
    "\n",
    "payment_table = pd.DataFrame(payment_list, columns = column_names)\n",
    "payment_table.head(n = 60)"
   ]
  },
  {
   "cell_type": "code",
   "execution_count": 58,
   "metadata": {},
   "outputs": [
    {
     "output_type": "error",
     "ename": "AttributeError",
     "evalue": "'list' object has no attribute 'str'",
     "traceback": [
      "\u001b[0;31m---------------------------------------------------------------------------\u001b[0m",
      "\u001b[0;31mAttributeError\u001b[0m                            Traceback (most recent call last)",
      "\u001b[0;32m<ipython-input-58-2442425f5949>\u001b[0m in \u001b[0;36m<module>\u001b[0;34m\u001b[0m\n\u001b[0;32m----> 1\u001b[0;31m \u001b[0mpayment_list\u001b[0m\u001b[0;34m.\u001b[0m\u001b[0mstr\u001b[0m\u001b[0;34m(\u001b[0m\u001b[0;34m)\u001b[0m\u001b[0;34m\u001b[0m\u001b[0;34m\u001b[0m\u001b[0m\n\u001b[0m",
      "\u001b[0;31mAttributeError\u001b[0m: 'list' object has no attribute 'str'"
     ]
    }
   ],
   "source": [
    "\n",
    "\n"
   ]
  },
  {
   "cell_type": "code",
   "execution_count": null,
   "metadata": {},
   "outputs": [],
   "source": []
  }
 ]
}