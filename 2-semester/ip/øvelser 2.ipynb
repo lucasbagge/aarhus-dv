{
 "metadata": {
  "language_info": {
   "codemirror_mode": {
    "name": "ipython",
    "version": 3
   },
   "file_extension": ".py",
   "mimetype": "text/x-python",
   "name": "python",
   "nbconvert_exporter": "python",
   "pygments_lexer": "ipython3",
   "version": "3.9.1-final"
  },
  "orig_nbformat": 2,
  "kernelspec": {
   "name": "python3",
   "display_name": "Python 3",
   "language": "python"
  }
 },
 "nbformat": 4,
 "nbformat_minor": 2,
 "cells": [
  {
   "source": [
    "## 2.1\n",
    "![alt text](21.png)"
   ],
   "cell_type": "markdown",
   "metadata": {}
  },
  {
   "cell_type": "code",
   "execution_count": null,
   "metadata": {},
   "outputs": [],
   "source": []
  },
  {
   "cell_type": "code",
   "execution_count": null,
   "metadata": {},
   "outputs": [],
   "source": [
    "nr1 = (input(\"number1\"))\n",
    "nr2 = (input(\"number2\"))\n",
    "sum = float(nr1) + float(nr2)\n",
    "print('The sum of {0} and {1} is {2}'.format(nr1, nr2, sum))"
   ]
  },
  {
   "source": [
    "### Exercise 2.2 (sum of k numbers)\n",
    "\n",
    "Create a program that adds a user specified number of numbers. The program should first ask the user for a number k, and then ask the user for the k numbers to add, and finally print the sum of the k numbers.\n",
    "\n",
    "Hint. Use a while-loop."
   ],
   "cell_type": "markdown",
   "metadata": {}
  },
  {
   "source": [
    "## Exercise 2.4 (integer square root)\n",
    "\n",
    "Consider the following program for finding the integer square root of an integer:\n"
   ],
   "cell_type": "markdown",
   "metadata": {}
  },
  {
   "cell_type": "code",
   "execution_count": null,
   "metadata": {},
   "outputs": [],
   "source": [
    "x = int(input(\"x: \")) \n",
    "\n",
    "low = 0 \n",
    "high = x + 1\n",
    "\n",
    "while True:  # low <= sqrt(x) < high \n",
    "    if low + 1 == high:\n",
    "        break\n",
    "        \n",
    "    mid = (high + low) // 2\n",
    "    \n",
    "    if mid * mid <= x:\n",
    "        low = mid\n",
    "        continue\n",
    "        \n",
    "    high = mid\n",
    "\n",
    "print(low) "
   ]
  },
  {
   "source": [
    "2.5\n"
   ],
   "cell_type": "markdown",
   "metadata": {}
  },
  {
   "cell_type": "code",
   "execution_count": null,
   "metadata": {},
   "outputs": [],
   "source": [
    "num = int(input(\"enter number\"))\n",
    "\n",
    "if num"
   ]
  },
  {
   "source": [
    "## handin 1\n",
    "\n",
    "![alt text](handin1.png)\n"
   ],
   "cell_type": "markdown",
   "metadata": {}
  },
  {
   "cell_type": "code",
   "execution_count": 11,
   "metadata": {},
   "outputs": [
    {
     "output_type": "execute_result",
     "data": {
      "text/plain": [
       "   Month  Balance\n",
       "0      1   904.16\n",
       "1      2   807.92\n",
       "2      3   711.28\n",
       "3      4   614.24\n",
       "4      5   516.79\n",
       "5      6   418.94\n",
       "6      7   320.68\n",
       "7      8   222.01\n",
       "8      9   122.93\n",
       "9     10    23.44"
      ],
      "text/html": "<div>\n<style scoped>\n    .dataframe tbody tr th:only-of-type {\n        vertical-align: middle;\n    }\n\n    .dataframe tbody tr th {\n        vertical-align: top;\n    }\n\n    .dataframe thead th {\n        text-align: right;\n    }\n</style>\n<table border=\"1\" class=\"dataframe\">\n  <thead>\n    <tr style=\"text-align: right;\">\n      <th></th>\n      <th>Month</th>\n      <th>Balance</th>\n    </tr>\n  </thead>\n  <tbody>\n    <tr>\n      <th>0</th>\n      <td>1</td>\n      <td>904.16</td>\n    </tr>\n    <tr>\n      <th>1</th>\n      <td>2</td>\n      <td>807.92</td>\n    </tr>\n    <tr>\n      <th>2</th>\n      <td>3</td>\n      <td>711.28</td>\n    </tr>\n    <tr>\n      <th>3</th>\n      <td>4</td>\n      <td>614.24</td>\n    </tr>\n    <tr>\n      <th>4</th>\n      <td>5</td>\n      <td>516.79</td>\n    </tr>\n    <tr>\n      <th>5</th>\n      <td>6</td>\n      <td>418.94</td>\n    </tr>\n    <tr>\n      <th>6</th>\n      <td>7</td>\n      <td>320.68</td>\n    </tr>\n    <tr>\n      <th>7</th>\n      <td>8</td>\n      <td>222.01</td>\n    </tr>\n    <tr>\n      <th>8</th>\n      <td>9</td>\n      <td>122.93</td>\n    </tr>\n    <tr>\n      <th>9</th>\n      <td>10</td>\n      <td>23.44</td>\n    </tr>\n  </tbody>\n</table>\n</div>"
     },
     "metadata": {},
     "execution_count": 11
    }
   ],
   "source": [
    "import numpy as np\n",
    "import pandas as pd\n",
    "\n",
    "term = 180\n",
    "P = float(input(\"Loan amount \\n\"))\n",
    "rent = float(input(\"Your interest rent \\n\"))\n",
    "mp = float(input('Your monthly payment \\n'))\n",
    "\n",
    "def calculation(P, mp, interest_rate = rent):\n",
    "    interest_paid = np.floor(((rent/12) * P) * 100) / 100\n",
    "    principal_paid = np.round(mp - interest_paid, 2)\n",
    "    new_balance = np.round(P - principal_paid, 2)\n",
    "    return(mp, interest_paid, principal_paid, new_balance)\n",
    "\n",
    "payment_list = []\n",
    "\n",
    "for n in range(1, term + 1):\n",
    "    mp,i_paid,p_paid,new_p = calculation(P, mp)\n",
    "    if (new_p <= 0): break\n",
    "    payment_list.append([n, new_p])\n",
    "    P = np.round(new_p, 2)\n",
    "column_names = ['Month', 'Balance']\n",
    "\n",
    "payment_table = pd.DataFrame(payment_list, columns = column_names)\n",
    "payment_table.head(n = 60)"
   ]
  },
  {
   "cell_type": "code",
   "execution_count": null,
   "metadata": {},
   "outputs": [],
   "source": []
  }
 ]
}