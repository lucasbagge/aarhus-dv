{
 "metadata": {
  "language_info": {
   "codemirror_mode": {
    "name": "ipython",
    "version": 3
   },
   "file_extension": ".py",
   "mimetype": "text/x-python",
   "name": "python",
   "nbconvert_exporter": "python",
   "pygments_lexer": "ipython3",
   "version": "3.9.1-final"
  },
  "orig_nbformat": 2,
  "kernelspec": {
   "name": "python3",
   "display_name": "Python 3",
   "language": "python"
  }
 },
 "nbformat": 4,
 "nbformat_minor": 2,
 "cells": [
  {
   "source": [
    "### 3.3\n"
   ],
   "cell_type": "markdown",
   "metadata": {}
  },
  {
   "cell_type": "code",
   "execution_count": 1,
   "metadata": {},
   "outputs": [
    {
     "output_type": "stream",
     "name": "stdout",
     "text": [
      "A string: 'Hello World'\nAn integer: 27\nA float: 27.0\nA float: 3.141592653589793\nA float: 3.141592653589793 A float: 3.141592653589793 \nA float: 6.283185307179586 \nA float: 3.14 \nA float: [ 3.14] \nA float: [ +3.14] \nA float: [+3.14] \nA float: [00003.14] \nAn integer: [00000042] \n"
     ]
    }
   ],
   "source": [
    "from math import pi\n",
    "print(\"A string: '%s'\" % \"Hello World\")\n",
    "print(\"An integer: %s\" % 27)\n",
    "print(\"A float: %s\" % 27.0)\n",
    "print(\"A float: %s\" % pi)\n",
    "print(\"A float: %s \" % pi*2)\n",
    "print(\"A float: %s \" % (pi*2))\n",
    "print(\"A float: %.2f \" % pi)\n",
    "print(\"A float: [%5.2f] \" % pi)\n",
    "print(\"A float: [%+6.2f] \" % pi)\n",
    "print(\"A float: [%+.2f] \" % pi)\n",
    "print(\"A float: [%08.2f] \" % pi)\n",
    "print(\"An integer: [%08d] \" % 42)"
   ]
  },
  {
   "source": [
    "### Exercise 4.1 (list aliasing and list copy)\n",
    "\n",
    "\n"
   ],
   "cell_type": "markdown",
   "metadata": {}
  },
  {
   "cell_type": "code",
   "execution_count": 2,
   "metadata": {},
   "outputs": [
    {
     "output_type": "stream",
     "name": "stdout",
     "text": [
      "[[5, 6], [3, 7]] [[5, 6], [3, 7]] [[1, 2], [3, 7]]\n"
     ]
    }
   ],
   "source": [
    "a = [[1, 2], [3, 4]]\n",
    "b = a\n",
    "c = a[:]\n",
    "b[0] = [5, 6]\n",
    "c[1][1] = 7\n",
    "print(a, b, c)"
   ]
  },
  {
   "source": [
    "### 4.2 infinite recursive list"
   ],
   "cell_type": "markdown",
   "metadata": {}
  },
  {
   "cell_type": "code",
   "execution_count": 3,
   "metadata": {},
   "outputs": [
    {
     "output_type": "stream",
     "name": "stdout",
     "text": [
      "[[...]]\n"
     ]
    }
   ],
   "source": [
    "a = [42]\n",
    "a[0] = a\n",
    "print(a)"
   ]
  },
  {
   "source": [
    "### Exercise 4.3 infinite recursive indexing"
   ],
   "cell_type": "markdown",
   "metadata": {}
  },
  {
   "cell_type": "code",
   "execution_count": 4,
   "metadata": {},
   "outputs": [
    {
     "output_type": "stream",
     "name": "stdout",
     "text": [
      "[[...], 7]\n7\n7\n7\n7\n7\n7\n"
     ]
    }
   ],
   "source": [
    "x = [0, 7]\n",
    "x[0] = x\n",
    "print(x)\n",
    "print(x[1])\n",
    "print(x[0][1])\n",
    "print(x[0][0][1])\n",
    "print(x[0][0][0][1])\n",
    "print(x[0][0][0][0][1])\n",
    "print(x[0][0][0][0][0][1])"
   ]
  },
  {
   "source": [
    "### Exercise 4.4 (ranges and slices)\n",
    "Run the below code and explain what is happing. What notations is most intuitive and consistent?\n",
    "\n"
   ],
   "cell_type": "markdown",
   "metadata": {}
  },
  {
   "cell_type": "code",
   "execution_count": 5,
   "metadata": {},
   "outputs": [
    {
     "output_type": "execute_result",
     "data": {
      "text/plain": [
       "[8, 7, 6, 5, 4]"
      ]
     },
     "metadata": {},
     "execution_count": 5
    }
   ],
   "source": [
    "list(range(4,9))\n",
    "list(range(9,4,-1))\n",
    "list(range(8,3,-1))\n",
    "list(range(4,9)[::-1])"
   ]
  },
  {
   "source": [
    "### Exercise 4.5** (sliced ranges)\n",
    "\n",
    "The expression range(x, y, z)[i:j:k] returns a new range(a,b,c). Note that z and k can be negative, but not zero. E.g. range(3, 18, 2)[5:2:-2] returns range(13, 7, -4). Write a program that given integers x, y, z, i, j, and k computes a, b, and c. The program is not allowed to create a range explicitly, like the below.\n",
    "\n",
    "r = range(x, y, z)[i:j:k]\n",
    "\n",
    "a = r.start\n",
    "\n",
    "b = r.stop\n",
    "\n",
    "c = r.step\n"
   ],
   "cell_type": "markdown",
   "metadata": {}
  },
  {
   "source": [
    "### Exercise 4.6 (multiplication table)\n",
    "\n",
    "Print a multiplication table of a given dimension. Below is shown the multiplication table for dimension 7. The program should ask the user to input the dimension of the table (≤ 100), and then print a multiplication table where all entries in a column are right aligned."
   ],
   "cell_type": "markdown",
   "metadata": {}
  },
  {
   "cell_type": "code",
   "execution_count": 22,
   "metadata": {
    "tags": []
   },
   "outputs": [
    {
     "output_type": "stream",
     "name": "stdout",
     "text": [
      "-1\t-2\t\n0\t0\t\n1\t2\t\n2\t4\t\n"
     ]
    }
   ],
   "source": [
    "n=int(input('Please enter a positive integer between 1 and 15: '))\n",
    "for row in range(1, n + 1):\n",
    "    for col in range(1 ,n+1):\n",
    "        print(row*col, end=\"\\t\")\n",
    "    print()"
   ]
  },
  {
   "cell_type": "code",
   "execution_count": 16,
   "metadata": {},
   "outputs": [
    {
     "output_type": "stream",
     "name": "stdout",
     "text": [
      "Help on class range in module builtins:\n\nclass range(object)\n |  range(stop) -> range object\n |  range(start, stop[, step]) -> range object\n |  \n |  Return an object that produces a sequence of integers from start (inclusive)\n |  to stop (exclusive) by step.  range(i, j) produces i, i+1, i+2, ..., j-1.\n |  start defaults to 0, and stop is omitted!  range(4) produces 0, 1, 2, 3.\n |  These are exactly the valid indices for a list of 4 elements.\n |  When step is given, it specifies the increment (or decrement).\n |  \n |  Methods defined here:\n |  \n |  __bool__(self, /)\n |      self != 0\n |  \n |  __contains__(self, key, /)\n |      Return key in self.\n |  \n |  __eq__(self, value, /)\n |      Return self==value.\n |  \n |  __ge__(self, value, /)\n |      Return self>=value.\n |  \n |  __getattribute__(self, name, /)\n |      Return getattr(self, name).\n |  \n |  __getitem__(self, key, /)\n |      Return self[key].\n |  \n |  __gt__(self, value, /)\n |      Return self>value.\n |  \n |  __hash__(self, /)\n |      Return hash(self).\n |  \n |  __iter__(self, /)\n |      Implement iter(self).\n |  \n |  __le__(self, value, /)\n |      Return self<=value.\n |  \n |  __len__(self, /)\n |      Return len(self).\n |  \n |  __lt__(self, value, /)\n |      Return self<value.\n |  \n |  __ne__(self, value, /)\n |      Return self!=value.\n |  \n |  __reduce__(...)\n |      Helper for pickle.\n |  \n |  __repr__(self, /)\n |      Return repr(self).\n |  \n |  __reversed__(...)\n |      Return a reverse iterator.\n |  \n |  count(...)\n |      rangeobject.count(value) -> integer -- return number of occurrences of value\n |  \n |  index(...)\n |      rangeobject.index(value) -> integer -- return index of value.\n |      Raise ValueError if the value is not present.\n |  \n |  ----------------------------------------------------------------------\n |  Static methods defined here:\n |  \n |  __new__(*args, **kwargs) from builtins.type\n |      Create and return a new object.  See help(type) for accurate signature.\n |  \n |  ----------------------------------------------------------------------\n |  Data descriptors defined here:\n |  \n |  start\n |  \n |  step\n |  \n |  stop\n\n"
     ]
    }
   ],
   "source": [
    "help(range)"
   ]
  },
  {
   "source": [
    "### Exercise 4.7 (interval union)\n",
    "\n",
    "Make a program that given a list L of intervals with possible overlaps, where an interval is represented by a list [left-endpoint, right-endpoint] and e.g. L = [[1, 3], [6, 10], [2, 5], [8, 13]], generates a new list L_ of disjoint intervals but with identical union, e.g. L_ = [[1, 5], [6, 13]]. It is fine to let L be a constant in the program.\n",
    "\n",
    "Hint. Start by sorting the intervals using the builtin function sorted, and then process the intervals with respect to increasing starting point."
   ],
   "cell_type": "markdown",
   "metadata": {}
  },
  {
   "source": [
    "### handin 2\n",
    "\n",
    "Write a program that given a long string (say order 1.000.000 characters), computes all palindromic substrings of length ≥ 7, i.e. substrings spelled identical read forwards and backwards. You can use the below code to read a complete text from a file to a string, convert it to lower case, and remove everything except letters and digits. The file saxo.txt is a local copy of http://www.gutenberg.org/cache/epub/1150/pg1150.txt"
   ],
   "cell_type": "markdown",
   "metadata": {}
  },
  {
   "cell_type": "code",
   "execution_count": 69,
   "metadata": {
    "tags": []
   },
   "outputs": [],
   "source": [
    "from string import ascii_letters, digits\n",
    "\n",
    "s = open(\"saxo.txt\").read()  \n",
    "s = s.lower()\n",
    "s = \"\".join([c for c in s if c in ascii_letters or c in digits])"
   ]
  },
  {
   "cell_type": "code",
   "execution_count": 83,
   "metadata": {
    "tags": []
   },
   "outputs": [
    {
     "output_type": "stream",
     "name": "stdout",
     "text": [
      "allalla\n"
     ]
    }
   ],
   "source": [
    "s = \"abracadrabratrallalla\"\n",
    "for i in range(len(s)):\n",
    "    for j in range(i + 7, len(s) + 1):\n",
    "        t = s[i:j]\n",
    "        if t == t[::-1]:\n",
    "            print(t)"
   ]
  },
  {
   "cell_type": "code",
   "execution_count": 107,
   "metadata": {},
   "outputs": [],
   "source": [
    "# Python program Find all distinct palindromic sub-strings \n",
    "# of a given string \n",
    "# Function to print all distinct palindrome sub-strings of s \n",
    "def palindromeSubStrs(s): \n",
    "    m = dict() \n",
    "    n = len(s) \n",
    "    # table for storing results (2 rows for odd- \n",
    "    # and even-length palindromes \n",
    "    R = [[0 for x in range(n+1)] for x in range(2)] \n",
    "    # Find all sub-string palindromes from the given input \n",
    "    # string insert 'guards' to iterate easily over s \n",
    "    s = \"@\" + s + \"#\"\n",
    "    for j in range(2): \n",
    "        rp = 0    # length of 'palindrome radius' \n",
    "        R[j][0] = 0\n",
    "  \n",
    "        i = 1\n",
    "        while i <= n: \n",
    "\n",
    "            # Attempt to expand palindrome centered at i \n",
    "            while s[i - rp - 1] == s[i + j + rp]: \n",
    "                rp +=  # Incrementing the length of palindromic \n",
    "                        # radius as and when we find valid palindrome \n",
    "            # Assigning the found palindromic length to odd/even \n",
    "            # length array \n",
    "            R[j][i] = rp \n",
    "            k = 1\n",
    "            while (R[j][i - k] != rp - k) and (k < rp): \n",
    "                R[j][i+k] = min(R[j][i-k], rp - k) \n",
    "                k += 1\n",
    "            rp = max(rp - k, 0) \n",
    "            i += k \n",
    "    # remove guards \n",
    "    s = s[1:len(s)-1] \n",
    "    # Put all obtained palindromes in a hash map to \n",
    "    # find only distinct palindrome \n",
    "    m[s[0]] = 1\n",
    "    for i in range(1,n): \n",
    "        for j in range(2): \n",
    "            for rp in range(R[j][i],0,-1): \n",
    "                m[s[i - rp - 1 : i - rp - 1 + 2 * rp + j]] = 1\n",
    "        m[s[i]] = 1\n",
    "  \n",
    "    # printing all distinct palindromes from hash map \n",
    "    print(\"Below are \" + str(len(m)) + \" pali sub-strings\")\n",
    "    for i in m: \n",
    "        print(i)"
   ]
  },
  {
   "cell_type": "code",
   "execution_count": 100,
   "metadata": {},
   "outputs": [
    {
     "output_type": "stream",
     "name": "stdout",
     "text": [
      "[[0, 0, 0, 0, 0, 0, 0, 0, 0, 0, 0, 0, 0, 0, 0, 0, 0, 0, 0, 0, 0, 0, 0, 0], [0, 0, 0, 0, 0, 0, 0, 0, 0, 0, 0, 0, 0, 0, 0, 0, 0, 0, 0, 0, 0, 0, 0, 0]]\n0\n1\n2\n3\n4\n5\n6\n7\n8\n9\n10\n11\n12\n13\n14\n15\nallalla\n16\n17\n18\n19\n20\n21\n22\n"
     ]
    }
   ],
   "source": [
    "s = \"abracadrabratrallalla\"\n",
    "m = dict()\n",
    "s = \"@\" + s + \"#\"\n",
    "n = len(s)\n",
    "\n",
    "R = [[0 for x in range(n+1)] for x in range(2)] \n",
    "print(R)\n",
    "for i in range(n):\n",
    "    print(i)\n",
    "    for j in range(i + 7, n + 1):\n",
    "        t = s[i:j]\n",
    "        if t == t[::-1]:\n",
    "            print(t)"
   ]
  },
  {
   "cell_type": "code",
   "execution_count": 108,
   "metadata": {},
   "outputs": [
    {
     "output_type": "error",
     "ename": "IndexError",
     "evalue": "string index out of range",
     "traceback": [
      "\u001b[0;31m---------------------------------------------------------------------------\u001b[0m",
      "\u001b[0;31mIndexError\u001b[0m                                Traceback (most recent call last)",
      "\u001b[0;32m<ipython-input-108-0c96c01f359a>\u001b[0m in \u001b[0;36m<module>\u001b[0;34m\u001b[0m\n\u001b[0;32m----> 1\u001b[0;31m \u001b[0mpalindromeSubStrs\u001b[0m\u001b[0;34m(\u001b[0m\u001b[0;34m\"abracadrabratrallalla\"\u001b[0m\u001b[0;34m)\u001b[0m\u001b[0;34m\u001b[0m\u001b[0;34m\u001b[0m\u001b[0m\n\u001b[0m",
      "\u001b[0;32m<ipython-input-107-d983a5331b10>\u001b[0m in \u001b[0;36mpalindromeSubStrs\u001b[0;34m(s)\u001b[0m\n\u001b[1;32m     19\u001b[0m \u001b[0;34m\u001b[0m\u001b[0m\n\u001b[1;32m     20\u001b[0m             \u001b[0;31m# Attempt to expand palindrome centered at i\u001b[0m\u001b[0;34m\u001b[0m\u001b[0;34m\u001b[0m\u001b[0;34m\u001b[0m\u001b[0m\n\u001b[0;32m---> 21\u001b[0;31m             \u001b[0;32mwhile\u001b[0m \u001b[0ms\u001b[0m\u001b[0;34m[\u001b[0m\u001b[0mi\u001b[0m \u001b[0;34m-\u001b[0m \u001b[0mrp\u001b[0m \u001b[0;34m-\u001b[0m \u001b[0;36m1\u001b[0m\u001b[0;34m]\u001b[0m \u001b[0;34m==\u001b[0m \u001b[0ms\u001b[0m\u001b[0;34m[\u001b[0m\u001b[0mi\u001b[0m \u001b[0;34m+\u001b[0m \u001b[0mj\u001b[0m \u001b[0;34m+\u001b[0m \u001b[0mrp\u001b[0m\u001b[0;34m]\u001b[0m\u001b[0;34m:\u001b[0m\u001b[0;34m\u001b[0m\u001b[0;34m\u001b[0m\u001b[0m\n\u001b[0m\u001b[1;32m     22\u001b[0m                 \u001b[0mrp\u001b[0m \u001b[0;34m+=\u001b[0m \u001b[0;36m7\u001b[0m \u001b[0;31m# Incrementing the length of palindromic\u001b[0m\u001b[0;34m\u001b[0m\u001b[0;34m\u001b[0m\u001b[0m\n\u001b[1;32m     23\u001b[0m                         \u001b[0;31m# radius as and when we find valid palindrome\u001b[0m\u001b[0;34m\u001b[0m\u001b[0;34m\u001b[0m\u001b[0;34m\u001b[0m\u001b[0m\n",
      "\u001b[0;31mIndexError\u001b[0m: string index out of range"
     ]
    }
   ],
   "source": [
    "palindromeSubStrs(\"abracadrabratrallalla\")"
   ]
  },
  {
   "cell_type": "code",
   "execution_count": null,
   "metadata": {},
   "outputs": [],
   "source": []
  }
 ]
}