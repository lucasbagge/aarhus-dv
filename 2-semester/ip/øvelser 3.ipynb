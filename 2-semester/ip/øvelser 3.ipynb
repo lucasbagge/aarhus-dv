{
 "metadata": {
  "language_info": {
   "codemirror_mode": {
    "name": "ipython",
    "version": 3
   },
   "file_extension": ".py",
   "mimetype": "text/x-python",
   "name": "python",
   "nbconvert_exporter": "python",
   "pygments_lexer": "ipython3",
   "version": "3.9.1-final"
  },
  "orig_nbformat": 2,
  "kernelspec": {
   "name": "python3",
   "display_name": "Python 3",
   "language": "python"
  }
 },
 "nbformat": 4,
 "nbformat_minor": 2,
 "cells": [
  {
   "source": [
    "### 3.3\n"
   ],
   "cell_type": "markdown",
   "metadata": {}
  },
  {
   "cell_type": "code",
   "execution_count": 182,
   "metadata": {},
   "outputs": [
    {
     "output_type": "stream",
     "name": "stdout",
     "text": [
      "A string: 'Hello World'\nAn integer: 27\nA float: 27.0\nA float: 3.141592653589793\nA float: 3.141592653589793 A float: 3.141592653589793 \nA float: 6.283185307179586 \nA float: 3.14 \nA float: [ 3.14] \nA float: [ +3.14] \nA float: [+3.14] \nA float: [00003.14] \nAn integer: [00000042] \n"
     ]
    }
   ],
   "source": [
    "from math import pi\n",
    "print(\"A string: '%s'\" % \"Hello World\")\n",
    "print(\"An integer: %s\" % 27)\n",
    "print(\"A float: %s\" % 27.0)\n",
    "print(\"A float: %s\" % pi)\n",
    "print(\"A float: %s \" % pi*2)\n",
    "print(\"A float: %s \" % (pi*2))\n",
    "print(\"A float: %.2f \" % pi)\n",
    "print(\"A float: [%5.2f] \" % pi)\n",
    "print(\"A float: [%+6.2f] \" % pi)\n",
    "print(\"A float: [%+.2f] \" % pi)\n",
    "print(\"A float: [%08.2f] \" % pi)\n",
    "print(\"An integer: [%08d] \" % 42)"
   ]
  },
  {
   "source": [
    "### Exercise 4.1 (list aliasing and list copy)\n",
    "\n",
    "\n"
   ],
   "cell_type": "markdown",
   "metadata": {}
  },
  {
   "cell_type": "code",
   "execution_count": 2,
   "metadata": {},
   "outputs": [
    {
     "output_type": "stream",
     "name": "stdout",
     "text": [
      "[[5, 6], [3, 7]] [[5, 6], [3, 7]] [[1, 2], [3, 7]]\n"
     ]
    }
   ],
   "source": [
    "# \n",
    "a = [[1, 2], [3, 4]] #\n",
    "b = a\n",
    "c = a[:] # kopi den yderste liste men peger. \n",
    "b[0] = [5, 6]\n",
    "c[1][1] = 7\n",
    "print(a, b, c)"
   ]
  },
  {
   "source": [
    "### 4.2 infinite recursive list"
   ],
   "cell_type": "markdown",
   "metadata": {}
  },
  {
   "cell_type": "code",
   "execution_count": 3,
   "metadata": {},
   "outputs": [
    {
     "output_type": "stream",
     "name": "stdout",
     "text": [
      "[[...]]\n"
     ]
    }
   ],
   "source": [
    "a = [42]\n",
    "a[0] = a\n",
    "print(a)"
   ]
  },
  {
   "source": [
    "### Exercise 4.3 infinite recursive indexing"
   ],
   "cell_type": "markdown",
   "metadata": {}
  },
  {
   "cell_type": "code",
   "execution_count": 4,
   "metadata": {},
   "outputs": [
    {
     "output_type": "stream",
     "name": "stdout",
     "text": [
      "[[...], 7]\n7\n7\n7\n7\n7\n7\n"
     ]
    }
   ],
   "source": [
    "x = [0, 7]\n",
    "x[0] = x\n",
    "print(x)\n",
    "print(x[1])\n",
    "print(x[0][1])\n",
    "print(x[0][0][1])\n",
    "print(x[0][0][0][1])\n",
    "print(x[0][0][0][0][1])\n",
    "print(x[0][0][0][0][0][1])"
   ]
  },
  {
   "source": [
    "### Exercise 4.4 (ranges and slices)\n",
    "Run the below code and explain what is happing. What notations is most intuitive and consistent?\n",
    "\n"
   ],
   "cell_type": "markdown",
   "metadata": {}
  },
  {
   "cell_type": "code",
   "execution_count": 185,
   "metadata": {},
   "outputs": [
    {
     "output_type": "stream",
     "name": "stdout",
     "text": [
      "[4, 5, 6, 7, 8]\n[9, 8, 7, 6, 5]\n[8, 7, 6, 5, 4]\n[8, 7, 6, 5, 4]\n"
     ]
    }
   ],
   "source": [
    "print(list(range(4,9)))\n",
    "print(list(range(9,4,-1)))\n",
    "print(list(range(8,3,-1)))\n",
    "print(list(range(4,9)[::-1]))"
   ]
  },
  {
   "source": [
    "### Exercise 4.5** (sliced ranges)\n",
    "\n",
    "The expression range(x, y, z)[i:j:k] returns a new range(a,b,c). Note that z and k can be negative, but not zero. E.g. range(3, 18, 2)[5:2:-2] returns range(13, 7, -4). Write a program that given integers x, y, z, i, j, and k computes a, b, and c. The program is not allowed to create a range explicitly, like the below.\n",
    "\n",
    "r = range(x, y, z)[i:j:k]\n",
    "\n",
    "a = r.start\n",
    "\n",
    "b = r.stop\n",
    "\n",
    "c = r.step\n"
   ],
   "cell_type": "markdown",
   "metadata": {}
  },
  {
   "cell_type": "code",
   "execution_count": null,
   "metadata": {},
   "outputs": [],
   "source": [
    "import random\n",
    "\n",
    "while True:\n",
    "    x, y, z, i, j, k = [random.randint(-100, 100) for _ in range(6)]\n",
    "            \n",
    "    if z == 0 or k == 0: # skip illegal input\n",
    "        continue\n",
    "\n",
    "    r = range(x, y, z)[i:j:k]\n",
    "\n",
    "    << insert your code here >>\n",
    "\n",
    "    print(\"range(%s,%s,%s)[%s:%s:%s] =\" % (x, y, z, i, j, k), r)\n",
    "    \n",
    "    if r != range(a, b, c):\n",
    "        print(\"Wrong range: a b c =\", a, b, c)\n",
    "        break"
   ]
  },
  {
   "source": [
    "### Exercise 4.6 (multiplication table)\n",
    "\n",
    "Print a multiplication table of a given dimension. Below is shown the multiplication table for dimension 7. The program should ask the user to input the dimension of the table (≤ 100), and then print a multiplication table where all entries in a column are right aligned."
   ],
   "cell_type": "markdown",
   "metadata": {}
  },
  {
   "cell_type": "code",
   "execution_count": 3,
   "metadata": {
    "tags": []
   },
   "outputs": [
    {
     "output_type": "stream",
     "name": "stdout",
     "text": [
      "0\t0\t0\t0\t\n0\t1\t2\t3\t\n0\t2\t4\t6\t\n0\t3\t6\t9\t\n"
     ]
    }
   ],
   "source": [
    "n=int(input('Please enter a positive integer between 1 and 15: '))\n",
    "for row in range(n + 1):\n",
    "    for col in range(n+1):\n",
    "        print(row*col, end=\"\\t\")\n",
    "    print()"
   ]
  },
  {
   "source": [
    "### Exercise 4.7 (interval union)\n",
    "\n",
    "Make a program that given a list L of intervals with possible overlaps, where an interval is represented by a list [left-endpoint, right-endpoint] and e.g. L = [[1, 3], [6, 10], [2, 5], [8, 13]], generates a new list L_ of disjoint intervals but with identical union, e.g. L_ = [[1, 5], [6, 13]]. It is fine to let L be a constant in the program.\n",
    "\n",
    "Hint. Start by sorting the intervals using the builtin function sorted, and then process the intervals with respect to increasing starting point."
   ],
   "cell_type": "markdown",
   "metadata": {}
  },
  {
   "cell_type": "code",
   "execution_count": 104,
   "metadata": {},
   "outputs": [
    {
     "output_type": "stream",
     "name": "stdout",
     "text": [
      "[[1, 5], [6, 13]]\n"
     ]
    }
   ],
   "source": [
    "l = [[1, 3], [6, 10], [2, 5], [8, 13]]\n",
    "l_ = sorted(l)\n",
    "\n",
    "unions = [l_[0]]\n",
    "for v1, h1 in l_:\n",
    "    v0, h0 = unions[-1]\n",
    "    if v1 <= h0:\n",
    "        unions[-1] = [v0, max(h0,h1)]\n",
    "    else:\n",
    "        unions.append([v1,h1])\n",
    "\n",
    "print(unions)\n"
   ]
  },
  {
   "source": [
    "### handin 2\n",
    "\n",
    "Write a program that given a long string (say order 1.000.000 characters), computes all palindromic substrings of length ≥ 7, i.e. substrings spelled identical read forwards and backwards. You can use the below code to read a complete text from a file to a string, convert it to lower case, and remove everything except letters and digits. The file saxo.txt is a local copy of http://www.gutenberg.org/cache/epub/1150/pg1150.txt"
   ],
   "cell_type": "markdown",
   "metadata": {}
  },
  {
   "cell_type": "code",
   "execution_count": 69,
   "metadata": {
    "tags": []
   },
   "outputs": [],
   "source": [
    "from string import ascii_letters, digits\n",
    "\n",
    "s = open(\"saxo.txt\").read()  \n",
    "s = s.lower()\n",
    "s = \"\".join([c for c in s if c in ascii_letters or c in digits])"
   ]
  },
  {
   "cell_type": "code",
   "execution_count": 37,
   "metadata": {
    "tags": []
   },
   "outputs": [
    {
     "output_type": "stream",
     "name": "stdout",
     "text": [
      "allalla\n"
     ]
    }
   ],
   "source": [
    "s = \"abracadrabratrallalla\"\n",
    "s = \"@\" + s + \"#\"\n",
    "for i in range(len(s)):\n",
    "    for j in range(i + 7, len(s) + 1):\n",
    "        t = s[i:j]\n",
    "        if t == t[::-1]:\n",
    "            print(t)"
   ]
  },
  {
   "cell_type": "code",
   "execution_count": 16,
   "metadata": {},
   "outputs": [],
   "source": [
    "# Python program Find all distinct palindromic sub-strings \n",
    "# of a given string \n",
    "# Function to print all distinct palindrome sub-strings of s \n",
    "def palindromeSubStrs(s): \n",
    "    m = dict() \n",
    "    n = len(s) \n",
    "    # table for storing results (2 rows for odd- \n",
    "    # and even-length palindromes \n",
    "    R = [[0 for x in range(n+1)] for x in range(2)] \n",
    "    # Find all sub-string palindromes from the given input \n",
    "    # string insert 'guards' to iterate easily over s \n",
    "    s = \"@\" + s + \"#\"\n",
    "    for j in range(2): \n",
    "        rp = 0    # length of 'palindrome radius' \n",
    "        R[j][0] = 0\n",
    "  \n",
    "        i = 1\n",
    "        while i <= n: \n",
    "  \n",
    "            # Attempt to expand palindrome centered at i \n",
    "            while s[i - rp - 1] == s[i + j + rp]: \n",
    "                rp += 1 # Incrementing the length of palindromic \n",
    "                        # radius as and when we find valid palindrome \n",
    "  \n",
    "            # Assigning the found palindromic length to odd/even \n",
    "            # length array \n",
    "            R[j][i] = rp \n",
    "            k = 1\n",
    "            while (R[j][i - k] != rp - k) and (k < rp): \n",
    "                R[j][i+k] = min(R[j][i-k], rp - k) \n",
    "                k += 1\n",
    "            rp = max(rp - k, 0) \n",
    "            i += k \n",
    "  \n",
    "    # remove guards \n",
    "    s = s[1:len(s)-1] \n",
    "    # Put all obtained palindromes in a hash map to \n",
    "    # find only distinct palindrome \n",
    "    m[s[0]] = 1\n",
    "    for i in range(1,n): \n",
    "        for j in range(2): \n",
    "            for rp in range(R[j][i],0,-1): \n",
    "                m[s[i - rp - 1 : i - rp - 1 + 2 * rp + j]] = 1\n",
    "        m[s[i]] = 1\n",
    "  \n",
    "    # printing all distinct palindromes from hash map \n",
    "    print(\"Below are \" + str(len(m)) + \" pali sub-strings\")\n",
    "    for i in m: \n",
    "        print(i)"
   ]
  },
  {
   "cell_type": "code",
   "execution_count": null,
   "metadata": {},
   "outputs": [],
   "source": [
    "s = \"abracadrabratrallalla\"\n",
    "m = dict()\n",
    "n = len(s)\n",
    "R = [[0 for x in range(n+1)] for x in range(2)] \n",
    "s = \"@\" + s + \"#\"\n",
    "for j in range(2):\n",
    "        rp = 0\n",
    "        R[j][0] = 0\n",
    "        i = 1"
   ]
  },
  {
   "cell_type": "code",
   "execution_count": 17,
   "metadata": {},
   "outputs": [
    {
     "output_type": "stream",
     "name": "stdout",
     "text": [
      "Below are 13 pali sub-strings\na\nb\nr\nc\naca\nd\nt\nl\nalla\nll\nallalla\nllall\nlal\n"
     ]
    }
   ],
   "source": [
    "palindromeSubStrs(\"abracadrabratrallalla\")"
   ]
  },
  {
   "cell_type": "code",
   "execution_count": 98,
   "metadata": {},
   "outputs": [],
   "source": [
    "def palindromeSubStrs(s): \n",
    "    m = dict() \n",
    "    n = len(s) \n",
    "    R = [[0 for x in range(n+1)] for x in range(2)] \n",
    "    s = \"@\" + s + \"#\"\n",
    "    for j in range(2): \n",
    "        rp = 0  \n",
    "        R[j][0] = 0\n",
    "        i = 1\n",
    "        while i <= n: \n",
    "            while s[i - rp - 1] == s[i + j + rp]: \n",
    "                rp += 1  \n",
    "            R[j][i] = rp \n",
    "            k = 1\n",
    "            while (R[j][i - k] != rp - k) and (k < rp): \n",
    "                R[j][i+k] = min(R[j][i-k], rp - k) \n",
    "                k += 1\n",
    "            rp = max(rp - k, 0) \n",
    "            i += k \n",
    "    s = s[1:len(s)-1] \n",
    "    m[s[0]] = 1\n",
    "    for i in range(1,n): \n",
    "        for j in range(2): \n",
    "            for rp in range(R[j][i],0,-1): \n",
    "                m[s[i - rp - 1 : i - rp - 1 + 2 * rp + j]] = 1\n",
    "        m[s[i]] = 1\n",
    "    print(\"Below are \" + str(len(m)) + \" pali sub-strings\")\n",
    "    for i in m: \n",
    "        print(i)"
   ]
  },
  {
   "cell_type": "code",
   "execution_count": 99,
   "metadata": {},
   "outputs": [
    {
     "output_type": "error",
     "ename": "TypeError",
     "evalue": "list indices must be integers or slices, not str",
     "traceback": [
      "\u001b[0;31m---------------------------------------------------------------------------\u001b[0m",
      "\u001b[0;31mTypeError\u001b[0m                                 Traceback (most recent call last)",
      "\u001b[0;32m<ipython-input-99-0c96c01f359a>\u001b[0m in \u001b[0;36m<module>\u001b[0;34m\u001b[0m\n\u001b[0;32m----> 1\u001b[0;31m \u001b[0mpalindromeSubStrs\u001b[0m\u001b[0;34m(\u001b[0m\u001b[0;34m\"abracadrabratrallalla\"\u001b[0m\u001b[0;34m)\u001b[0m\u001b[0;34m\u001b[0m\u001b[0;34m\u001b[0m\u001b[0m\n\u001b[0m",
      "\u001b[0;32m<ipython-input-98-91b7963d828d>\u001b[0m in \u001b[0;36mpalindromeSubStrs\u001b[0;34m(s)\u001b[0m\n\u001b[1;32m     19\u001b[0m             \u001b[0mi\u001b[0m \u001b[0;34m+=\u001b[0m \u001b[0mk\u001b[0m\u001b[0;34m\u001b[0m\u001b[0;34m\u001b[0m\u001b[0m\n\u001b[1;32m     20\u001b[0m     \u001b[0ms\u001b[0m \u001b[0;34m=\u001b[0m \u001b[0ms\u001b[0m\u001b[0;34m[\u001b[0m\u001b[0;36m1\u001b[0m\u001b[0;34m:\u001b[0m\u001b[0mlen\u001b[0m\u001b[0;34m(\u001b[0m\u001b[0ms\u001b[0m\u001b[0;34m)\u001b[0m\u001b[0;34m-\u001b[0m\u001b[0;36m1\u001b[0m\u001b[0;34m]\u001b[0m\u001b[0;34m\u001b[0m\u001b[0;34m\u001b[0m\u001b[0m\n\u001b[0;32m---> 21\u001b[0;31m     \u001b[0mm\u001b[0m\u001b[0;34m[\u001b[0m\u001b[0ms\u001b[0m\u001b[0;34m[\u001b[0m\u001b[0;36m0\u001b[0m\u001b[0;34m]\u001b[0m\u001b[0;34m]\u001b[0m \u001b[0;34m=\u001b[0m \u001b[0;36m1\u001b[0m\u001b[0;34m\u001b[0m\u001b[0;34m\u001b[0m\u001b[0m\n\u001b[0m\u001b[1;32m     22\u001b[0m     \u001b[0;32mfor\u001b[0m \u001b[0mi\u001b[0m \u001b[0;32min\u001b[0m \u001b[0mrange\u001b[0m\u001b[0;34m(\u001b[0m\u001b[0;36m1\u001b[0m\u001b[0;34m,\u001b[0m\u001b[0mn\u001b[0m\u001b[0;34m)\u001b[0m\u001b[0;34m:\u001b[0m\u001b[0;34m\u001b[0m\u001b[0;34m\u001b[0m\u001b[0m\n\u001b[1;32m     23\u001b[0m         \u001b[0;32mfor\u001b[0m \u001b[0mj\u001b[0m \u001b[0;32min\u001b[0m \u001b[0mrange\u001b[0m\u001b[0;34m(\u001b[0m\u001b[0;36m2\u001b[0m\u001b[0;34m)\u001b[0m\u001b[0;34m:\u001b[0m\u001b[0;34m\u001b[0m\u001b[0;34m\u001b[0m\u001b[0m\n",
      "\u001b[0;31mTypeError\u001b[0m: list indices must be integers or slices, not str"
     ]
    }
   ],
   "source": [
    "palindromeSubStrs(\"abracadrabratrallalla\")"
   ]
  },
  {
   "cell_type": "code",
   "execution_count": 95,
   "metadata": {},
   "outputs": [
    {
     "output_type": "stream",
     "name": "stdout",
     "text": [
      "Below are 60 pali sub-strings\nerewere\nerasare\nhtoboth\nterpret\nerotore\nacebeca\nhenoneh\noseyeso\nossesso\nhparaph\nonsasno\nasitisa\nlnotonl\nerevere\nowerewo\norehero\neremere\nstitits\notallato\nedivide\nerehere\nusehesu\npreferp\nileheli\nterbret\neirfrie\neirgrie\nllasall\natimita\ncalylac\nigningi\nlothtol\nnownwon\necipice\nenofone\nrewswer\nhtogoth\nartotra\nrderedr\nmansnam\nsareras\nhtodoth\nhenineh\netabate\nanamana\nsrevers\nolafalo\nondidno\nisdeedsi\nersdeedsre\nrsdeedsr\ninapani\nualslau\natafata\nehebehe\nputitup\nrtogotr\nnderedn\nhtoroth\nississi\n"
     ]
    }
   ],
   "source": [
    "    from string import ascii_letters, digits\n",
    "\n",
    "    s = open(\"saxo.txt\").read()  \n",
    "    s = s.lower()\n",
    "    s = \"\".join([c for c in s if c in ascii_letters or c in digits])\n",
    "    m = dict() \n",
    "    n = len(s) \n",
    "    R = [[0 for x in range(n+1)] for x in range(2)] \n",
    "    s = \"@\" + s + \"#\"\n",
    "    for j in range(2): \n",
    "        rp = 0  \n",
    "        R[j][0] = 0\n",
    "        i = 1\n",
    "        while i <= n: \n",
    "            while s[i - rp - 1] == s[i + j + rp]: \n",
    "                rp += 1  \n",
    "            R[j][i] = rp \n",
    "            k = 1\n",
    "            while (R[j][i - k] != rp - k) and (k < rp): \n",
    "                R[j][i+k] = min(R[j][i-k], rp - k) \n",
    "                k += 1\n",
    "            rp = max(rp - k, 0) \n",
    "            i += k \n",
    "    s = s[1:len(s)-1] \n",
    "    m[s[0]] = 1\n",
    "    for i in range(1,n): \n",
    "        for j in range(2): \n",
    "            for rp in range(R[j][i],0,-1): \n",
    "                m[s[i - rp - 1 : i - rp - 1 + 2 * rp + j]] = 1\n",
    "        m[s[i]] = 1\n",
    "    m = dict(filter(lambda elem: len(elem[0]) >= 7,m.items()))\n",
    "    print(\"Below are \" + str(len(m)) + \" pali sub-strings\")\n",
    "    for i in m: \n",
    "        print(i)"
   ]
  },
  {
   "cell_type": "code",
   "execution_count": 73,
   "metadata": {},
   "outputs": [
    {
     "output_type": "error",
     "ename": "IndexError",
     "evalue": "tuple index out of range",
     "traceback": [
      "\u001b[0;31m---------------------------------------------------------------------------\u001b[0m",
      "\u001b[0;31mIndexError\u001b[0m                                Traceback (most recent call last)",
      "\u001b[0;32m<ipython-input-73-23987f1cb162>\u001b[0m in \u001b[0;36m<module>\u001b[0;34m\u001b[0m\n\u001b[0;32m----> 1\u001b[0;31m \u001b[0mnewDict\u001b[0m \u001b[0;34m=\u001b[0m \u001b[0mdict\u001b[0m\u001b[0;34m(\u001b[0m\u001b[0mfilter\u001b[0m\u001b[0;34m(\u001b[0m\u001b[0;32mlambda\u001b[0m \u001b[0melem\u001b[0m\u001b[0;34m:\u001b[0m \u001b[0mlen\u001b[0m\u001b[0;34m(\u001b[0m\u001b[0melem\u001b[0m\u001b[0;34m[\u001b[0m\u001b[0;36m2\u001b[0m\u001b[0;34m]\u001b[0m\u001b[0;34m)\u001b[0m \u001b[0;34m==\u001b[0m \u001b[0;36m6\u001b[0m\u001b[0;34m,\u001b[0m \u001b[0mm\u001b[0m\u001b[0;34m.\u001b[0m\u001b[0mitems\u001b[0m\u001b[0;34m(\u001b[0m\u001b[0;34m)\u001b[0m\u001b[0;34m)\u001b[0m\u001b[0;34m)\u001b[0m\u001b[0;34m\u001b[0m\u001b[0;34m\u001b[0m\u001b[0m\n\u001b[0m\u001b[1;32m      2\u001b[0m \u001b[0mprint\u001b[0m\u001b[0;34m(\u001b[0m\u001b[0mnewDict\u001b[0m\u001b[0;34m)\u001b[0m\u001b[0;34m\u001b[0m\u001b[0;34m\u001b[0m\u001b[0m\n",
      "\u001b[0;32m<ipython-input-73-23987f1cb162>\u001b[0m in \u001b[0;36m<lambda>\u001b[0;34m(elem)\u001b[0m\n\u001b[0;32m----> 1\u001b[0;31m \u001b[0mnewDict\u001b[0m \u001b[0;34m=\u001b[0m \u001b[0mdict\u001b[0m\u001b[0;34m(\u001b[0m\u001b[0mfilter\u001b[0m\u001b[0;34m(\u001b[0m\u001b[0;32mlambda\u001b[0m \u001b[0melem\u001b[0m\u001b[0;34m:\u001b[0m \u001b[0mlen\u001b[0m\u001b[0;34m(\u001b[0m\u001b[0melem\u001b[0m\u001b[0;34m[\u001b[0m\u001b[0;36m2\u001b[0m\u001b[0;34m]\u001b[0m\u001b[0;34m)\u001b[0m \u001b[0;34m==\u001b[0m \u001b[0;36m6\u001b[0m\u001b[0;34m,\u001b[0m \u001b[0mm\u001b[0m\u001b[0;34m.\u001b[0m\u001b[0mitems\u001b[0m\u001b[0;34m(\u001b[0m\u001b[0;34m)\u001b[0m\u001b[0;34m)\u001b[0m\u001b[0;34m)\u001b[0m\u001b[0;34m\u001b[0m\u001b[0;34m\u001b[0m\u001b[0m\n\u001b[0m\u001b[1;32m      2\u001b[0m \u001b[0mprint\u001b[0m\u001b[0;34m(\u001b[0m\u001b[0mnewDict\u001b[0m\u001b[0;34m)\u001b[0m\u001b[0;34m\u001b[0m\u001b[0;34m\u001b[0m\u001b[0m\n",
      "\u001b[0;31mIndexError\u001b[0m: tuple index out of range"
     ]
    }
   ],
   "source": [
    "newDict = dict(filter(lambda elem: len(elem[2]) == 6, m.items()))\n",
    "print(newDict)"
   ]
  },
  {
   "cell_type": "code",
   "execution_count": 68,
   "metadata": {},
   "outputs": [
    {
     "output_type": "stream",
     "name": "stdout",
     "text": [
      "Filtered Dictionary : \n{7: 'sam', 8: 'john', 9: 'mathew', 10: 'riti', 11: 'aadi', 12: 'sachin'}\n"
     ]
    }
   ],
   "source": [
    "dictOfNames = {\n",
    "   7 : 'sam',\n",
    "   8: 'john',\n",
    "   9: 'mathew',\n",
    "   10: 'riti',\n",
    "   11 : 'aadi',\n",
    "   12 : 'sachin'\n",
    "}\n",
    "print('Filtered Dictionary : ')\n",
    "print(dictOfNames)"
   ]
  },
  {
   "cell_type": "code",
   "execution_count": 79,
   "metadata": {},
   "outputs": [
    {
     "output_type": "execute_result",
     "data": {
      "text/plain": [
       "dict_items([('a', 1), ('b', 1), ('r', 1), ('c', 1), ('aca', 1), ('d', 1), ('t', 1), ('l', 1), ('alla', 1), ('ll', 1), ('allalla', 1), ('llall', 1), ('lal', 1)])"
      ]
     },
     "metadata": {},
     "execution_count": 79
    }
   ],
   "source": [
    "m.items()"
   ]
  },
  {
   "cell_type": "code",
   "execution_count": 85,
   "metadata": {},
   "outputs": [
    {
     "output_type": "execute_result",
     "data": {
      "text/plain": [
       "{'allalla': 1}"
      ]
     },
     "metadata": {},
     "execution_count": 85
    }
   ],
   "source": []
  },
  {
   "source": [
    "- %s er at indsætte streng\n",
    "- %.8f man forkorter float."
   ],
   "cell_type": "markdown",
   "metadata": {}
  }
 ]
}