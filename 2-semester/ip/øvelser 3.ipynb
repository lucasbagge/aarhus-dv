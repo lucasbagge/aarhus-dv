{
 "metadata": {
  "language_info": {
   "codemirror_mode": {
    "name": "ipython",
    "version": 3
   },
   "file_extension": ".py",
   "mimetype": "text/x-python",
   "name": "python",
   "nbconvert_exporter": "python",
   "pygments_lexer": "ipython3",
   "version": "3.9.1-final"
  },
  "orig_nbformat": 2,
  "kernelspec": {
   "name": "python3",
   "display_name": "Python 3",
   "language": "python"
  }
 },
 "nbformat": 4,
 "nbformat_minor": 2,
 "cells": [
  {
   "source": [
    "### 3.3\n"
   ],
   "cell_type": "markdown",
   "metadata": {}
  },
  {
   "cell_type": "code",
   "execution_count": 1,
   "metadata": {},
   "outputs": [
    {
     "output_type": "stream",
     "name": "stdout",
     "text": [
      "A string: 'Hello World'\nAn integer: 27\nA float: 27.0\nA float: 3.141592653589793\nA float: 3.141592653589793 A float: 3.141592653589793 \nA float: 6.283185307179586 \nA float: 3.14 \nA float: [ 3.14] \nA float: [ +3.14] \nA float: [+3.14] \nA float: [00003.14] \nAn integer: [00000042] \n"
     ]
    }
   ],
   "source": [
    "from math import pi\n",
    "print(\"A string: '%s'\" % \"Hello World\")\n",
    "print(\"An integer: %s\" % 27)\n",
    "print(\"A float: %s\" % 27.0)\n",
    "print(\"A float: %s\" % pi)\n",
    "print(\"A float: %s \" % pi*2)\n",
    "print(\"A float: %s \" % (pi*2))\n",
    "print(\"A float: %.2f \" % pi)\n",
    "print(\"A float: [%5.2f] \" % pi)\n",
    "print(\"A float: [%+6.2f] \" % pi)\n",
    "print(\"A float: [%+.2f] \" % pi)\n",
    "print(\"A float: [%08.2f] \" % pi)\n",
    "print(\"An integer: [%08d] \" % 42)"
   ]
  },
  {
   "source": [
    "### Exercise 4.1 (list aliasing and list copy)\n",
    "\n",
    "\n"
   ],
   "cell_type": "markdown",
   "metadata": {}
  },
  {
   "cell_type": "code",
   "execution_count": 2,
   "metadata": {},
   "outputs": [
    {
     "output_type": "stream",
     "name": "stdout",
     "text": [
      "[[5, 6], [3, 7]] [[5, 6], [3, 7]] [[1, 2], [3, 7]]\n"
     ]
    }
   ],
   "source": [
    "a = [[1, 2], [3, 4]]\n",
    "b = a\n",
    "c = a[:]\n",
    "b[0] = [5, 6]\n",
    "c[1][1] = 7\n",
    "print(a, b, c)"
   ]
  },
  {
   "source": [
    "### 4.2 infinite recursive list"
   ],
   "cell_type": "markdown",
   "metadata": {}
  },
  {
   "cell_type": "code",
   "execution_count": 3,
   "metadata": {},
   "outputs": [
    {
     "output_type": "stream",
     "name": "stdout",
     "text": [
      "[[...]]\n"
     ]
    }
   ],
   "source": [
    "a = [42]\n",
    "a[0] = a\n",
    "print(a)"
   ]
  },
  {
   "source": [
    "### Exercise 4.3 infinite recursive indexing"
   ],
   "cell_type": "markdown",
   "metadata": {}
  },
  {
   "cell_type": "code",
   "execution_count": 4,
   "metadata": {},
   "outputs": [
    {
     "output_type": "stream",
     "name": "stdout",
     "text": [
      "[[...], 7]\n7\n7\n7\n7\n7\n7\n"
     ]
    }
   ],
   "source": [
    "x = [0, 7]\n",
    "x[0] = x\n",
    "print(x)\n",
    "print(x[1])\n",
    "print(x[0][1])\n",
    "print(x[0][0][1])\n",
    "print(x[0][0][0][1])\n",
    "print(x[0][0][0][0][1])\n",
    "print(x[0][0][0][0][0][1])"
   ]
  },
  {
   "source": [
    "### Exercise 4.4 (ranges and slices)\n",
    "Run the below code and explain what is happing. What notations is most intuitive and consistent?\n",
    "\n"
   ],
   "cell_type": "markdown",
   "metadata": {}
  },
  {
   "cell_type": "code",
   "execution_count": 5,
   "metadata": {},
   "outputs": [
    {
     "output_type": "execute_result",
     "data": {
      "text/plain": [
       "[8, 7, 6, 5, 4]"
      ]
     },
     "metadata": {},
     "execution_count": 5
    }
   ],
   "source": [
    "list(range(4,9))\n",
    "list(range(9,4,-1))\n",
    "list(range(8,3,-1))\n",
    "list(range(4,9)[::-1])"
   ]
  },
  {
   "source": [
    "### Exercise 4.5** (sliced ranges)\n",
    "\n",
    "The expression range(x, y, z)[i:j:k] returns a new range(a,b,c). Note that z and k can be negative, but not zero. E.g. range(3, 18, 2)[5:2:-2] returns range(13, 7, -4). Write a program that given integers x, y, z, i, j, and k computes a, b, and c. The program is not allowed to create a range explicitly, like the below.\n",
    "\n",
    "r = range(x, y, z)[i:j:k]\n",
    "\n",
    "a = r.start\n",
    "\n",
    "b = r.stop\n",
    "\n",
    "c = r.step\n"
   ],
   "cell_type": "markdown",
   "metadata": {}
  },
  {
   "source": [
    "### Exercise 4.6 (multiplication table)\n",
    "\n",
    "Print a multiplication table of a given dimension. Below is shown the multiplication table for dimension 7. The program should ask the user to input the dimension of the table (≤ 100), and then print a multiplication table where all entries in a column are right aligned."
   ],
   "cell_type": "markdown",
   "metadata": {}
  },
  {
   "cell_type": "code",
   "execution_count": 22,
   "metadata": {
    "tags": []
   },
   "outputs": [
    {
     "output_type": "stream",
     "name": "stdout",
     "text": [
      "-1\t-2\t\n0\t0\t\n1\t2\t\n2\t4\t\n"
     ]
    }
   ],
   "source": [
    "n=int(input('Please enter a positive integer between 1 and 15: '))\n",
    "for row in range(1, n + 1):\n",
    "    for col in range(1 ,n+1):\n",
    "        print(row*col, end=\"\\t\")\n",
    "    print()"
   ]
  },
  {
   "cell_type": "code",
   "execution_count": 16,
   "metadata": {},
   "outputs": [
    {
     "output_type": "stream",
     "name": "stdout",
     "text": [
      "Help on class range in module builtins:\n\nclass range(object)\n |  range(stop) -> range object\n |  range(start, stop[, step]) -> range object\n |  \n |  Return an object that produces a sequence of integers from start (inclusive)\n |  to stop (exclusive) by step.  range(i, j) produces i, i+1, i+2, ..., j-1.\n |  start defaults to 0, and stop is omitted!  range(4) produces 0, 1, 2, 3.\n |  These are exactly the valid indices for a list of 4 elements.\n |  When step is given, it specifies the increment (or decrement).\n |  \n |  Methods defined here:\n |  \n |  __bool__(self, /)\n |      self != 0\n |  \n |  __contains__(self, key, /)\n |      Return key in self.\n |  \n |  __eq__(self, value, /)\n |      Return self==value.\n |  \n |  __ge__(self, value, /)\n |      Return self>=value.\n |  \n |  __getattribute__(self, name, /)\n |      Return getattr(self, name).\n |  \n |  __getitem__(self, key, /)\n |      Return self[key].\n |  \n |  __gt__(self, value, /)\n |      Return self>value.\n |  \n |  __hash__(self, /)\n |      Return hash(self).\n |  \n |  __iter__(self, /)\n |      Implement iter(self).\n |  \n |  __le__(self, value, /)\n |      Return self<=value.\n |  \n |  __len__(self, /)\n |      Return len(self).\n |  \n |  __lt__(self, value, /)\n |      Return self<value.\n |  \n |  __ne__(self, value, /)\n |      Return self!=value.\n |  \n |  __reduce__(...)\n |      Helper for pickle.\n |  \n |  __repr__(self, /)\n |      Return repr(self).\n |  \n |  __reversed__(...)\n |      Return a reverse iterator.\n |  \n |  count(...)\n |      rangeobject.count(value) -> integer -- return number of occurrences of value\n |  \n |  index(...)\n |      rangeobject.index(value) -> integer -- return index of value.\n |      Raise ValueError if the value is not present.\n |  \n |  ----------------------------------------------------------------------\n |  Static methods defined here:\n |  \n |  __new__(*args, **kwargs) from builtins.type\n |      Create and return a new object.  See help(type) for accurate signature.\n |  \n |  ----------------------------------------------------------------------\n |  Data descriptors defined here:\n |  \n |  start\n |  \n |  step\n |  \n |  stop\n\n"
     ]
    }
   ],
   "source": [
    "help(range)"
   ]
  },
  {
   "source": [
    "### Exercise 4.7 (interval union)\n",
    "\n",
    "Make a program that given a list L of intervals with possible overlaps, where an interval is represented by a list [left-endpoint, right-endpoint] and e.g. L = [[1, 3], [6, 10], [2, 5], [8, 13]], generates a new list L_ of disjoint intervals but with identical union, e.g. L_ = [[1, 5], [6, 13]]. It is fine to let L be a constant in the program.\n",
    "\n",
    "Hint. Start by sorting the intervals using the builtin function sorted, and then process the intervals with respect to increasing starting point."
   ],
   "cell_type": "markdown",
   "metadata": {}
  }
 ]
}