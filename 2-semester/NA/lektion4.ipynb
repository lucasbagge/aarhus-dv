{
 "metadata": {
  "language_info": {
   "codemirror_mode": {
    "name": "ipython",
    "version": 3
   },
   "file_extension": ".py",
   "mimetype": "text/x-python",
   "name": "python",
   "nbconvert_exporter": "python",
   "pygments_lexer": "ipython3",
   "version": 3
  },
  "orig_nbformat": 2
 },
 "nbformat": 4,
 "nbformat_minor": 2,
 "cells": [
  {
   "source": [
    "## Forlæsnign 4\n",
    "\n",
    "- række søjleprodukt\n",
    "- matrixprodukt\n",
    "- regneregler"
   ],
   "cell_type": "markdown",
   "metadata": {}
  },
  {
   "source": [
    "### Række søjleprodukt\n",
    "\n",
    "- gennemgår de forskellige regler\n",
    "\n",
    "#### Polynomier\n",
    "\n",
    "- **Vandemondevektoren** er en vektor $R_{nx1}$\n",
    "- det har 1 på første indgang.\n",
    "- viser en måde at evaluer x0 på. "
   ],
   "cell_type": "markdown",
   "metadata": {}
  }
 ]
}